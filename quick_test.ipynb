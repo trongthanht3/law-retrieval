{
 "cells": [
  {
   "cell_type": "markdown",
   "metadata": {
    "id": "DZjt1jrXGM_f"
   },
   "source": [
    "# Install library"
   ]
  },
  {
   "cell_type": "code",
   "execution_count": 22,
   "metadata": {
    "colab": {
     "base_uri": "https://localhost:8080/"
    },
    "id": "3WCZ6iw7F97Y",
    "outputId": "3a31489a-abee-4b01-93c2-cf58e04085bd"
   },
   "outputs": [
    {
     "name": "stdout",
     "output_type": "stream",
     "text": [
      "Collecting tensorboard\n",
      "  Downloading tensorboard-2.15.1-py3-none-any.whl (5.5 MB)\n",
      "\u001b[2K     \u001b[90m━━━━━━━━━━━━━━━━━━━━━━━━━━━━━━━━━━━━━━━━\u001b[0m \u001b[32m5.5/5.5 MB\u001b[0m \u001b[31m18.5 MB/s\u001b[0m eta \u001b[36m0:00:00\u001b[0ma \u001b[36m0:00:01\u001b[0m\n",
      "\u001b[?25hRequirement already satisfied: requests<3,>=2.21.0 in /opt/conda/lib/python3.10/site-packages (from tensorboard) (2.31.0)\n",
      "Collecting tensorboard-data-server<0.8.0,>=0.7.0\n",
      "  Downloading tensorboard_data_server-0.7.2-py3-none-manylinux_2_31_x86_64.whl (6.6 MB)\n",
      "\u001b[2K     \u001b[90m━━━━━━━━━━━━━━━━━━━━━━━━━━━━━━━━━━━━━━━━\u001b[0m \u001b[32m6.6/6.6 MB\u001b[0m \u001b[31m53.8 MB/s\u001b[0m eta \u001b[36m0:00:00\u001b[0m00:01\u001b[0m00:01\u001b[0m\n",
      "\u001b[?25hRequirement already satisfied: numpy>=1.12.0 in /opt/conda/lib/python3.10/site-packages (from tensorboard) (1.24.3)\n",
      "Collecting grpcio>=1.48.2\n",
      "  Downloading grpcio-1.59.3-cp310-cp310-manylinux_2_17_x86_64.manylinux2014_x86_64.whl (5.3 MB)\n",
      "\u001b[2K     \u001b[90m━━━━━━━━━━━━━━━━━━━━━━━━━━━━━━━━━━━━━━━━\u001b[0m \u001b[32m5.3/5.3 MB\u001b[0m \u001b[31m37.6 MB/s\u001b[0m eta \u001b[36m0:00:00\u001b[0ma \u001b[36m0:00:01\u001b[0mm\n",
      "\u001b[?25hCollecting werkzeug>=1.0.1\n",
      "  Downloading werkzeug-3.0.1-py3-none-any.whl (226 kB)\n",
      "\u001b[2K     \u001b[90m━━━━━━━━━━━━━━━━━━━━━━━━━━━━━━━━━━━━━━\u001b[0m \u001b[32m226.7/226.7 kB\u001b[0m \u001b[31m47.7 MB/s\u001b[0m eta \u001b[36m0:00:00\u001b[0m\n",
      "\u001b[?25hCollecting absl-py>=0.4\n",
      "  Downloading absl_py-2.0.0-py3-none-any.whl (130 kB)\n",
      "\u001b[2K     \u001b[90m━━━━━━━━━━━━━━━━━━━━━━━━━━━━━━━━━━━━━━\u001b[0m \u001b[32m130.2/130.2 kB\u001b[0m \u001b[31m33.0 MB/s\u001b[0m eta \u001b[36m0:00:00\u001b[0m\n",
      "\u001b[?25hRequirement already satisfied: setuptools>=41.0.0 in /opt/conda/lib/python3.10/site-packages (from tensorboard) (65.6.3)\n",
      "Collecting protobuf<4.24,>=3.19.6\n",
      "  Downloading protobuf-4.23.4-cp37-abi3-manylinux2014_x86_64.whl (304 kB)\n",
      "\u001b[2K     \u001b[90m━━━━━━━━━━━━━━━━━━━━━━━━━━━━━━━━━━━━━━\u001b[0m \u001b[32m304.5/304.5 kB\u001b[0m \u001b[31m59.7 MB/s\u001b[0m eta \u001b[36m0:00:00\u001b[0m\n",
      "\u001b[?25hCollecting google-auth-oauthlib<2,>=0.5\n",
      "  Downloading google_auth_oauthlib-1.1.0-py2.py3-none-any.whl (19 kB)\n",
      "Requirement already satisfied: six>1.9 in /opt/conda/lib/python3.10/site-packages (from tensorboard) (1.16.0)\n",
      "Collecting google-auth<3,>=1.6.3\n",
      "  Downloading google_auth-2.23.4-py2.py3-none-any.whl (183 kB)\n",
      "\u001b[2K     \u001b[90m━━━━━━━━━━━━━━━━━━━━━━━━━━━━━━━━━━━━━━\u001b[0m \u001b[32m183.3/183.3 kB\u001b[0m \u001b[31m47.7 MB/s\u001b[0m eta \u001b[36m0:00:00\u001b[0m\n",
      "\u001b[?25hCollecting markdown>=2.6.8\n",
      "  Downloading Markdown-3.5.1-py3-none-any.whl (102 kB)\n",
      "\u001b[2K     \u001b[90m━━━━━━━━━━━━━━━━━━━━━━━━━━━━━━━━━━━━━━\u001b[0m \u001b[32m102.2/102.2 kB\u001b[0m \u001b[31m27.7 MB/s\u001b[0m eta \u001b[36m0:00:00\u001b[0m\n",
      "\u001b[?25hCollecting cachetools<6.0,>=2.0.0\n",
      "  Downloading cachetools-5.3.2-py3-none-any.whl (9.3 kB)\n",
      "Collecting rsa<5,>=3.1.4\n",
      "  Downloading rsa-4.9-py3-none-any.whl (34 kB)\n",
      "Collecting pyasn1-modules>=0.2.1\n",
      "  Downloading pyasn1_modules-0.3.0-py2.py3-none-any.whl (181 kB)\n",
      "\u001b[2K     \u001b[90m━━━━━━━━━━━━━━━━━━━━━━━━━━━━━━━━━━━━━━\u001b[0m \u001b[32m181.3/181.3 kB\u001b[0m \u001b[31m51.0 MB/s\u001b[0m eta \u001b[36m0:00:00\u001b[0m\n",
      "\u001b[?25hCollecting requests-oauthlib>=0.7.0\n",
      "  Downloading requests_oauthlib-1.3.1-py2.py3-none-any.whl (23 kB)\n",
      "Requirement already satisfied: charset-normalizer<4,>=2 in /opt/conda/lib/python3.10/site-packages (from requests<3,>=2.21.0->tensorboard) (2.0.4)\n",
      "Requirement already satisfied: urllib3<3,>=1.21.1 in /opt/conda/lib/python3.10/site-packages (from requests<3,>=2.21.0->tensorboard) (1.26.15)\n",
      "Requirement already satisfied: certifi>=2017.4.17 in /opt/conda/lib/python3.10/site-packages (from requests<3,>=2.21.0->tensorboard) (2023.5.7)\n",
      "Requirement already satisfied: idna<4,>=2.5 in /opt/conda/lib/python3.10/site-packages (from requests<3,>=2.21.0->tensorboard) (3.4)\n",
      "Requirement already satisfied: MarkupSafe>=2.1.1 in /opt/conda/lib/python3.10/site-packages (from werkzeug>=1.0.1->tensorboard) (2.1.1)\n",
      "Collecting pyasn1<0.6.0,>=0.4.6\n",
      "  Downloading pyasn1-0.5.0-py2.py3-none-any.whl (83 kB)\n",
      "\u001b[2K     \u001b[90m━━━━━━━━━━━━━━━━━━━━━━━━━━━━━━━━━━━━━━━━\u001b[0m \u001b[32m83.9/83.9 kB\u001b[0m \u001b[31m22.6 MB/s\u001b[0m eta \u001b[36m0:00:00\u001b[0m\n",
      "\u001b[?25hCollecting oauthlib>=3.0.0\n",
      "  Downloading oauthlib-3.2.2-py3-none-any.whl (151 kB)\n",
      "\u001b[2K     \u001b[90m━━━━━━━━━━━━━━━━━━━━━━━━━━━━━━━━━━━━━━\u001b[0m \u001b[32m151.7/151.7 kB\u001b[0m \u001b[31m35.7 MB/s\u001b[0m eta \u001b[36m0:00:00\u001b[0m\n",
      "\u001b[?25hInstalling collected packages: werkzeug, tensorboard-data-server, pyasn1, protobuf, oauthlib, markdown, grpcio, cachetools, absl-py, rsa, requests-oauthlib, pyasn1-modules, google-auth, google-auth-oauthlib, tensorboard\n",
      "Successfully installed absl-py-2.0.0 cachetools-5.3.2 google-auth-2.23.4 google-auth-oauthlib-1.1.0 grpcio-1.59.3 markdown-3.5.1 oauthlib-3.2.2 protobuf-4.23.4 pyasn1-0.5.0 pyasn1-modules-0.3.0 requests-oauthlib-1.3.1 rsa-4.9 tensorboard-2.15.1 tensorboard-data-server-0.7.2 werkzeug-3.0.1\n",
      "\u001b[33mWARNING: Running pip as the 'root' user can result in broken permissions and conflicting behaviour with the system package manager. It is recommended to use a virtual environment instead: https://pip.pypa.io/warnings/venv\u001b[0m\u001b[33m\n",
      "\u001b[0m"
     ]
    }
   ],
   "source": [
    "# !pip install -U sentence-transformers\n",
    "# !pip install transformers\n",
    "# !pip install gdown\n",
    "# !pip install pandas\n",
    "# !pip install tqdm\n",
    "# !pip install numpy\n",
    "# !pip install seaborn\n",
    "!pip install tensorboard"
   ]
  },
  {
   "cell_type": "code",
   "execution_count": 3,
   "metadata": {
    "colab": {
     "base_uri": "https://localhost:8080/"
    },
    "id": "go1xIMP4GVYA",
    "outputId": "967f4547-f72d-4267-ba04-cd57c610ac90"
   },
   "outputs": [
    {
     "name": "stdout",
     "output_type": "stream",
     "text": [
      "/opt/conda/lib/python3.10/site-packages/gdown/cli.py:126: FutureWarning: Option `--id` was deprecated in version 4.3.1 and will be removed in 5.0. You don't need to pass it anymore to use a file ID.\n",
      "  warnings.warn(\n",
      "Downloading...\n",
      "From (uriginal): https://drive.google.com/uc?id=1-6djK3NYWpSH0CGUOvAMrFhv9yyzUYmc\n",
      "From (redirected): https://drive.google.com/uc?id=1-6djK3NYWpSH0CGUOvAMrFhv9yyzUYmc&confirm=t&uuid=f86f7a01-a6dc-4065-98a5-7b1242bf24ef\n",
      "To: /workspace/training_data_final.csv\n",
      "100%|██████████████████████████████████████| 1.08G/1.08G [00:24<00:00, 44.3MB/s]\n"
     ]
    }
   ],
   "source": [
    "!mkdir data\n",
    "!gdown --id 1-6djK3NYWpSH0CGUOvAMrFhv9yyzUYmc"
   ]
  },
  {
   "cell_type": "code",
   "execution_count": 4,
   "metadata": {},
   "outputs": [],
   "source": [
    "!mv /workspace/training_data_final.csv /workspace/data"
   ]
  },
  {
   "cell_type": "code",
   "execution_count": 5,
   "metadata": {},
   "outputs": [
    {
     "name": "stdout",
     "output_type": "stream",
     "text": [
      "/opt/conda/lib/python3.10/site-packages/gdown/cli.py:126: FutureWarning: Option `--id` was deprecated in version 4.3.1 and will be removed in 5.0. You don't need to pass it anymore to use a file ID.\n",
      "  warnings.warn(\n",
      "Downloading...\n",
      "From (uriginal): https://drive.google.com/uc?id=1-H0SDShzmkUaJyuhe9jFMzeD08KqINwN\n",
      "From (redirected): https://drive.google.com/uc?id=1-H0SDShzmkUaJyuhe9jFMzeD08KqINwN&confirm=t&uuid=538e7901-477d-49d4-bcdc-fd7b7ed1f692\n",
      "To: /workspace/df_train_zalo_60k_v3.csv\n",
      "100%|████████████████████████████████████████| 516M/516M [00:05<00:00, 89.4MB/s]\n"
     ]
    }
   ],
   "source": [
    "!gdown --id 1-H0SDShzmkUaJyuhe9jFMzeD08KqINwN"
   ]
  },
  {
   "cell_type": "code",
   "execution_count": 7,
   "metadata": {},
   "outputs": [
    {
     "name": "stdout",
     "output_type": "stream",
     "text": [
      "/opt/conda/lib/python3.10/site-packages/gdown/cli.py:126: FutureWarning: Option `--id` was deprecated in version 4.3.1 and will be removed in 5.0. You don't need to pass it anymore to use a file ID.\n",
      "  warnings.warn(\n",
      "Downloading...\n",
      "From: https://drive.google.com/uc?id=1UidNRusCqwrE5zAnACyAMlk9Kn6gBWII\n",
      "To: /workspace/Bản sao của train.csv\n",
      "100%|██████████████████████████████████████| 56.4M/56.4M [00:01<00:00, 37.1MB/s]\n"
     ]
    }
   ],
   "source": [
    "!gdown --id 1UidNRusCqwrE5zAnACyAMlk9Kn6gBWII"
   ]
  },
  {
   "cell_type": "markdown",
   "metadata": {
    "id": "Vak8z15GGRBg"
   },
   "source": [
    "# Import lib"
   ]
  },
  {
   "cell_type": "code",
   "execution_count": 1,
   "metadata": {
    "id": "Z8sJMZFOGLZg"
   },
   "outputs": [],
   "source": [
    "from sentence_transformers import SentenceTransformer, models, InputExample, losses, LoggingHandler\n",
    "from torch.utils.data import DataLoader\n",
    "import pickle\n",
    "from sentence_transformers import evaluation\n",
    "import logging\n",
    "from tqdm import tqdm"
   ]
  },
  {
   "cell_type": "code",
   "execution_count": 2,
   "metadata": {
    "id": "eqhtVfWLGsXp"
   },
   "outputs": [],
   "source": [
    "logging.basicConfig(format='%(asctime)s - %(message)s',\n",
    "                        datefmt='%Y-%m-%d %H:%M:%S',\n",
    "                        level=logging.INFO,\n",
    "                        handlers=[LoggingHandler()])"
   ]
  },
  {
   "cell_type": "code",
   "execution_count": 12,
   "metadata": {
    "id": "ucRrfOkRGtI3"
   },
   "outputs": [
    {
     "name": "stdout",
     "output_type": "stream",
     "text": [
      "2023-11-17 20:36:13 - Use pytorch device: cuda\n"
     ]
    }
   ],
   "source": [
    "word_embedding_model = models.Transformer(\"vinai/phobert-large\", max_seq_length=256)\n",
    "pooling_model = models.Pooling(word_embedding_model.get_word_embedding_dimension())\n",
    "model = SentenceTransformer(modules=[word_embedding_model, pooling_model])"
   ]
  },
  {
   "cell_type": "code",
   "execution_count": 13,
   "metadata": {},
   "outputs": [
    {
     "data": {
      "text/plain": [
       "SentenceTransformer(\n",
       "  (0): Transformer({'max_seq_length': 256, 'do_lower_case': False}) with Transformer model: RobertaModel \n",
       "  (1): Pooling({'word_embedding_dimension': 1024, 'pooling_mode_cls_token': False, 'pooling_mode_mean_tokens': True, 'pooling_mode_max_tokens': False, 'pooling_mode_mean_sqrt_len_tokens': False})\n",
       ")"
      ]
     },
     "execution_count": 13,
     "metadata": {},
     "output_type": "execute_result"
    }
   ],
   "source": [
    "model"
   ]
  },
  {
   "cell_type": "code",
   "execution_count": 14,
   "metadata": {},
   "outputs": [
    {
     "name": "stdout",
     "output_type": "stream",
     "text": [
      "Fri Nov 17 20:36:13 2023       \n",
      "+---------------------------------------------------------------------------------------+\n",
      "| NVIDIA-SMI 535.113.01             Driver Version: 535.113.01   CUDA Version: 12.2     |\n",
      "|-----------------------------------------+----------------------+----------------------+\n",
      "| GPU  Name                 Persistence-M | Bus-Id        Disp.A | Volatile Uncorr. ECC |\n",
      "| Fan  Temp   Perf          Pwr:Usage/Cap |         Memory-Usage | GPU-Util  Compute M. |\n",
      "|                                         |                      |               MIG M. |\n",
      "|=========================================+======================+======================|\n",
      "|   0  NVIDIA GeForce RTX 4090        On  | 00000000:C1:00.0 Off |                  Off |\n",
      "| 30%   30C    P8              33W / 450W |      5MiB / 24564MiB |      0%      Default |\n",
      "|                                         |                      |                  N/A |\n",
      "+-----------------------------------------+----------------------+----------------------+\n",
      "                                                                                         \n",
      "+---------------------------------------------------------------------------------------+\n",
      "| Processes:                                                                            |\n",
      "|  GPU   GI   CI        PID   Type   Process name                            GPU Memory |\n",
      "|        ID   ID                                                             Usage      |\n",
      "|=======================================================================================|\n",
      "|  No running processes found                                                           |\n",
      "+---------------------------------------------------------------------------------------+\n"
     ]
    }
   ],
   "source": [
    "!nvidia-smi"
   ]
  },
  {
   "cell_type": "code",
   "execution_count": 22,
   "metadata": {},
   "outputs": [],
   "source": [
    "import logging\n",
    "import os\n",
    "import csv\n",
    "import numpy as np\n",
    "from typing import List, Union\n",
    "import math\n",
    "from tqdm.autonotebook import trange\n",
    "\n",
    "import torch\n",
    "from torch import nn\n",
    "from torch.utils.tensorboard import SummaryWriter\n",
    "\n",
    "logger = logging.getLogger(__name__)\n",
    "\n",
    "\n",
    "class LossEvaluator(evaluation.BinaryClassificationEvaluator):\n",
    "\n",
    "    def __init__(self, loader, loss_model: nn.Module = None, name: str = '', log_dir: str = None,\n",
    "                 show_progress_bar: bool = False, write_csv: bool = True):\n",
    "\n",
    "        \"\"\"\n",
    "        Evaluate a model based on the loss function.\n",
    "        The returned score is loss value.\n",
    "        The results are written in a CSV and Tensorboard logs.\n",
    "        :param loader: Data loader object\n",
    "        :param loss_model: loss module object\n",
    "        :param name: Name for the output\n",
    "        :param log_dir: path for tensorboard logs \n",
    "        :param show_progress_bar: If true, prints a progress bar\n",
    "        :param write_csv: Write results to a CSV file\n",
    "        \"\"\"\n",
    "\n",
    "        self.loader = loader\n",
    "        self.write_csv = write_csv\n",
    "        self.logs_writer = SummaryWriter(log_dir=log_dir)\n",
    "        self.name = name\n",
    "        self.loss_model = loss_model\n",
    "\n",
    "        # move model to gpu:  lidija-jovanovska\n",
    "        self.device = torch.device(\"cuda\") if torch.cuda.is_available() else torch.device(\"cpu\")\n",
    "        loss_model.to(self.device)\n",
    "\n",
    "        if show_progress_bar is None:\n",
    "            show_progress_bar = (\n",
    "                    logger.getEffectiveLevel() == logging.INFO or logger.getEffectiveLevel() == logging.DEBUG)\n",
    "        self.show_progress_bar = show_progress_bar\n",
    "\n",
    "        self.csv_file = \"loss_evaluation\" + (\"_\" + name if name else '') + \"_results.csv\"\n",
    "        self.csv_headers = [\"epoch\", \"steps\", \"loss\"]\n",
    "\n",
    "    def __call__(self, model, output_path: str = None, epoch: int = -1, steps: int = -1) -> float:\n",
    "\n",
    "        self.loss_model.eval()\n",
    "\n",
    "        loss_value = 0\n",
    "        self.loader.collate_fn = model.smart_batching_collate\n",
    "        num_batches = len(self.loader)\n",
    "        data_iterator = iter(self.loader)\n",
    "\n",
    "        with torch.no_grad():\n",
    "            for _ in trange(num_batches, desc=\"Iteration\", smoothing=0.05, disable=not self.show_progress_bar):\n",
    "                sentence_features, labels = next(data_iterator)\n",
    "                # move data to gpu\n",
    "                for i in range(0, len(sentence_features)):\n",
    "                    for key, value in sentence_features[i].items():\n",
    "                        sentence_features[i][key] = sentence_features[i][key].to(self.device)\n",
    "                labels = labels.to(self.device)\n",
    "                loss_value += self.loss_model(sentence_features, labels).item()\n",
    "\n",
    "        final_loss = loss_value / num_batches\n",
    "        if output_path is not None and self.write_csv:\n",
    "\n",
    "            csv_path = os.path.join(output_path, self.csv_file)\n",
    "            output_file_exists = os.path.isfile(csv_path)\n",
    "\n",
    "            with open(csv_path, newline='', mode=\"a\" if output_file_exists else 'w', encoding=\"utf-8\") as f:\n",
    "                writer = csv.writer(f)\n",
    "                if not output_file_exists:\n",
    "                    writer.writerow(self.csv_headers)\n",
    "\n",
    "                writer.writerow([epoch, steps, final_loss])\n",
    "\n",
    "            # ...log the running loss\n",
    "            self.logs_writer.add_scalar('val_loss',\n",
    "                                        final_loss,\n",
    "                                        steps)\n",
    "\n",
    "        self.loss_model.zero_grad()\n",
    "        self.loss_model.train()\n",
    "\n",
    "        return final_loss"
   ]
  },
  {
   "cell_type": "markdown",
   "metadata": {
    "id": "3zDzU9IGRknF"
   },
   "source": [
    "# Load data"
   ]
  },
  {
   "cell_type": "code",
   "execution_count": 16,
   "metadata": {
    "id": "LXjjrlxXRjIJ"
   },
   "outputs": [],
   "source": [
    "import pandas as pd\n",
    "df_train = pd.read_csv(\"train.csv\", index_col=0)"
   ]
  },
  {
   "cell_type": "code",
   "execution_count": 17,
   "metadata": {
    "colab": {
     "base_uri": "https://localhost:8080/",
     "height": 424
    },
    "id": "PYiCReIZRxBd",
    "outputId": "3804ff40-6969-4379-9f05-a45110180044"
   },
   "outputs": [
    {
     "data": {
      "text/html": [
       "<div>\n",
       "<style scoped>\n",
       "    .dataframe tbody tr th:only-of-type {\n",
       "        vertical-align: middle;\n",
       "    }\n",
       "\n",
       "    .dataframe tbody tr th {\n",
       "        vertical-align: top;\n",
       "    }\n",
       "\n",
       "    .dataframe thead th {\n",
       "        text-align: right;\n",
       "    }\n",
       "</style>\n",
       "<table border=\"1\" class=\"dataframe\">\n",
       "  <thead>\n",
       "    <tr style=\"text-align: right;\">\n",
       "      <th></th>\n",
       "      <th>question_id</th>\n",
       "      <th>question</th>\n",
       "      <th>law_id</th>\n",
       "      <th>article_id</th>\n",
       "      <th>title</th>\n",
       "      <th>text</th>\n",
       "      <th>label</th>\n",
       "      <th>answer</th>\n",
       "    </tr>\n",
       "  </thead>\n",
       "  <tbody>\n",
       "    <tr>\n",
       "      <th>0</th>\n",
       "      <td>265ce56261d870890baa8cce75308128</td>\n",
       "      <td>Việc cấp lại, cấp bổ sung Sổ nhật ký đoàn than...</td>\n",
       "      <td>05/2014/tt-ttcp</td>\n",
       "      <td>30</td>\n",
       "      <td>Điều 30. Chuyển hồ sơ sang cơ quan điều tra</td>\n",
       "      <td>Trong trường hợp người ra quyết định thanh tra...</td>\n",
       "      <td>0</td>\n",
       "      <td>điều 30 chuyển hồ sơ sang cơ quan điều tra tro...</td>\n",
       "    </tr>\n",
       "    <tr>\n",
       "      <th>1</th>\n",
       "      <td>c139de149a1a91dcbe97207bb02b632b</td>\n",
       "      <td>Chủ đầu tư có trách nhiệm gì khi lập hồ sơ sự ...</td>\n",
       "      <td>06/2021/nđ-cp</td>\n",
       "      <td>18</td>\n",
       "      <td>Điều 18. Quản lý tiến độ thi công xây dựng</td>\n",
       "      <td>1. Công trình xây dựng trước khi triển khai th...</td>\n",
       "      <td>0</td>\n",
       "      <td>điều 18 quản lý tiến độ thi công xây dựng 1 cô...</td>\n",
       "    </tr>\n",
       "    <tr>\n",
       "      <th>2</th>\n",
       "      <td>1a509e547c54a745cfa1fa7976eae6d0</td>\n",
       "      <td>Tài liệu khai thác cảng hàng không, sân bay gồ...</td>\n",
       "      <td>05/2021/nđ-cp</td>\n",
       "      <td>24</td>\n",
       "      <td>Điều 24. Thẩm quyền thẩm định quy hoạch cảng h...</td>\n",
       "      <td>Cơ quan tổ chức lập quy hoạch thành lập Hội đồ...</td>\n",
       "      <td>0</td>\n",
       "      <td>điều 24 thẩm quyền thẩm định quy hoạch cảng hà...</td>\n",
       "    </tr>\n",
       "    <tr>\n",
       "      <th>3</th>\n",
       "      <td>abd89b51adc3d278b908e6871a86a573</td>\n",
       "      <td>Doanh nghiệp trong khu công nghiệp có được đăn...</td>\n",
       "      <td>32/2014/tt-blđtbxh</td>\n",
       "      <td>4</td>\n",
       "      <td>Điều 4. Nguyên tắc ủy quyền</td>\n",
       "      <td>1. Đảm bảo hiệu quả công tác quản lý nhà nước ...</td>\n",
       "      <td>0</td>\n",
       "      <td>điều 4 nguyên tắc ủy quyền 1 đảm bảo hiệu quả ...</td>\n",
       "    </tr>\n",
       "    <tr>\n",
       "      <th>4</th>\n",
       "      <td>cdbdcb3d7d813c52e2c8553165a8e4df</td>\n",
       "      <td>Công ty đại chúng phát hành quyền mua cổ phần ...</td>\n",
       "      <td>155/2020/nđ-cp</td>\n",
       "      <td>53</td>\n",
       "      <td>Điều 53. Điều kiện công ty đại chúng phát hành...</td>\n",
       "      <td>Công ty đại chúng phát hành cổ phiếu để hoán đ...</td>\n",
       "      <td>0</td>\n",
       "      <td>điều 53 điều kiện công ty đại chúng phát hành ...</td>\n",
       "    </tr>\n",
       "    <tr>\n",
       "      <th>...</th>\n",
       "      <td>...</td>\n",
       "      <td>...</td>\n",
       "      <td>...</td>\n",
       "      <td>...</td>\n",
       "      <td>...</td>\n",
       "      <td>...</td>\n",
       "      <td>...</td>\n",
       "      <td>...</td>\n",
       "    </tr>\n",
       "    <tr>\n",
       "      <th>8889</th>\n",
       "      <td>94ae502e5bf5a3befe8098db04624096</td>\n",
       "      <td>Xây dựng lò gạch cách chỉ giới hành lang an to...</td>\n",
       "      <td>100/2019/nđ-cp</td>\n",
       "      <td>3</td>\n",
       "      <td>Điều 3. Giải thích từ ngữ</td>\n",
       "      <td>Trong Nghị định này, các từ ngữ dưới đây được ...</td>\n",
       "      <td>0</td>\n",
       "      <td>điều 3 giải thích từ ngữ trong nghị định này c...</td>\n",
       "    </tr>\n",
       "    <tr>\n",
       "      <th>8890</th>\n",
       "      <td>817afb853f193ffe938887d569675cf0</td>\n",
       "      <td>Kiểm tra nhà nước về chất lượng sản phẩm, hàng...</td>\n",
       "      <td>26/2018/tt-blđtbxh</td>\n",
       "      <td>3</td>\n",
       "      <td>Điều 3. Kiểm tra nhà nước về chất lượng sản ph...</td>\n",
       "      <td>1. Hoạt động kiểm tra nhà nước về chất lượng s...</td>\n",
       "      <td>1</td>\n",
       "      <td>điều 3 kiểm tra nhà nước về chất lượng sản phẩ...</td>\n",
       "    </tr>\n",
       "    <tr>\n",
       "      <th>8891</th>\n",
       "      <td>a6f164cc19e193abe5f0323c807081be</td>\n",
       "      <td>Ứng dụng công nghệ thông tin trong việc cung c...</td>\n",
       "      <td>13/2018/nđ-cp</td>\n",
       "      <td>10</td>\n",
       "      <td>Điều 10. Ứng dụng công nghệ thông tin trong vi...</td>\n",
       "      <td>1. Người đứng đầu cơ quan cung cấp thông tin b...</td>\n",
       "      <td>1</td>\n",
       "      <td>điều 10 ứng dụng công nghệ thông tin trong việ...</td>\n",
       "    </tr>\n",
       "    <tr>\n",
       "      <th>8892</th>\n",
       "      <td>7e9a91a8b157ead81059304ae538cc04</td>\n",
       "      <td>Thời gian xét tha tù trước thời hạn áp dụng từ...</td>\n",
       "      <td>41/2019/qh14</td>\n",
       "      <td>57</td>\n",
       "      <td>Điều 57. Thời điểm xét tha tù trước thời hạn c...</td>\n",
       "      <td>Việc xét tha tù trước thời hạn có điều kiện đư...</td>\n",
       "      <td>1</td>\n",
       "      <td>điều 57 thời điểm xét tha tù trước thời hạn có...</td>\n",
       "    </tr>\n",
       "    <tr>\n",
       "      <th>8893</th>\n",
       "      <td>915c522bf6ffe2d21e4bf9f4110c8596</td>\n",
       "      <td>Chế độ BHYT cho con bệnh binh MSLD 61% áp dụng...</td>\n",
       "      <td>41/2014/ttlt-byt-btc</td>\n",
       "      <td>13</td>\n",
       "      <td>Điều 13. Thanh toán bảo hiểm y tế trong một số...</td>\n",
       "      <td>1. Thanh toán chi phí vận chuyển người bệnh từ...</td>\n",
       "      <td>0</td>\n",
       "      <td>điều 13 thanh toán bảo hiểm y tế trong một số ...</td>\n",
       "    </tr>\n",
       "  </tbody>\n",
       "</table>\n",
       "<p>8894 rows × 8 columns</p>\n",
       "</div>"
      ],
      "text/plain": [
       "                           question_id  \\\n",
       "0     265ce56261d870890baa8cce75308128   \n",
       "1     c139de149a1a91dcbe97207bb02b632b   \n",
       "2     1a509e547c54a745cfa1fa7976eae6d0   \n",
       "3     abd89b51adc3d278b908e6871a86a573   \n",
       "4     cdbdcb3d7d813c52e2c8553165a8e4df   \n",
       "...                                ...   \n",
       "8889  94ae502e5bf5a3befe8098db04624096   \n",
       "8890  817afb853f193ffe938887d569675cf0   \n",
       "8891  a6f164cc19e193abe5f0323c807081be   \n",
       "8892  7e9a91a8b157ead81059304ae538cc04   \n",
       "8893  915c522bf6ffe2d21e4bf9f4110c8596   \n",
       "\n",
       "                                               question                law_id  \\\n",
       "0     Việc cấp lại, cấp bổ sung Sổ nhật ký đoàn than...       05/2014/tt-ttcp   \n",
       "1     Chủ đầu tư có trách nhiệm gì khi lập hồ sơ sự ...         06/2021/nđ-cp   \n",
       "2     Tài liệu khai thác cảng hàng không, sân bay gồ...         05/2021/nđ-cp   \n",
       "3     Doanh nghiệp trong khu công nghiệp có được đăn...    32/2014/tt-blđtbxh   \n",
       "4     Công ty đại chúng phát hành quyền mua cổ phần ...        155/2020/nđ-cp   \n",
       "...                                                 ...                   ...   \n",
       "8889  Xây dựng lò gạch cách chỉ giới hành lang an to...        100/2019/nđ-cp   \n",
       "8890  Kiểm tra nhà nước về chất lượng sản phẩm, hàng...    26/2018/tt-blđtbxh   \n",
       "8891  Ứng dụng công nghệ thông tin trong việc cung c...         13/2018/nđ-cp   \n",
       "8892  Thời gian xét tha tù trước thời hạn áp dụng từ...          41/2019/qh14   \n",
       "8893  Chế độ BHYT cho con bệnh binh MSLD 61% áp dụng...  41/2014/ttlt-byt-btc   \n",
       "\n",
       "      article_id                                              title  \\\n",
       "0             30        Điều 30. Chuyển hồ sơ sang cơ quan điều tra   \n",
       "1             18         Điều 18. Quản lý tiến độ thi công xây dựng   \n",
       "2             24  Điều 24. Thẩm quyền thẩm định quy hoạch cảng h...   \n",
       "3              4                        Điều 4. Nguyên tắc ủy quyền   \n",
       "4             53  Điều 53. Điều kiện công ty đại chúng phát hành...   \n",
       "...          ...                                                ...   \n",
       "8889           3                          Điều 3. Giải thích từ ngữ   \n",
       "8890           3  Điều 3. Kiểm tra nhà nước về chất lượng sản ph...   \n",
       "8891          10  Điều 10. Ứng dụng công nghệ thông tin trong vi...   \n",
       "8892          57  Điều 57. Thời điểm xét tha tù trước thời hạn c...   \n",
       "8893          13  Điều 13. Thanh toán bảo hiểm y tế trong một số...   \n",
       "\n",
       "                                                   text  label  \\\n",
       "0     Trong trường hợp người ra quyết định thanh tra...      0   \n",
       "1     1. Công trình xây dựng trước khi triển khai th...      0   \n",
       "2     Cơ quan tổ chức lập quy hoạch thành lập Hội đồ...      0   \n",
       "3     1. Đảm bảo hiệu quả công tác quản lý nhà nước ...      0   \n",
       "4     Công ty đại chúng phát hành cổ phiếu để hoán đ...      0   \n",
       "...                                                 ...    ...   \n",
       "8889  Trong Nghị định này, các từ ngữ dưới đây được ...      0   \n",
       "8890  1. Hoạt động kiểm tra nhà nước về chất lượng s...      1   \n",
       "8891  1. Người đứng đầu cơ quan cung cấp thông tin b...      1   \n",
       "8892  Việc xét tha tù trước thời hạn có điều kiện đư...      1   \n",
       "8893  1. Thanh toán chi phí vận chuyển người bệnh từ...      0   \n",
       "\n",
       "                                                 answer  \n",
       "0     điều 30 chuyển hồ sơ sang cơ quan điều tra tro...  \n",
       "1     điều 18 quản lý tiến độ thi công xây dựng 1 cô...  \n",
       "2     điều 24 thẩm quyền thẩm định quy hoạch cảng hà...  \n",
       "3     điều 4 nguyên tắc ủy quyền 1 đảm bảo hiệu quả ...  \n",
       "4     điều 53 điều kiện công ty đại chúng phát hành ...  \n",
       "...                                                 ...  \n",
       "8889  điều 3 giải thích từ ngữ trong nghị định này c...  \n",
       "8890  điều 3 kiểm tra nhà nước về chất lượng sản phẩ...  \n",
       "8891  điều 10 ứng dụng công nghệ thông tin trong việ...  \n",
       "8892  điều 57 thời điểm xét tha tù trước thời hạn có...  \n",
       "8893  điều 13 thanh toán bảo hiểm y tế trong một số ...  \n",
       "\n",
       "[8894 rows x 8 columns]"
      ]
     },
     "execution_count": 17,
     "metadata": {},
     "output_type": "execute_result"
    }
   ],
   "source": [
    "import numpy as np\n",
    "df_train['label'] = df_train['label'].astype(np.int16)\n",
    "df_train"
   ]
  },
  {
   "cell_type": "code",
   "execution_count": 18,
   "metadata": {
    "colab": {
     "base_uri": "https://localhost:8080/"
    },
    "id": "0eIb-58oTM8p",
    "outputId": "43869877-0656-4e4c-b030-25401ce89f5b"
   },
   "outputs": [
    {
     "name": "stderr",
     "output_type": "stream",
     "text": [
      "/tmp/ipykernel_2677/1383614074.py:1: TqdmDeprecationWarning: This function will be removed in tqdm==5.0.0\n",
      "Please use `tqdm.notebook.*` instead of `tqdm._tqdm_notebook.*`\n",
      "  from tqdm._tqdm_notebook import tqdm_notebook\n"
     ]
    }
   ],
   "source": [
    "from tqdm._tqdm_notebook import tqdm_notebook\n",
    "tqdm_notebook.pandas()"
   ]
  },
  {
   "cell_type": "code",
   "execution_count": 19,
   "metadata": {
    "id": "kyVLpU7rS1m7"
   },
   "outputs": [],
   "source": [
    "import re\n",
    "def process(text):\n",
    "    text = str(text)\n",
    "    text = re.sub('((www\\.[^\\s]+)|(https?://[^\\s]+))', 'URL', text)\n",
    "    text = re.sub('@[^\\s]+', 'AT_ABC', text)\n",
    "    text = re.sub(r'\\n', ' ', text)\n",
    "    text = re.sub(r'([\\w]+\\) )', '.', text)\n",
    "    text = re.sub(r'([\\d]+\\. )', '', text)\n",
    "    text = re.sub(r'[^aAàÀảẢãÃáÁạẠăĂằẰẳẲẵẴắẮặẶâÂầẦẩẨẫẪấẤậẬbBcCdDđĐeEèÈẻẺẽẼéÉẹẸêÊềỀểỂễỄếẾệỆfFgGhHiIìÌỉỈĩĨíÍịỊjJkKlLmMnNoOòÒỏỎõÕóÓọỌôÔồỒổỔỗỖốỐộỘơƠờỜởỞỡỠớỚợỢpPqQrRsStTuUùÙủỦũŨúÚụỤưƯừỪửỬữỮứỨựỰvVwWxXyYỳỲỷỶỹỸýÝỵỴzZ0-9., ]', '', text)\n",
    "    text = text.replace('.', '. ')\n",
    "    text = text.replace(' .', '. ')\n",
    "    text = re.sub(r'[\\s]+', ' ', text)\n",
    "    text = text.strip('.')\n",
    "    text = text.strip('\\'\"')\n",
    "    text = text.strip()\n",
    "    text = text.lower()\n",
    "    return text\n",
    "\n",
    "# df_train['question'] = df_train['question'].progress_apply(process)\n",
    "# df_train['answer'] = df_train['answer'].progress_apply(process)"
   ]
  },
  {
   "cell_type": "code",
   "execution_count": 20,
   "metadata": {
    "id": "YjJPzGB7Zkt9"
   },
   "outputs": [],
   "source": [
    "def check_err(text):\n",
    "  if len(str(text).split(' ')) < 5:\n",
    "    return True\n",
    "  return False"
   ]
  },
  {
   "cell_type": "code",
   "execution_count": 21,
   "metadata": {
    "id": "uvItLJY6aEzy"
   },
   "outputs": [
    {
     "data": {
      "application/vnd.jupyter.widget-view+json": {
       "model_id": "3863f82ca8e44ab5b6d64b722e0c1d56",
       "version_major": 2,
       "version_minor": 0
      },
      "text/plain": [
       "  0%|          | 0/8894 [00:00<?, ?it/s]"
      ]
     },
     "metadata": {},
     "output_type": "display_data"
    },
    {
     "data": {
      "application/vnd.jupyter.widget-view+json": {
       "model_id": "1da2bd20beab407f9e0018b81f52a0fd",
       "version_major": 2,
       "version_minor": 0
      },
      "text/plain": [
       "  0%|          | 0/8885 [00:00<?, ?it/s]"
      ]
     },
     "metadata": {},
     "output_type": "display_data"
    },
    {
     "name": "stderr",
     "output_type": "stream",
     "text": [
      "/tmp/ipykernel_2677/2231701591.py:7: SettingWithCopyWarning: \n",
      "A value is trying to be set on a copy of a slice from a DataFrame.\n",
      "Try using .loc[row_indexer,col_indexer] = value instead\n",
      "\n",
      "See the caveats in the documentation: https://pandas.pydata.org/pandas-docs/stable/user_guide/indexing.html#returning-a-view-versus-a-copy\n",
      "  df_train['error'] = df_train['answer'].progress_apply(check_err)\n"
     ]
    }
   ],
   "source": [
    "def check_err(text):\n",
    "  if len(str(text).split(' ')) < 5:\n",
    "    return True\n",
    "  return False\n",
    "df_train['error'] = df_train['question'].progress_apply(check_err)\n",
    "df_train = df_train[df_train['error']==False]\n",
    "df_train['error'] = df_train['answer'].progress_apply(check_err)\n",
    "df_train = df_train[df_train['error']==False]"
   ]
  },
  {
   "cell_type": "code",
   "execution_count": 5,
   "metadata": {
    "id": "RXSPo1RzXdNL"
   },
   "outputs": [],
   "source": [
    "from sklearn.model_selection import train_test_split\n",
    "X_train, X_val, y_train, y_val = train_test_split(\n",
    "    df_train[['question', 'answer']], df_train['label'],\n",
    "    test_size=0.2, random_state=42\n",
    ")\n"
   ]
  },
  {
   "cell_type": "code",
   "execution_count": 6,
   "metadata": {
    "colab": {
     "base_uri": "https://localhost:8080/",
     "height": 206
    },
    "id": "Fxeu6hYlX5Vv",
    "outputId": "4be1f8fd-7963-4999-8a6b-34d9078ea2b0"
   },
   "outputs": [
    {
     "data": {
      "text/html": [
       "<div>\n",
       "<style scoped>\n",
       "    .dataframe tbody tr th:only-of-type {\n",
       "        vertical-align: middle;\n",
       "    }\n",
       "\n",
       "    .dataframe tbody tr th {\n",
       "        vertical-align: top;\n",
       "    }\n",
       "\n",
       "    .dataframe thead th {\n",
       "        text-align: right;\n",
       "    }\n",
       "</style>\n",
       "<table border=\"1\" class=\"dataframe\">\n",
       "  <thead>\n",
       "    <tr style=\"text-align: right;\">\n",
       "      <th></th>\n",
       "      <th>question</th>\n",
       "      <th>answer</th>\n",
       "      <th>label</th>\n",
       "    </tr>\n",
       "  </thead>\n",
       "  <tbody>\n",
       "    <tr>\n",
       "      <th>76836</th>\n",
       "      <td>em nghỉ làm trong thời gian thử việc của một c...</td>\n",
       "      <td>bộ luật lao động hiện hành có quy định rõ ràng...</td>\n",
       "      <td>1</td>\n",
       "    </tr>\n",
       "    <tr>\n",
       "      <th>14078</th>\n",
       "      <td>Điều kiện cấp Giấy chứng nhận đủ điều kiện kin...</td>\n",
       "      <td>hồ sơ làm căn cứ để đánh giá đáp ứng thực hành...</td>\n",
       "      <td>0</td>\n",
       "    </tr>\n",
       "    <tr>\n",
       "      <th>88253</th>\n",
       "      <td>xin cho tôi hỏi vỉa hè trong đô thị có được co...</td>\n",
       "      <td>căn cứ pháp lý nghị định 1002013nđcp nghị định...</td>\n",
       "      <td>1</td>\n",
       "    </tr>\n",
       "    <tr>\n",
       "      <th>75047</th>\n",
       "      <td>tư vấn trường hợp điều chỉnh lương hưu</td>\n",
       "      <td>căn cứ điều 2 nghị định 552016nđcp quy định đố...</td>\n",
       "      <td>1</td>\n",
       "    </tr>\n",
       "    <tr>\n",
       "      <th>48309</th>\n",
       "      <td>Hoạt động kinh doanh của doanh nghiệp, hợp tác...</td>\n",
       "      <td>đình chỉ tiến hành thủ tục phá sản. kể từ ngày...</td>\n",
       "      <td>0</td>\n",
       "    </tr>\n",
       "  </tbody>\n",
       "</table>\n",
       "</div>"
      ],
      "text/plain": [
       "                                                question  \\\n",
       "76836  em nghỉ làm trong thời gian thử việc của một c...   \n",
       "14078  Điều kiện cấp Giấy chứng nhận đủ điều kiện kin...   \n",
       "88253  xin cho tôi hỏi vỉa hè trong đô thị có được co...   \n",
       "75047             tư vấn trường hợp điều chỉnh lương hưu   \n",
       "48309  Hoạt động kinh doanh của doanh nghiệp, hợp tác...   \n",
       "\n",
       "                                                  answer  label  \n",
       "76836  bộ luật lao động hiện hành có quy định rõ ràng...      1  \n",
       "14078  hồ sơ làm căn cứ để đánh giá đáp ứng thực hành...      0  \n",
       "88253  căn cứ pháp lý nghị định 1002013nđcp nghị định...      1  \n",
       "75047  căn cứ điều 2 nghị định 552016nđcp quy định đố...      1  \n",
       "48309  đình chỉ tiến hành thủ tục phá sản. kể từ ngày...      0  "
      ]
     },
     "execution_count": 6,
     "metadata": {},
     "output_type": "execute_result"
    }
   ],
   "source": [
    "# recheck data\n",
    "X_train['label'] = y_train\n",
    "X_val['label'] = y_val\n",
    "X_train.head()"
   ]
  },
  {
   "cell_type": "code",
   "execution_count": 7,
   "metadata": {
    "colab": {
     "base_uri": "https://localhost:8080/",
     "height": 494
    },
    "id": "Lnxq5l1SYJ1w",
    "outputId": "b0acd299-eb70-47e0-8833-224b0b4a8ddc"
   },
   "outputs": [
    {
     "name": "stdout",
     "output_type": "stream",
     "text": [
      "label\n",
      "0    13180\n",
      "1     9907\n",
      "Name: count, dtype: int64\n"
     ]
    },
    {
     "data": {
      "text/plain": [
       "<Axes: xlabel='label'>"
      ]
     },
     "execution_count": 7,
     "metadata": {},
     "output_type": "execute_result"
    },
    {
     "data": {
      "image/png": "[encoded data removed]",
      "text/plain": [
       "<Figure size 640x480 with 1 Axes>"
      ]
     },
     "metadata": {},
     "output_type": "display_data"
    }
   ],
   "source": [
    "import seaborn as sns\n",
    "\n",
    "type_counts = X_val['label'].value_counts()\n",
    "print(type_counts)\n",
    "type_counts.plot(kind='bar')"
   ]
  },
  {
   "cell_type": "code",
   "execution_count": 8,
   "metadata": {
    "id": "K_cRXqytRMgv"
   },
   "outputs": [],
   "source": [
    "train_examples = []\n",
    "sent1 = []\n",
    "sent2 = []\n",
    "scores = []"
   ]
  },
  {
   "cell_type": "code",
   "execution_count": 9,
   "metadata": {},
   "outputs": [],
   "source": [
    "val_examples = []"
   ]
  },
  {
   "cell_type": "code",
   "execution_count": 10,
   "metadata": {
    "colab": {
     "base_uri": "https://localhost:8080/"
    },
    "id": "v4Frq-HNSCp-",
    "outputId": "7981c5f0-6c41-486b-ff1c-6cc1dbe5490b"
   },
   "outputs": [
    {
     "name": "stderr",
     "output_type": "stream",
     "text": [
      "92347it [00:00, 153450.47it/s]\n",
      "23087it [00:00, 424659.78it/s]\n"
     ]
    }
   ],
   "source": [
    "from tqdm import tqdm\n",
    "\n",
    "for row in tqdm(X_train.itertuples()):\n",
    "  # print(row.question)\n",
    "  # print(\"------------\")\n",
    "  relevant = float(row.label)\n",
    "  question = row.question\n",
    "  answer = row.answer\n",
    "  example = InputExample(texts=[question, answer], label=relevant)\n",
    "  train_examples.append(example)\n",
    "\n",
    "for row in tqdm(X_val.itertuples()):\n",
    "  # print(row.question)\n",
    "  # print(\"------------\")\n",
    "  relevant = float(row.label)\n",
    "  question = row.question\n",
    "  answer = row.answer\n",
    "  example = InputExample(texts=[question, answer], label=relevant)\n",
    "  val_examples.append(example)"
   ]
  },
  {
   "cell_type": "code",
   "execution_count": 17,
   "metadata": {
    "id": "6YEdqtNfSGmI"
   },
   "outputs": [],
   "source": [
    "train_dataloader = DataLoader(train_examples, shuffle=True, batch_size=16)\n",
    "val_dataloader = DataLoader(val_examples, batch_size=16)\n",
    "train_loss = losses.ContrastiveLoss(model)\n"
   ]
  },
  {
   "cell_type": "code",
   "execution_count": 18,
   "metadata": {
    "colab": {
     "base_uri": "https://localhost:8080/",
     "height": 424
    },
    "id": "7wi6dMwYcLN9",
    "outputId": "78142f65-ac36-4488-a6f3-25b16e9be252"
   },
   "outputs": [
    {
     "data": {
      "text/html": [
       "<div>\n",
       "<style scoped>\n",
       "    .dataframe tbody tr th:only-of-type {\n",
       "        vertical-align: middle;\n",
       "    }\n",
       "\n",
       "    .dataframe tbody tr th {\n",
       "        vertical-align: top;\n",
       "    }\n",
       "\n",
       "    .dataframe thead th {\n",
       "        text-align: right;\n",
       "    }\n",
       "</style>\n",
       "<table border=\"1\" class=\"dataframe\">\n",
       "  <thead>\n",
       "    <tr style=\"text-align: right;\">\n",
       "      <th></th>\n",
       "      <th>question</th>\n",
       "      <th>answer</th>\n",
       "      <th>label</th>\n",
       "    </tr>\n",
       "  </thead>\n",
       "  <tbody>\n",
       "    <tr>\n",
       "      <th>83628</th>\n",
       "      <td>chào chuyên gia. em tên toản em có một câu hỏi...</td>\n",
       "      <td>căn cứ pháp lý luật nghĩa vụ quân sự 2015 thôn...</td>\n",
       "      <td>1</td>\n",
       "    </tr>\n",
       "    <tr>\n",
       "      <th>100137</th>\n",
       "      <td>tổ chức chương trình văn nghệ thuê một nhà hát...</td>\n",
       "      <td>căn cứ pháp lý nghị định 1032009nđcp nghị định...</td>\n",
       "      <td>1</td>\n",
       "    </tr>\n",
       "    <tr>\n",
       "      <th>22729</th>\n",
       "      <td>Người lao động nước ngoài không thuộc diện cấp...</td>\n",
       "      <td>các trường hợp người lao động nước ngoài không...</td>\n",
       "      <td>0</td>\n",
       "    </tr>\n",
       "    <tr>\n",
       "      <th>68220</th>\n",
       "      <td>thương thảo hợp đồng rồi phê duyệt kết quả lựa...</td>\n",
       "      <td>tại khoản 3 điều 38 luật đấu thầu 2013 có quy ...</td>\n",
       "      <td>1</td>\n",
       "    </tr>\n",
       "    <tr>\n",
       "      <th>89972</th>\n",
       "      <td>chuyển đổi mục đích sử dụng đất điều kiện, hồ ...</td>\n",
       "      <td>đất đai là thành phần quan trọng hàng đầu của ...</td>\n",
       "      <td>1</td>\n",
       "    </tr>\n",
       "    <tr>\n",
       "      <th>...</th>\n",
       "      <td>...</td>\n",
       "      <td>...</td>\n",
       "      <td>...</td>\n",
       "    </tr>\n",
       "    <tr>\n",
       "      <th>26561</th>\n",
       "      <td>Hồ sơ đăng ký xe đối với xe nguồn gốc tịch thu...</td>\n",
       "      <td>giải quyết một số trường hợp khi đăng ký, cấp ...</td>\n",
       "      <td>0</td>\n",
       "    </tr>\n",
       "    <tr>\n",
       "      <th>72459</th>\n",
       "      <td>liệt sĩ có được miễn thuế sử dụng đất không</td>\n",
       "      <td>về việc miễn thuế nhà đất hàng năm pháp luật c...</td>\n",
       "      <td>1</td>\n",
       "    </tr>\n",
       "    <tr>\n",
       "      <th>81681</th>\n",
       "      <td>xử phạt vi phạm không có kế hoạch bảo vệ môi t...</td>\n",
       "      <td>cơ sở pháp lý luật bảo vệ môi trường năm 2014 ...</td>\n",
       "      <td>1</td>\n",
       "    </tr>\n",
       "    <tr>\n",
       "      <th>51760</th>\n",
       "      <td>Để súc vật kéo xe mà không có người điều khiển...</td>\n",
       "      <td>xử phạt người đua xe trái phép, cổ vũ đua xe t...</td>\n",
       "      <td>0</td>\n",
       "    </tr>\n",
       "    <tr>\n",
       "      <th>114067</th>\n",
       "      <td>ông bà tôi có 4 người con 2 trai, 2 gái. bố tô...</td>\n",
       "      <td>khi ông bà bạn chết, không để lại di chúc, tài...</td>\n",
       "      <td>1</td>\n",
       "    </tr>\n",
       "  </tbody>\n",
       "</table>\n",
       "<p>23087 rows × 3 columns</p>\n",
       "</div>"
      ],
      "text/plain": [
       "                                                 question  \\\n",
       "83628   chào chuyên gia. em tên toản em có một câu hỏi...   \n",
       "100137  tổ chức chương trình văn nghệ thuê một nhà hát...   \n",
       "22729   Người lao động nước ngoài không thuộc diện cấp...   \n",
       "68220   thương thảo hợp đồng rồi phê duyệt kết quả lựa...   \n",
       "89972   chuyển đổi mục đích sử dụng đất điều kiện, hồ ...   \n",
       "...                                                   ...   \n",
       "26561   Hồ sơ đăng ký xe đối với xe nguồn gốc tịch thu...   \n",
       "72459         liệt sĩ có được miễn thuế sử dụng đất không   \n",
       "81681   xử phạt vi phạm không có kế hoạch bảo vệ môi t...   \n",
       "51760   Để súc vật kéo xe mà không có người điều khiển...   \n",
       "114067  ông bà tôi có 4 người con 2 trai, 2 gái. bố tô...   \n",
       "\n",
       "                                                   answer  label  \n",
       "83628   căn cứ pháp lý luật nghĩa vụ quân sự 2015 thôn...      1  \n",
       "100137  căn cứ pháp lý nghị định 1032009nđcp nghị định...      1  \n",
       "22729   các trường hợp người lao động nước ngoài không...      0  \n",
       "68220   tại khoản 3 điều 38 luật đấu thầu 2013 có quy ...      1  \n",
       "89972   đất đai là thành phần quan trọng hàng đầu của ...      1  \n",
       "...                                                   ...    ...  \n",
       "26561   giải quyết một số trường hợp khi đăng ký, cấp ...      0  \n",
       "72459   về việc miễn thuế nhà đất hàng năm pháp luật c...      1  \n",
       "81681   cơ sở pháp lý luật bảo vệ môi trường năm 2014 ...      1  \n",
       "51760   xử phạt người đua xe trái phép, cổ vũ đua xe t...      0  \n",
       "114067  khi ông bà bạn chết, không để lại di chúc, tài...      1  \n",
       "\n",
       "[23087 rows x 3 columns]"
      ]
     },
     "execution_count": 18,
     "metadata": {},
     "output_type": "execute_result"
    }
   ],
   "source": [
    "X_val"
   ]
  },
  {
   "cell_type": "code",
   "execution_count": 23,
   "metadata": {
    "id": "q8WhqrbuZRC6"
   },
   "outputs": [],
   "source": [
    "evaluator = evaluation.BinaryClassificationEvaluator(X_val['question'].values.tolist(),\n",
    "                                                     X_val['answer'].values.tolist(),\n",
    "                                                     X_val['label'].values.tolist())\n",
    "tensorboard_evaluator = LossEvaluator(val_dataloader, loss_model=train_loss, log_dir='logs/', name='train')"
   ]
  },
  {
   "cell_type": "code",
   "execution_count": 37,
   "metadata": {
    "colab": {
     "base_uri": "https://localhost:8080/"
    },
    "id": "Q88IFTBWc6m1",
    "outputId": "20b2397a-9298-4897-920a-8eaffa2ed215"
   },
   "outputs": [],
   "source": [
    "!mkdir output"
   ]
  },
  {
   "cell_type": "code",
   "execution_count": 20,
   "metadata": {},
   "outputs": [
    {
     "data": {
      "text/plain": [
       "SentenceTransformer(\n",
       "  (0): Transformer({'max_seq_length': 256, 'do_lower_case': False}) with Transformer model: RobertaModel \n",
       "  (1): Pooling({'word_embedding_dimension': 1024, 'pooling_mode_cls_token': False, 'pooling_mode_mean_tokens': True, 'pooling_mode_max_tokens': False, 'pooling_mode_mean_sqrt_len_tokens': False})\n",
       ")"
      ]
     },
     "execution_count": 20,
     "metadata": {},
     "output_type": "execute_result"
    }
   ],
   "source": [
    "model"
   ]
  },
  {
   "cell_type": "code",
   "execution_count": 24,
   "metadata": {
    "colab": {
     "base_uri": "https://localhost:8080/",
     "height": 489,
     "referenced_widgets": [
      "76255c57ac544b978e80eba0fc2a4a7e",
      "80189655781842ecb242184f51e4609b",
      "4ec3c048f1724e49a88585a0dfbd2cc2",
      "a2ce08f4e70c4f539badc5cb61c5cf67",
      "2b0175019126477f94635eed1566946c",
      "1b6c06099ab44f66a25bf92f4045a12a",
      "97db5da2b1dd45868e9a0f5fe2e7b542",
      "b9e8a10fd3cd443e8720c5022d9f525d",
      "89626114f89643b1805a7e6d26ae3dd9",
      "15ec5a4b68b44a07bb18949b49e77010",
      "2ee4bc90fa3f42a59772d0994a14f587",
      "91daa9de58b94705a91ff221f5998c38",
      "f05959fe18a24c288f529375ee93260c",
      "366c55661bbc4da39b12ee7a31145bbd",
      "2456d966046a453e8a2603cf661cb4cc",
      "f88341d933b54eabb5bc957d5cbe29df",
      "7126439ed8d94db3b8ce055b88785c6c",
      "683131e578d947b39eb0b22dd398a1b9",
      "ee4bbb5d562440858acc034c910ea183",
      "cc69ac517fcd4eddb60add5ec79a2b99",
      "e8599920bd50482aa222fd81748dcb06",
      "d62fdd2e5fc84b3aad6812ffd8673c71"
     ]
    },
    "id": "6A82klwWZPGn",
    "outputId": "3cc90c34-2994-44b3-8703-050b6a8080da"
   },
   "outputs": [
    {
     "data": {
      "application/vnd.jupyter.widget-view+json": {
       "model_id": "111df723b7bd422199a0ce731f99611a",
       "version_major": 2,
       "version_minor": 0
      },
      "text/plain": [
       "Epoch:   0%|          | 0/8 [00:00<?, ?it/s]"
      ]
     },
     "metadata": {},
     "output_type": "display_data"
    },
    {
     "data": {
      "application/vnd.jupyter.widget-view+json": {
       "model_id": "152eb5f7d64c41cf8e7b2f3e2c4b9eb5",
       "version_major": 2,
       "version_minor": 0
      },
      "text/plain": [
       "Iteration:   0%|          | 0/5772 [00:00<?, ?it/s]"
      ]
     },
     "metadata": {},
     "output_type": "display_data"
    },
    {
     "name": "stdout",
     "output_type": "stream",
     "text": [
      "2023-11-17 20:43:52 - Save model to output/\n"
     ]
    },
    {
     "ename": "KeyboardInterrupt",
     "evalue": "",
     "output_type": "error",
     "traceback": [
      "\u001b[0;31m---------------------------------------------------------------------------\u001b[0m",
      "\u001b[0;31mKeyboardInterrupt\u001b[0m                         Traceback (most recent call last)",
      "Cell \u001b[0;32mIn[24], line 1\u001b[0m\n\u001b[0;32m----> 1\u001b[0m \u001b[43mmodel\u001b[49m\u001b[38;5;241;43m.\u001b[39;49m\u001b[43mfit\u001b[49m\u001b[43m(\u001b[49m\u001b[43mtrain_objectives\u001b[49m\u001b[38;5;241;43m=\u001b[39;49m\u001b[43m[\u001b[49m\u001b[43m(\u001b[49m\u001b[43mtrain_dataloader\u001b[49m\u001b[43m,\u001b[49m\u001b[43m \u001b[49m\u001b[43mtrain_loss\u001b[49m\u001b[43m)\u001b[49m\u001b[43m]\u001b[49m\u001b[43m,\u001b[49m\n\u001b[1;32m      2\u001b[0m \u001b[43m            \u001b[49m\u001b[43mepochs\u001b[49m\u001b[38;5;241;43m=\u001b[39;49m\u001b[38;5;241;43m8\u001b[39;49m\u001b[43m,\u001b[49m\n\u001b[1;32m      3\u001b[0m \u001b[43m            \u001b[49m\u001b[43mwarmup_steps\u001b[49m\u001b[38;5;241;43m=\u001b[39;49m\u001b[38;5;241;43m1000\u001b[39;49m\u001b[43m,\u001b[49m\n\u001b[1;32m      4\u001b[0m \u001b[43m            \u001b[49m\u001b[43moptimizer_params\u001b[49m\u001b[38;5;241;43m=\u001b[39;49m\u001b[43m{\u001b[49m\u001b[38;5;124;43m'\u001b[39;49m\u001b[38;5;124;43mlr\u001b[39;49m\u001b[38;5;124;43m'\u001b[39;49m\u001b[43m:\u001b[49m\u001b[43m \u001b[49m\u001b[38;5;241;43m1e-5\u001b[39;49m\u001b[43m}\u001b[49m\u001b[43m,\u001b[49m\n\u001b[1;32m      5\u001b[0m \u001b[43m            \u001b[49m\u001b[43msave_best_model\u001b[49m\u001b[38;5;241;43m=\u001b[39;49m\u001b[38;5;28;43;01mTrue\u001b[39;49;00m\u001b[43m,\u001b[49m\n\u001b[1;32m      6\u001b[0m \u001b[43m            \u001b[49m\u001b[43mevaluator\u001b[49m\u001b[38;5;241;43m=\u001b[39;49m\u001b[43mtensorboard_evaluator\u001b[49m\u001b[43m,\u001b[49m\n\u001b[1;32m      7\u001b[0m \u001b[43m            \u001b[49m\u001b[43mevaluation_steps\u001b[49m\u001b[38;5;241;43m=\u001b[39;49m\u001b[38;5;241;43m50\u001b[39;49m\u001b[43m,\u001b[49m\n\u001b[1;32m      8\u001b[0m \u001b[43m            \u001b[49m\u001b[43moutput_path\u001b[49m\u001b[38;5;241;43m=\u001b[39;49m\u001b[38;5;124;43m'\u001b[39;49m\u001b[38;5;124;43moutput/\u001b[39;49m\u001b[38;5;124;43m'\u001b[39;49m\u001b[43m,\u001b[49m\n\u001b[1;32m      9\u001b[0m \u001b[43m            \u001b[49m\u001b[43muse_amp\u001b[49m\u001b[38;5;241;43m=\u001b[39;49m\u001b[38;5;28;43;01mTrue\u001b[39;49;00m\u001b[43m,\u001b[49m\n\u001b[1;32m     10\u001b[0m \u001b[43m            \u001b[49m\u001b[43mshow_progress_bar\u001b[49m\u001b[38;5;241;43m=\u001b[39;49m\u001b[38;5;28;43;01mTrue\u001b[39;49;00m\u001b[43m)\u001b[49m\n",
      "File \u001b[0;32m/opt/conda/lib/python3.10/site-packages/sentence_transformers/SentenceTransformer.py:735\u001b[0m, in \u001b[0;36mSentenceTransformer.fit\u001b[0;34m(self, train_objectives, evaluator, epochs, steps_per_epoch, scheduler, warmup_steps, optimizer_class, optimizer_params, weight_decay, evaluation_steps, output_path, save_best_model, max_grad_norm, use_amp, callback, show_progress_bar, checkpoint_path, checkpoint_save_steps, checkpoint_save_total_limit)\u001b[0m\n\u001b[1;32m    732\u001b[0m global_step \u001b[38;5;241m+\u001b[39m\u001b[38;5;241m=\u001b[39m \u001b[38;5;241m1\u001b[39m\n\u001b[1;32m    734\u001b[0m \u001b[38;5;28;01mif\u001b[39;00m evaluation_steps \u001b[38;5;241m>\u001b[39m \u001b[38;5;241m0\u001b[39m \u001b[38;5;129;01mand\u001b[39;00m training_steps \u001b[38;5;241m%\u001b[39m evaluation_steps \u001b[38;5;241m==\u001b[39m \u001b[38;5;241m0\u001b[39m:\n\u001b[0;32m--> 735\u001b[0m     \u001b[38;5;28;43mself\u001b[39;49m\u001b[38;5;241;43m.\u001b[39;49m\u001b[43m_eval_during_training\u001b[49m\u001b[43m(\u001b[49m\u001b[43mevaluator\u001b[49m\u001b[43m,\u001b[49m\u001b[43m \u001b[49m\u001b[43moutput_path\u001b[49m\u001b[43m,\u001b[49m\u001b[43m \u001b[49m\u001b[43msave_best_model\u001b[49m\u001b[43m,\u001b[49m\u001b[43m \u001b[49m\u001b[43mepoch\u001b[49m\u001b[43m,\u001b[49m\u001b[43m \u001b[49m\u001b[43mtraining_steps\u001b[49m\u001b[43m,\u001b[49m\u001b[43m \u001b[49m\u001b[43mcallback\u001b[49m\u001b[43m)\u001b[49m\n\u001b[1;32m    737\u001b[0m     \u001b[38;5;28;01mfor\u001b[39;00m loss_model \u001b[38;5;129;01min\u001b[39;00m loss_models:\n\u001b[1;32m    738\u001b[0m         loss_model\u001b[38;5;241m.\u001b[39mzero_grad()\n",
      "File \u001b[0;32m/opt/conda/lib/python3.10/site-packages/sentence_transformers/SentenceTransformer.py:777\u001b[0m, in \u001b[0;36mSentenceTransformer._eval_during_training\u001b[0;34m(self, evaluator, output_path, save_best_model, epoch, steps, callback)\u001b[0m\n\u001b[1;32m    774\u001b[0m     os\u001b[38;5;241m.\u001b[39mmakedirs(eval_path, exist_ok\u001b[38;5;241m=\u001b[39m\u001b[38;5;28;01mTrue\u001b[39;00m)\n\u001b[1;32m    776\u001b[0m \u001b[38;5;28;01mif\u001b[39;00m evaluator \u001b[38;5;129;01mis\u001b[39;00m \u001b[38;5;129;01mnot\u001b[39;00m \u001b[38;5;28;01mNone\u001b[39;00m:\n\u001b[0;32m--> 777\u001b[0m     score \u001b[38;5;241m=\u001b[39m \u001b[43mevaluator\u001b[49m\u001b[43m(\u001b[49m\u001b[38;5;28;43mself\u001b[39;49m\u001b[43m,\u001b[49m\u001b[43m \u001b[49m\u001b[43moutput_path\u001b[49m\u001b[38;5;241;43m=\u001b[39;49m\u001b[43meval_path\u001b[49m\u001b[43m,\u001b[49m\u001b[43m \u001b[49m\u001b[43mepoch\u001b[49m\u001b[38;5;241;43m=\u001b[39;49m\u001b[43mepoch\u001b[49m\u001b[43m,\u001b[49m\u001b[43m \u001b[49m\u001b[43msteps\u001b[49m\u001b[38;5;241;43m=\u001b[39;49m\u001b[43msteps\u001b[49m\u001b[43m)\u001b[49m\n\u001b[1;32m    778\u001b[0m     \u001b[38;5;28;01mif\u001b[39;00m callback \u001b[38;5;129;01mis\u001b[39;00m \u001b[38;5;129;01mnot\u001b[39;00m \u001b[38;5;28;01mNone\u001b[39;00m:\n\u001b[1;32m    779\u001b[0m         callback(score, epoch, steps)\n",
      "Cell \u001b[0;32mIn[22], line 68\u001b[0m, in \u001b[0;36mLossEvaluator.__call__\u001b[0;34m(self, model, output_path, epoch, steps)\u001b[0m\n\u001b[1;32m     66\u001b[0m                 sentence_features[i][key] \u001b[38;5;241m=\u001b[39m sentence_features[i][key]\u001b[38;5;241m.\u001b[39mto(\u001b[38;5;28mself\u001b[39m\u001b[38;5;241m.\u001b[39mdevice)\n\u001b[1;32m     67\u001b[0m         labels \u001b[38;5;241m=\u001b[39m labels\u001b[38;5;241m.\u001b[39mto(\u001b[38;5;28mself\u001b[39m\u001b[38;5;241m.\u001b[39mdevice)\n\u001b[0;32m---> 68\u001b[0m         loss_value \u001b[38;5;241m+\u001b[39m\u001b[38;5;241m=\u001b[39m \u001b[38;5;28;43mself\u001b[39;49m\u001b[38;5;241;43m.\u001b[39;49m\u001b[43mloss_model\u001b[49m\u001b[43m(\u001b[49m\u001b[43msentence_features\u001b[49m\u001b[43m,\u001b[49m\u001b[43m \u001b[49m\u001b[43mlabels\u001b[49m\u001b[43m)\u001b[49m\u001b[38;5;241m.\u001b[39mitem()\n\u001b[1;32m     70\u001b[0m final_loss \u001b[38;5;241m=\u001b[39m loss_value \u001b[38;5;241m/\u001b[39m num_batches\n\u001b[1;32m     71\u001b[0m \u001b[38;5;28;01mif\u001b[39;00m output_path \u001b[38;5;129;01mis\u001b[39;00m \u001b[38;5;129;01mnot\u001b[39;00m \u001b[38;5;28;01mNone\u001b[39;00m \u001b[38;5;129;01mand\u001b[39;00m \u001b[38;5;28mself\u001b[39m\u001b[38;5;241m.\u001b[39mwrite_csv:\n",
      "File \u001b[0;32m/opt/conda/lib/python3.10/site-packages/torch/nn/modules/module.py:1501\u001b[0m, in \u001b[0;36mModule._call_impl\u001b[0;34m(self, *args, **kwargs)\u001b[0m\n\u001b[1;32m   1496\u001b[0m \u001b[38;5;66;03m# If we don't have any hooks, we want to skip the rest of the logic in\u001b[39;00m\n\u001b[1;32m   1497\u001b[0m \u001b[38;5;66;03m# this function, and just call forward.\u001b[39;00m\n\u001b[1;32m   1498\u001b[0m \u001b[38;5;28;01mif\u001b[39;00m \u001b[38;5;129;01mnot\u001b[39;00m (\u001b[38;5;28mself\u001b[39m\u001b[38;5;241m.\u001b[39m_backward_hooks \u001b[38;5;129;01mor\u001b[39;00m \u001b[38;5;28mself\u001b[39m\u001b[38;5;241m.\u001b[39m_backward_pre_hooks \u001b[38;5;129;01mor\u001b[39;00m \u001b[38;5;28mself\u001b[39m\u001b[38;5;241m.\u001b[39m_forward_hooks \u001b[38;5;129;01mor\u001b[39;00m \u001b[38;5;28mself\u001b[39m\u001b[38;5;241m.\u001b[39m_forward_pre_hooks\n\u001b[1;32m   1499\u001b[0m         \u001b[38;5;129;01mor\u001b[39;00m _global_backward_pre_hooks \u001b[38;5;129;01mor\u001b[39;00m _global_backward_hooks\n\u001b[1;32m   1500\u001b[0m         \u001b[38;5;129;01mor\u001b[39;00m _global_forward_hooks \u001b[38;5;129;01mor\u001b[39;00m _global_forward_pre_hooks):\n\u001b[0;32m-> 1501\u001b[0m     \u001b[38;5;28;01mreturn\u001b[39;00m \u001b[43mforward_call\u001b[49m\u001b[43m(\u001b[49m\u001b[38;5;241;43m*\u001b[39;49m\u001b[43margs\u001b[49m\u001b[43m,\u001b[49m\u001b[43m \u001b[49m\u001b[38;5;241;43m*\u001b[39;49m\u001b[38;5;241;43m*\u001b[39;49m\u001b[43mkwargs\u001b[49m\u001b[43m)\u001b[49m\n\u001b[1;32m   1502\u001b[0m \u001b[38;5;66;03m# Do not call functions when jit is used\u001b[39;00m\n\u001b[1;32m   1503\u001b[0m full_backward_hooks, non_full_backward_hooks \u001b[38;5;241m=\u001b[39m [], []\n",
      "File \u001b[0;32m/opt/conda/lib/python3.10/site-packages/sentence_transformers/losses/ContrastiveLoss.py:63\u001b[0m, in \u001b[0;36mContrastiveLoss.forward\u001b[0;34m(self, sentence_features, labels)\u001b[0m\n\u001b[1;32m     62\u001b[0m \u001b[38;5;28;01mdef\u001b[39;00m \u001b[38;5;21mforward\u001b[39m(\u001b[38;5;28mself\u001b[39m, sentence_features: Iterable[Dict[\u001b[38;5;28mstr\u001b[39m, Tensor]], labels: Tensor):\n\u001b[0;32m---> 63\u001b[0m     reps \u001b[38;5;241m=\u001b[39m [\u001b[38;5;28mself\u001b[39m\u001b[38;5;241m.\u001b[39mmodel(sentence_feature)[\u001b[38;5;124m'\u001b[39m\u001b[38;5;124msentence_embedding\u001b[39m\u001b[38;5;124m'\u001b[39m] \u001b[38;5;28;01mfor\u001b[39;00m sentence_feature \u001b[38;5;129;01min\u001b[39;00m sentence_features]\n\u001b[1;32m     64\u001b[0m     \u001b[38;5;28;01massert\u001b[39;00m \u001b[38;5;28mlen\u001b[39m(reps) \u001b[38;5;241m==\u001b[39m \u001b[38;5;241m2\u001b[39m\n\u001b[1;32m     65\u001b[0m     rep_anchor, rep_other \u001b[38;5;241m=\u001b[39m reps\n",
      "File \u001b[0;32m/opt/conda/lib/python3.10/site-packages/sentence_transformers/losses/ContrastiveLoss.py:63\u001b[0m, in \u001b[0;36m<listcomp>\u001b[0;34m(.0)\u001b[0m\n\u001b[1;32m     62\u001b[0m \u001b[38;5;28;01mdef\u001b[39;00m \u001b[38;5;21mforward\u001b[39m(\u001b[38;5;28mself\u001b[39m, sentence_features: Iterable[Dict[\u001b[38;5;28mstr\u001b[39m, Tensor]], labels: Tensor):\n\u001b[0;32m---> 63\u001b[0m     reps \u001b[38;5;241m=\u001b[39m [\u001b[38;5;28;43mself\u001b[39;49m\u001b[38;5;241;43m.\u001b[39;49m\u001b[43mmodel\u001b[49m\u001b[43m(\u001b[49m\u001b[43msentence_feature\u001b[49m\u001b[43m)\u001b[49m[\u001b[38;5;124m'\u001b[39m\u001b[38;5;124msentence_embedding\u001b[39m\u001b[38;5;124m'\u001b[39m] \u001b[38;5;28;01mfor\u001b[39;00m sentence_feature \u001b[38;5;129;01min\u001b[39;00m sentence_features]\n\u001b[1;32m     64\u001b[0m     \u001b[38;5;28;01massert\u001b[39;00m \u001b[38;5;28mlen\u001b[39m(reps) \u001b[38;5;241m==\u001b[39m \u001b[38;5;241m2\u001b[39m\n\u001b[1;32m     65\u001b[0m     rep_anchor, rep_other \u001b[38;5;241m=\u001b[39m reps\n",
      "File \u001b[0;32m/opt/conda/lib/python3.10/site-packages/torch/nn/modules/module.py:1501\u001b[0m, in \u001b[0;36mModule._call_impl\u001b[0;34m(self, *args, **kwargs)\u001b[0m\n\u001b[1;32m   1496\u001b[0m \u001b[38;5;66;03m# If we don't have any hooks, we want to skip the rest of the logic in\u001b[39;00m\n\u001b[1;32m   1497\u001b[0m \u001b[38;5;66;03m# this function, and just call forward.\u001b[39;00m\n\u001b[1;32m   1498\u001b[0m \u001b[38;5;28;01mif\u001b[39;00m \u001b[38;5;129;01mnot\u001b[39;00m (\u001b[38;5;28mself\u001b[39m\u001b[38;5;241m.\u001b[39m_backward_hooks \u001b[38;5;129;01mor\u001b[39;00m \u001b[38;5;28mself\u001b[39m\u001b[38;5;241m.\u001b[39m_backward_pre_hooks \u001b[38;5;129;01mor\u001b[39;00m \u001b[38;5;28mself\u001b[39m\u001b[38;5;241m.\u001b[39m_forward_hooks \u001b[38;5;129;01mor\u001b[39;00m \u001b[38;5;28mself\u001b[39m\u001b[38;5;241m.\u001b[39m_forward_pre_hooks\n\u001b[1;32m   1499\u001b[0m         \u001b[38;5;129;01mor\u001b[39;00m _global_backward_pre_hooks \u001b[38;5;129;01mor\u001b[39;00m _global_backward_hooks\n\u001b[1;32m   1500\u001b[0m         \u001b[38;5;129;01mor\u001b[39;00m _global_forward_hooks \u001b[38;5;129;01mor\u001b[39;00m _global_forward_pre_hooks):\n\u001b[0;32m-> 1501\u001b[0m     \u001b[38;5;28;01mreturn\u001b[39;00m \u001b[43mforward_call\u001b[49m\u001b[43m(\u001b[49m\u001b[38;5;241;43m*\u001b[39;49m\u001b[43margs\u001b[49m\u001b[43m,\u001b[49m\u001b[43m \u001b[49m\u001b[38;5;241;43m*\u001b[39;49m\u001b[38;5;241;43m*\u001b[39;49m\u001b[43mkwargs\u001b[49m\u001b[43m)\u001b[49m\n\u001b[1;32m   1502\u001b[0m \u001b[38;5;66;03m# Do not call functions when jit is used\u001b[39;00m\n\u001b[1;32m   1503\u001b[0m full_backward_hooks, non_full_backward_hooks \u001b[38;5;241m=\u001b[39m [], []\n",
      "File \u001b[0;32m/opt/conda/lib/python3.10/site-packages/torch/nn/modules/container.py:217\u001b[0m, in \u001b[0;36mSequential.forward\u001b[0;34m(self, input)\u001b[0m\n\u001b[1;32m    215\u001b[0m \u001b[38;5;28;01mdef\u001b[39;00m \u001b[38;5;21mforward\u001b[39m(\u001b[38;5;28mself\u001b[39m, \u001b[38;5;28minput\u001b[39m):\n\u001b[1;32m    216\u001b[0m     \u001b[38;5;28;01mfor\u001b[39;00m module \u001b[38;5;129;01min\u001b[39;00m \u001b[38;5;28mself\u001b[39m:\n\u001b[0;32m--> 217\u001b[0m         \u001b[38;5;28minput\u001b[39m \u001b[38;5;241m=\u001b[39m \u001b[43mmodule\u001b[49m\u001b[43m(\u001b[49m\u001b[38;5;28;43minput\u001b[39;49m\u001b[43m)\u001b[49m\n\u001b[1;32m    218\u001b[0m     \u001b[38;5;28;01mreturn\u001b[39;00m \u001b[38;5;28minput\u001b[39m\n",
      "File \u001b[0;32m/opt/conda/lib/python3.10/site-packages/torch/nn/modules/module.py:1501\u001b[0m, in \u001b[0;36mModule._call_impl\u001b[0;34m(self, *args, **kwargs)\u001b[0m\n\u001b[1;32m   1496\u001b[0m \u001b[38;5;66;03m# If we don't have any hooks, we want to skip the rest of the logic in\u001b[39;00m\n\u001b[1;32m   1497\u001b[0m \u001b[38;5;66;03m# this function, and just call forward.\u001b[39;00m\n\u001b[1;32m   1498\u001b[0m \u001b[38;5;28;01mif\u001b[39;00m \u001b[38;5;129;01mnot\u001b[39;00m (\u001b[38;5;28mself\u001b[39m\u001b[38;5;241m.\u001b[39m_backward_hooks \u001b[38;5;129;01mor\u001b[39;00m \u001b[38;5;28mself\u001b[39m\u001b[38;5;241m.\u001b[39m_backward_pre_hooks \u001b[38;5;129;01mor\u001b[39;00m \u001b[38;5;28mself\u001b[39m\u001b[38;5;241m.\u001b[39m_forward_hooks \u001b[38;5;129;01mor\u001b[39;00m \u001b[38;5;28mself\u001b[39m\u001b[38;5;241m.\u001b[39m_forward_pre_hooks\n\u001b[1;32m   1499\u001b[0m         \u001b[38;5;129;01mor\u001b[39;00m _global_backward_pre_hooks \u001b[38;5;129;01mor\u001b[39;00m _global_backward_hooks\n\u001b[1;32m   1500\u001b[0m         \u001b[38;5;129;01mor\u001b[39;00m _global_forward_hooks \u001b[38;5;129;01mor\u001b[39;00m _global_forward_pre_hooks):\n\u001b[0;32m-> 1501\u001b[0m     \u001b[38;5;28;01mreturn\u001b[39;00m \u001b[43mforward_call\u001b[49m\u001b[43m(\u001b[49m\u001b[38;5;241;43m*\u001b[39;49m\u001b[43margs\u001b[49m\u001b[43m,\u001b[49m\u001b[43m \u001b[49m\u001b[38;5;241;43m*\u001b[39;49m\u001b[38;5;241;43m*\u001b[39;49m\u001b[43mkwargs\u001b[49m\u001b[43m)\u001b[49m\n\u001b[1;32m   1502\u001b[0m \u001b[38;5;66;03m# Do not call functions when jit is used\u001b[39;00m\n\u001b[1;32m   1503\u001b[0m full_backward_hooks, non_full_backward_hooks \u001b[38;5;241m=\u001b[39m [], []\n",
      "File \u001b[0;32m/opt/conda/lib/python3.10/site-packages/sentence_transformers/models/Transformer.py:66\u001b[0m, in \u001b[0;36mTransformer.forward\u001b[0;34m(self, features)\u001b[0m\n\u001b[1;32m     63\u001b[0m \u001b[38;5;28;01mif\u001b[39;00m \u001b[38;5;124m'\u001b[39m\u001b[38;5;124mtoken_type_ids\u001b[39m\u001b[38;5;124m'\u001b[39m \u001b[38;5;129;01min\u001b[39;00m features:\n\u001b[1;32m     64\u001b[0m     trans_features[\u001b[38;5;124m'\u001b[39m\u001b[38;5;124mtoken_type_ids\u001b[39m\u001b[38;5;124m'\u001b[39m] \u001b[38;5;241m=\u001b[39m features[\u001b[38;5;124m'\u001b[39m\u001b[38;5;124mtoken_type_ids\u001b[39m\u001b[38;5;124m'\u001b[39m]\n\u001b[0;32m---> 66\u001b[0m output_states \u001b[38;5;241m=\u001b[39m \u001b[38;5;28;43mself\u001b[39;49m\u001b[38;5;241;43m.\u001b[39;49m\u001b[43mauto_model\u001b[49m\u001b[43m(\u001b[49m\u001b[38;5;241;43m*\u001b[39;49m\u001b[38;5;241;43m*\u001b[39;49m\u001b[43mtrans_features\u001b[49m\u001b[43m,\u001b[49m\u001b[43m \u001b[49m\u001b[43mreturn_dict\u001b[49m\u001b[38;5;241;43m=\u001b[39;49m\u001b[38;5;28;43;01mFalse\u001b[39;49;00m\u001b[43m)\u001b[49m\n\u001b[1;32m     67\u001b[0m output_tokens \u001b[38;5;241m=\u001b[39m output_states[\u001b[38;5;241m0\u001b[39m]\n\u001b[1;32m     69\u001b[0m features\u001b[38;5;241m.\u001b[39mupdate({\u001b[38;5;124m'\u001b[39m\u001b[38;5;124mtoken_embeddings\u001b[39m\u001b[38;5;124m'\u001b[39m: output_tokens, \u001b[38;5;124m'\u001b[39m\u001b[38;5;124mattention_mask\u001b[39m\u001b[38;5;124m'\u001b[39m: features[\u001b[38;5;124m'\u001b[39m\u001b[38;5;124mattention_mask\u001b[39m\u001b[38;5;124m'\u001b[39m]})\n",
      "File \u001b[0;32m/opt/conda/lib/python3.10/site-packages/torch/nn/modules/module.py:1501\u001b[0m, in \u001b[0;36mModule._call_impl\u001b[0;34m(self, *args, **kwargs)\u001b[0m\n\u001b[1;32m   1496\u001b[0m \u001b[38;5;66;03m# If we don't have any hooks, we want to skip the rest of the logic in\u001b[39;00m\n\u001b[1;32m   1497\u001b[0m \u001b[38;5;66;03m# this function, and just call forward.\u001b[39;00m\n\u001b[1;32m   1498\u001b[0m \u001b[38;5;28;01mif\u001b[39;00m \u001b[38;5;129;01mnot\u001b[39;00m (\u001b[38;5;28mself\u001b[39m\u001b[38;5;241m.\u001b[39m_backward_hooks \u001b[38;5;129;01mor\u001b[39;00m \u001b[38;5;28mself\u001b[39m\u001b[38;5;241m.\u001b[39m_backward_pre_hooks \u001b[38;5;129;01mor\u001b[39;00m \u001b[38;5;28mself\u001b[39m\u001b[38;5;241m.\u001b[39m_forward_hooks \u001b[38;5;129;01mor\u001b[39;00m \u001b[38;5;28mself\u001b[39m\u001b[38;5;241m.\u001b[39m_forward_pre_hooks\n\u001b[1;32m   1499\u001b[0m         \u001b[38;5;129;01mor\u001b[39;00m _global_backward_pre_hooks \u001b[38;5;129;01mor\u001b[39;00m _global_backward_hooks\n\u001b[1;32m   1500\u001b[0m         \u001b[38;5;129;01mor\u001b[39;00m _global_forward_hooks \u001b[38;5;129;01mor\u001b[39;00m _global_forward_pre_hooks):\n\u001b[0;32m-> 1501\u001b[0m     \u001b[38;5;28;01mreturn\u001b[39;00m \u001b[43mforward_call\u001b[49m\u001b[43m(\u001b[49m\u001b[38;5;241;43m*\u001b[39;49m\u001b[43margs\u001b[49m\u001b[43m,\u001b[49m\u001b[43m \u001b[49m\u001b[38;5;241;43m*\u001b[39;49m\u001b[38;5;241;43m*\u001b[39;49m\u001b[43mkwargs\u001b[49m\u001b[43m)\u001b[49m\n\u001b[1;32m   1502\u001b[0m \u001b[38;5;66;03m# Do not call functions when jit is used\u001b[39;00m\n\u001b[1;32m   1503\u001b[0m full_backward_hooks, non_full_backward_hooks \u001b[38;5;241m=\u001b[39m [], []\n",
      "File \u001b[0;32m/opt/conda/lib/python3.10/site-packages/transformers/models/roberta/modeling_roberta.py:835\u001b[0m, in \u001b[0;36mRobertaModel.forward\u001b[0;34m(self, input_ids, attention_mask, token_type_ids, position_ids, head_mask, inputs_embeds, encoder_hidden_states, encoder_attention_mask, past_key_values, use_cache, output_attentions, output_hidden_states, return_dict)\u001b[0m\n\u001b[1;32m    826\u001b[0m head_mask \u001b[38;5;241m=\u001b[39m \u001b[38;5;28mself\u001b[39m\u001b[38;5;241m.\u001b[39mget_head_mask(head_mask, \u001b[38;5;28mself\u001b[39m\u001b[38;5;241m.\u001b[39mconfig\u001b[38;5;241m.\u001b[39mnum_hidden_layers)\n\u001b[1;32m    828\u001b[0m embedding_output \u001b[38;5;241m=\u001b[39m \u001b[38;5;28mself\u001b[39m\u001b[38;5;241m.\u001b[39membeddings(\n\u001b[1;32m    829\u001b[0m     input_ids\u001b[38;5;241m=\u001b[39minput_ids,\n\u001b[1;32m    830\u001b[0m     position_ids\u001b[38;5;241m=\u001b[39mposition_ids,\n\u001b[0;32m   (...)\u001b[0m\n\u001b[1;32m    833\u001b[0m     past_key_values_length\u001b[38;5;241m=\u001b[39mpast_key_values_length,\n\u001b[1;32m    834\u001b[0m )\n\u001b[0;32m--> 835\u001b[0m encoder_outputs \u001b[38;5;241m=\u001b[39m \u001b[38;5;28;43mself\u001b[39;49m\u001b[38;5;241;43m.\u001b[39;49m\u001b[43mencoder\u001b[49m\u001b[43m(\u001b[49m\n\u001b[1;32m    836\u001b[0m \u001b[43m    \u001b[49m\u001b[43membedding_output\u001b[49m\u001b[43m,\u001b[49m\n\u001b[1;32m    837\u001b[0m \u001b[43m    \u001b[49m\u001b[43mattention_mask\u001b[49m\u001b[38;5;241;43m=\u001b[39;49m\u001b[43mextended_attention_mask\u001b[49m\u001b[43m,\u001b[49m\n\u001b[1;32m    838\u001b[0m \u001b[43m    \u001b[49m\u001b[43mhead_mask\u001b[49m\u001b[38;5;241;43m=\u001b[39;49m\u001b[43mhead_mask\u001b[49m\u001b[43m,\u001b[49m\n\u001b[1;32m    839\u001b[0m \u001b[43m    \u001b[49m\u001b[43mencoder_hidden_states\u001b[49m\u001b[38;5;241;43m=\u001b[39;49m\u001b[43mencoder_hidden_states\u001b[49m\u001b[43m,\u001b[49m\n\u001b[1;32m    840\u001b[0m \u001b[43m    \u001b[49m\u001b[43mencoder_attention_mask\u001b[49m\u001b[38;5;241;43m=\u001b[39;49m\u001b[43mencoder_extended_attention_mask\u001b[49m\u001b[43m,\u001b[49m\n\u001b[1;32m    841\u001b[0m \u001b[43m    \u001b[49m\u001b[43mpast_key_values\u001b[49m\u001b[38;5;241;43m=\u001b[39;49m\u001b[43mpast_key_values\u001b[49m\u001b[43m,\u001b[49m\n\u001b[1;32m    842\u001b[0m \u001b[43m    \u001b[49m\u001b[43muse_cache\u001b[49m\u001b[38;5;241;43m=\u001b[39;49m\u001b[43muse_cache\u001b[49m\u001b[43m,\u001b[49m\n\u001b[1;32m    843\u001b[0m \u001b[43m    \u001b[49m\u001b[43moutput_attentions\u001b[49m\u001b[38;5;241;43m=\u001b[39;49m\u001b[43moutput_attentions\u001b[49m\u001b[43m,\u001b[49m\n\u001b[1;32m    844\u001b[0m \u001b[43m    \u001b[49m\u001b[43moutput_hidden_states\u001b[49m\u001b[38;5;241;43m=\u001b[39;49m\u001b[43moutput_hidden_states\u001b[49m\u001b[43m,\u001b[49m\n\u001b[1;32m    845\u001b[0m \u001b[43m    \u001b[49m\u001b[43mreturn_dict\u001b[49m\u001b[38;5;241;43m=\u001b[39;49m\u001b[43mreturn_dict\u001b[49m\u001b[43m,\u001b[49m\n\u001b[1;32m    846\u001b[0m \u001b[43m\u001b[49m\u001b[43m)\u001b[49m\n\u001b[1;32m    847\u001b[0m sequence_output \u001b[38;5;241m=\u001b[39m encoder_outputs[\u001b[38;5;241m0\u001b[39m]\n\u001b[1;32m    848\u001b[0m pooled_output \u001b[38;5;241m=\u001b[39m \u001b[38;5;28mself\u001b[39m\u001b[38;5;241m.\u001b[39mpooler(sequence_output) \u001b[38;5;28;01mif\u001b[39;00m \u001b[38;5;28mself\u001b[39m\u001b[38;5;241m.\u001b[39mpooler \u001b[38;5;129;01mis\u001b[39;00m \u001b[38;5;129;01mnot\u001b[39;00m \u001b[38;5;28;01mNone\u001b[39;00m \u001b[38;5;28;01melse\u001b[39;00m \u001b[38;5;28;01mNone\u001b[39;00m\n",
      "File \u001b[0;32m/opt/conda/lib/python3.10/site-packages/torch/nn/modules/module.py:1501\u001b[0m, in \u001b[0;36mModule._call_impl\u001b[0;34m(self, *args, **kwargs)\u001b[0m\n\u001b[1;32m   1496\u001b[0m \u001b[38;5;66;03m# If we don't have any hooks, we want to skip the rest of the logic in\u001b[39;00m\n\u001b[1;32m   1497\u001b[0m \u001b[38;5;66;03m# this function, and just call forward.\u001b[39;00m\n\u001b[1;32m   1498\u001b[0m \u001b[38;5;28;01mif\u001b[39;00m \u001b[38;5;129;01mnot\u001b[39;00m (\u001b[38;5;28mself\u001b[39m\u001b[38;5;241m.\u001b[39m_backward_hooks \u001b[38;5;129;01mor\u001b[39;00m \u001b[38;5;28mself\u001b[39m\u001b[38;5;241m.\u001b[39m_backward_pre_hooks \u001b[38;5;129;01mor\u001b[39;00m \u001b[38;5;28mself\u001b[39m\u001b[38;5;241m.\u001b[39m_forward_hooks \u001b[38;5;129;01mor\u001b[39;00m \u001b[38;5;28mself\u001b[39m\u001b[38;5;241m.\u001b[39m_forward_pre_hooks\n\u001b[1;32m   1499\u001b[0m         \u001b[38;5;129;01mor\u001b[39;00m _global_backward_pre_hooks \u001b[38;5;129;01mor\u001b[39;00m _global_backward_hooks\n\u001b[1;32m   1500\u001b[0m         \u001b[38;5;129;01mor\u001b[39;00m _global_forward_hooks \u001b[38;5;129;01mor\u001b[39;00m _global_forward_pre_hooks):\n\u001b[0;32m-> 1501\u001b[0m     \u001b[38;5;28;01mreturn\u001b[39;00m \u001b[43mforward_call\u001b[49m\u001b[43m(\u001b[49m\u001b[38;5;241;43m*\u001b[39;49m\u001b[43margs\u001b[49m\u001b[43m,\u001b[49m\u001b[43m \u001b[49m\u001b[38;5;241;43m*\u001b[39;49m\u001b[38;5;241;43m*\u001b[39;49m\u001b[43mkwargs\u001b[49m\u001b[43m)\u001b[49m\n\u001b[1;32m   1502\u001b[0m \u001b[38;5;66;03m# Do not call functions when jit is used\u001b[39;00m\n\u001b[1;32m   1503\u001b[0m full_backward_hooks, non_full_backward_hooks \u001b[38;5;241m=\u001b[39m [], []\n",
      "File \u001b[0;32m/opt/conda/lib/python3.10/site-packages/transformers/models/roberta/modeling_roberta.py:524\u001b[0m, in \u001b[0;36mRobertaEncoder.forward\u001b[0;34m(self, hidden_states, attention_mask, head_mask, encoder_hidden_states, encoder_attention_mask, past_key_values, use_cache, output_attentions, output_hidden_states, return_dict)\u001b[0m\n\u001b[1;32m    513\u001b[0m     layer_outputs \u001b[38;5;241m=\u001b[39m \u001b[38;5;28mself\u001b[39m\u001b[38;5;241m.\u001b[39m_gradient_checkpointing_func(\n\u001b[1;32m    514\u001b[0m         layer_module\u001b[38;5;241m.\u001b[39m\u001b[38;5;21m__call__\u001b[39m,\n\u001b[1;32m    515\u001b[0m         hidden_states,\n\u001b[0;32m   (...)\u001b[0m\n\u001b[1;32m    521\u001b[0m         output_attentions,\n\u001b[1;32m    522\u001b[0m     )\n\u001b[1;32m    523\u001b[0m \u001b[38;5;28;01melse\u001b[39;00m:\n\u001b[0;32m--> 524\u001b[0m     layer_outputs \u001b[38;5;241m=\u001b[39m \u001b[43mlayer_module\u001b[49m\u001b[43m(\u001b[49m\n\u001b[1;32m    525\u001b[0m \u001b[43m        \u001b[49m\u001b[43mhidden_states\u001b[49m\u001b[43m,\u001b[49m\n\u001b[1;32m    526\u001b[0m \u001b[43m        \u001b[49m\u001b[43mattention_mask\u001b[49m\u001b[43m,\u001b[49m\n\u001b[1;32m    527\u001b[0m \u001b[43m        \u001b[49m\u001b[43mlayer_head_mask\u001b[49m\u001b[43m,\u001b[49m\n\u001b[1;32m    528\u001b[0m \u001b[43m        \u001b[49m\u001b[43mencoder_hidden_states\u001b[49m\u001b[43m,\u001b[49m\n\u001b[1;32m    529\u001b[0m \u001b[43m        \u001b[49m\u001b[43mencoder_attention_mask\u001b[49m\u001b[43m,\u001b[49m\n\u001b[1;32m    530\u001b[0m \u001b[43m        \u001b[49m\u001b[43mpast_key_value\u001b[49m\u001b[43m,\u001b[49m\n\u001b[1;32m    531\u001b[0m \u001b[43m        \u001b[49m\u001b[43moutput_attentions\u001b[49m\u001b[43m,\u001b[49m\n\u001b[1;32m    532\u001b[0m \u001b[43m    \u001b[49m\u001b[43m)\u001b[49m\n\u001b[1;32m    534\u001b[0m hidden_states \u001b[38;5;241m=\u001b[39m layer_outputs[\u001b[38;5;241m0\u001b[39m]\n\u001b[1;32m    535\u001b[0m \u001b[38;5;28;01mif\u001b[39;00m use_cache:\n",
      "File \u001b[0;32m/opt/conda/lib/python3.10/site-packages/torch/nn/modules/module.py:1501\u001b[0m, in \u001b[0;36mModule._call_impl\u001b[0;34m(self, *args, **kwargs)\u001b[0m\n\u001b[1;32m   1496\u001b[0m \u001b[38;5;66;03m# If we don't have any hooks, we want to skip the rest of the logic in\u001b[39;00m\n\u001b[1;32m   1497\u001b[0m \u001b[38;5;66;03m# this function, and just call forward.\u001b[39;00m\n\u001b[1;32m   1498\u001b[0m \u001b[38;5;28;01mif\u001b[39;00m \u001b[38;5;129;01mnot\u001b[39;00m (\u001b[38;5;28mself\u001b[39m\u001b[38;5;241m.\u001b[39m_backward_hooks \u001b[38;5;129;01mor\u001b[39;00m \u001b[38;5;28mself\u001b[39m\u001b[38;5;241m.\u001b[39m_backward_pre_hooks \u001b[38;5;129;01mor\u001b[39;00m \u001b[38;5;28mself\u001b[39m\u001b[38;5;241m.\u001b[39m_forward_hooks \u001b[38;5;129;01mor\u001b[39;00m \u001b[38;5;28mself\u001b[39m\u001b[38;5;241m.\u001b[39m_forward_pre_hooks\n\u001b[1;32m   1499\u001b[0m         \u001b[38;5;129;01mor\u001b[39;00m _global_backward_pre_hooks \u001b[38;5;129;01mor\u001b[39;00m _global_backward_hooks\n\u001b[1;32m   1500\u001b[0m         \u001b[38;5;129;01mor\u001b[39;00m _global_forward_hooks \u001b[38;5;129;01mor\u001b[39;00m _global_forward_pre_hooks):\n\u001b[0;32m-> 1501\u001b[0m     \u001b[38;5;28;01mreturn\u001b[39;00m \u001b[43mforward_call\u001b[49m\u001b[43m(\u001b[49m\u001b[38;5;241;43m*\u001b[39;49m\u001b[43margs\u001b[49m\u001b[43m,\u001b[49m\u001b[43m \u001b[49m\u001b[38;5;241;43m*\u001b[39;49m\u001b[38;5;241;43m*\u001b[39;49m\u001b[43mkwargs\u001b[49m\u001b[43m)\u001b[49m\n\u001b[1;32m   1502\u001b[0m \u001b[38;5;66;03m# Do not call functions when jit is used\u001b[39;00m\n\u001b[1;32m   1503\u001b[0m full_backward_hooks, non_full_backward_hooks \u001b[38;5;241m=\u001b[39m [], []\n",
      "File \u001b[0;32m/opt/conda/lib/python3.10/site-packages/transformers/models/roberta/modeling_roberta.py:413\u001b[0m, in \u001b[0;36mRobertaLayer.forward\u001b[0;34m(self, hidden_states, attention_mask, head_mask, encoder_hidden_states, encoder_attention_mask, past_key_value, output_attentions)\u001b[0m\n\u001b[1;32m    401\u001b[0m \u001b[38;5;28;01mdef\u001b[39;00m \u001b[38;5;21mforward\u001b[39m(\n\u001b[1;32m    402\u001b[0m     \u001b[38;5;28mself\u001b[39m,\n\u001b[1;32m    403\u001b[0m     hidden_states: torch\u001b[38;5;241m.\u001b[39mTensor,\n\u001b[0;32m   (...)\u001b[0m\n\u001b[1;32m    410\u001b[0m ) \u001b[38;5;241m-\u001b[39m\u001b[38;5;241m>\u001b[39m Tuple[torch\u001b[38;5;241m.\u001b[39mTensor]:\n\u001b[1;32m    411\u001b[0m     \u001b[38;5;66;03m# decoder uni-directional self-attention cached key/values tuple is at positions 1,2\u001b[39;00m\n\u001b[1;32m    412\u001b[0m     self_attn_past_key_value \u001b[38;5;241m=\u001b[39m past_key_value[:\u001b[38;5;241m2\u001b[39m] \u001b[38;5;28;01mif\u001b[39;00m past_key_value \u001b[38;5;129;01mis\u001b[39;00m \u001b[38;5;129;01mnot\u001b[39;00m \u001b[38;5;28;01mNone\u001b[39;00m \u001b[38;5;28;01melse\u001b[39;00m \u001b[38;5;28;01mNone\u001b[39;00m\n\u001b[0;32m--> 413\u001b[0m     self_attention_outputs \u001b[38;5;241m=\u001b[39m \u001b[38;5;28;43mself\u001b[39;49m\u001b[38;5;241;43m.\u001b[39;49m\u001b[43mattention\u001b[49m\u001b[43m(\u001b[49m\n\u001b[1;32m    414\u001b[0m \u001b[43m        \u001b[49m\u001b[43mhidden_states\u001b[49m\u001b[43m,\u001b[49m\n\u001b[1;32m    415\u001b[0m \u001b[43m        \u001b[49m\u001b[43mattention_mask\u001b[49m\u001b[43m,\u001b[49m\n\u001b[1;32m    416\u001b[0m \u001b[43m        \u001b[49m\u001b[43mhead_mask\u001b[49m\u001b[43m,\u001b[49m\n\u001b[1;32m    417\u001b[0m \u001b[43m        \u001b[49m\u001b[43moutput_attentions\u001b[49m\u001b[38;5;241;43m=\u001b[39;49m\u001b[43moutput_attentions\u001b[49m\u001b[43m,\u001b[49m\n\u001b[1;32m    418\u001b[0m \u001b[43m        \u001b[49m\u001b[43mpast_key_value\u001b[49m\u001b[38;5;241;43m=\u001b[39;49m\u001b[43mself_attn_past_key_value\u001b[49m\u001b[43m,\u001b[49m\n\u001b[1;32m    419\u001b[0m \u001b[43m    \u001b[49m\u001b[43m)\u001b[49m\n\u001b[1;32m    420\u001b[0m     attention_output \u001b[38;5;241m=\u001b[39m self_attention_outputs[\u001b[38;5;241m0\u001b[39m]\n\u001b[1;32m    422\u001b[0m     \u001b[38;5;66;03m# if decoder, the last output is tuple of self-attn cache\u001b[39;00m\n",
      "File \u001b[0;32m/opt/conda/lib/python3.10/site-packages/torch/nn/modules/module.py:1501\u001b[0m, in \u001b[0;36mModule._call_impl\u001b[0;34m(self, *args, **kwargs)\u001b[0m\n\u001b[1;32m   1496\u001b[0m \u001b[38;5;66;03m# If we don't have any hooks, we want to skip the rest of the logic in\u001b[39;00m\n\u001b[1;32m   1497\u001b[0m \u001b[38;5;66;03m# this function, and just call forward.\u001b[39;00m\n\u001b[1;32m   1498\u001b[0m \u001b[38;5;28;01mif\u001b[39;00m \u001b[38;5;129;01mnot\u001b[39;00m (\u001b[38;5;28mself\u001b[39m\u001b[38;5;241m.\u001b[39m_backward_hooks \u001b[38;5;129;01mor\u001b[39;00m \u001b[38;5;28mself\u001b[39m\u001b[38;5;241m.\u001b[39m_backward_pre_hooks \u001b[38;5;129;01mor\u001b[39;00m \u001b[38;5;28mself\u001b[39m\u001b[38;5;241m.\u001b[39m_forward_hooks \u001b[38;5;129;01mor\u001b[39;00m \u001b[38;5;28mself\u001b[39m\u001b[38;5;241m.\u001b[39m_forward_pre_hooks\n\u001b[1;32m   1499\u001b[0m         \u001b[38;5;129;01mor\u001b[39;00m _global_backward_pre_hooks \u001b[38;5;129;01mor\u001b[39;00m _global_backward_hooks\n\u001b[1;32m   1500\u001b[0m         \u001b[38;5;129;01mor\u001b[39;00m _global_forward_hooks \u001b[38;5;129;01mor\u001b[39;00m _global_forward_pre_hooks):\n\u001b[0;32m-> 1501\u001b[0m     \u001b[38;5;28;01mreturn\u001b[39;00m \u001b[43mforward_call\u001b[49m\u001b[43m(\u001b[49m\u001b[38;5;241;43m*\u001b[39;49m\u001b[43margs\u001b[49m\u001b[43m,\u001b[49m\u001b[43m \u001b[49m\u001b[38;5;241;43m*\u001b[39;49m\u001b[38;5;241;43m*\u001b[39;49m\u001b[43mkwargs\u001b[49m\u001b[43m)\u001b[49m\n\u001b[1;32m   1502\u001b[0m \u001b[38;5;66;03m# Do not call functions when jit is used\u001b[39;00m\n\u001b[1;32m   1503\u001b[0m full_backward_hooks, non_full_backward_hooks \u001b[38;5;241m=\u001b[39m [], []\n",
      "File \u001b[0;32m/opt/conda/lib/python3.10/site-packages/transformers/models/roberta/modeling_roberta.py:340\u001b[0m, in \u001b[0;36mRobertaAttention.forward\u001b[0;34m(self, hidden_states, attention_mask, head_mask, encoder_hidden_states, encoder_attention_mask, past_key_value, output_attentions)\u001b[0m\n\u001b[1;32m    330\u001b[0m \u001b[38;5;28;01mdef\u001b[39;00m \u001b[38;5;21mforward\u001b[39m(\n\u001b[1;32m    331\u001b[0m     \u001b[38;5;28mself\u001b[39m,\n\u001b[1;32m    332\u001b[0m     hidden_states: torch\u001b[38;5;241m.\u001b[39mTensor,\n\u001b[0;32m   (...)\u001b[0m\n\u001b[1;32m    338\u001b[0m     output_attentions: Optional[\u001b[38;5;28mbool\u001b[39m] \u001b[38;5;241m=\u001b[39m \u001b[38;5;28;01mFalse\u001b[39;00m,\n\u001b[1;32m    339\u001b[0m ) \u001b[38;5;241m-\u001b[39m\u001b[38;5;241m>\u001b[39m Tuple[torch\u001b[38;5;241m.\u001b[39mTensor]:\n\u001b[0;32m--> 340\u001b[0m     self_outputs \u001b[38;5;241m=\u001b[39m \u001b[38;5;28;43mself\u001b[39;49m\u001b[38;5;241;43m.\u001b[39;49m\u001b[43mself\u001b[49m\u001b[43m(\u001b[49m\n\u001b[1;32m    341\u001b[0m \u001b[43m        \u001b[49m\u001b[43mhidden_states\u001b[49m\u001b[43m,\u001b[49m\n\u001b[1;32m    342\u001b[0m \u001b[43m        \u001b[49m\u001b[43mattention_mask\u001b[49m\u001b[43m,\u001b[49m\n\u001b[1;32m    343\u001b[0m \u001b[43m        \u001b[49m\u001b[43mhead_mask\u001b[49m\u001b[43m,\u001b[49m\n\u001b[1;32m    344\u001b[0m \u001b[43m        \u001b[49m\u001b[43mencoder_hidden_states\u001b[49m\u001b[43m,\u001b[49m\n\u001b[1;32m    345\u001b[0m \u001b[43m        \u001b[49m\u001b[43mencoder_attention_mask\u001b[49m\u001b[43m,\u001b[49m\n\u001b[1;32m    346\u001b[0m \u001b[43m        \u001b[49m\u001b[43mpast_key_value\u001b[49m\u001b[43m,\u001b[49m\n\u001b[1;32m    347\u001b[0m \u001b[43m        \u001b[49m\u001b[43moutput_attentions\u001b[49m\u001b[43m,\u001b[49m\n\u001b[1;32m    348\u001b[0m \u001b[43m    \u001b[49m\u001b[43m)\u001b[49m\n\u001b[1;32m    349\u001b[0m     attention_output \u001b[38;5;241m=\u001b[39m \u001b[38;5;28mself\u001b[39m\u001b[38;5;241m.\u001b[39moutput(self_outputs[\u001b[38;5;241m0\u001b[39m], hidden_states)\n\u001b[1;32m    350\u001b[0m     outputs \u001b[38;5;241m=\u001b[39m (attention_output,) \u001b[38;5;241m+\u001b[39m self_outputs[\u001b[38;5;241m1\u001b[39m:]  \u001b[38;5;66;03m# add attentions if we output them\u001b[39;00m\n",
      "File \u001b[0;32m/opt/conda/lib/python3.10/site-packages/torch/nn/modules/module.py:1501\u001b[0m, in \u001b[0;36mModule._call_impl\u001b[0;34m(self, *args, **kwargs)\u001b[0m\n\u001b[1;32m   1496\u001b[0m \u001b[38;5;66;03m# If we don't have any hooks, we want to skip the rest of the logic in\u001b[39;00m\n\u001b[1;32m   1497\u001b[0m \u001b[38;5;66;03m# this function, and just call forward.\u001b[39;00m\n\u001b[1;32m   1498\u001b[0m \u001b[38;5;28;01mif\u001b[39;00m \u001b[38;5;129;01mnot\u001b[39;00m (\u001b[38;5;28mself\u001b[39m\u001b[38;5;241m.\u001b[39m_backward_hooks \u001b[38;5;129;01mor\u001b[39;00m \u001b[38;5;28mself\u001b[39m\u001b[38;5;241m.\u001b[39m_backward_pre_hooks \u001b[38;5;129;01mor\u001b[39;00m \u001b[38;5;28mself\u001b[39m\u001b[38;5;241m.\u001b[39m_forward_hooks \u001b[38;5;129;01mor\u001b[39;00m \u001b[38;5;28mself\u001b[39m\u001b[38;5;241m.\u001b[39m_forward_pre_hooks\n\u001b[1;32m   1499\u001b[0m         \u001b[38;5;129;01mor\u001b[39;00m _global_backward_pre_hooks \u001b[38;5;129;01mor\u001b[39;00m _global_backward_hooks\n\u001b[1;32m   1500\u001b[0m         \u001b[38;5;129;01mor\u001b[39;00m _global_forward_hooks \u001b[38;5;129;01mor\u001b[39;00m _global_forward_pre_hooks):\n\u001b[0;32m-> 1501\u001b[0m     \u001b[38;5;28;01mreturn\u001b[39;00m \u001b[43mforward_call\u001b[49m\u001b[43m(\u001b[49m\u001b[38;5;241;43m*\u001b[39;49m\u001b[43margs\u001b[49m\u001b[43m,\u001b[49m\u001b[43m \u001b[49m\u001b[38;5;241;43m*\u001b[39;49m\u001b[38;5;241;43m*\u001b[39;49m\u001b[43mkwargs\u001b[49m\u001b[43m)\u001b[49m\n\u001b[1;32m   1502\u001b[0m \u001b[38;5;66;03m# Do not call functions when jit is used\u001b[39;00m\n\u001b[1;32m   1503\u001b[0m full_backward_hooks, non_full_backward_hooks \u001b[38;5;241m=\u001b[39m [], []\n",
      "File \u001b[0;32m/opt/conda/lib/python3.10/site-packages/transformers/models/roberta/modeling_roberta.py:236\u001b[0m, in \u001b[0;36mRobertaSelfAttention.forward\u001b[0;34m(self, hidden_states, attention_mask, head_mask, encoder_hidden_states, encoder_attention_mask, past_key_value, output_attentions)\u001b[0m\n\u001b[1;32m    233\u001b[0m     past_key_value \u001b[38;5;241m=\u001b[39m (key_layer, value_layer)\n\u001b[1;32m    235\u001b[0m \u001b[38;5;66;03m# Take the dot product between \"query\" and \"key\" to get the raw attention scores.\u001b[39;00m\n\u001b[0;32m--> 236\u001b[0m attention_scores \u001b[38;5;241m=\u001b[39m \u001b[43mtorch\u001b[49m\u001b[38;5;241;43m.\u001b[39;49m\u001b[43mmatmul\u001b[49m\u001b[43m(\u001b[49m\u001b[43mquery_layer\u001b[49m\u001b[43m,\u001b[49m\u001b[43m \u001b[49m\u001b[43mkey_layer\u001b[49m\u001b[38;5;241;43m.\u001b[39;49m\u001b[43mtranspose\u001b[49m\u001b[43m(\u001b[49m\u001b[38;5;241;43m-\u001b[39;49m\u001b[38;5;241;43m1\u001b[39;49m\u001b[43m,\u001b[49m\u001b[43m \u001b[49m\u001b[38;5;241;43m-\u001b[39;49m\u001b[38;5;241;43m2\u001b[39;49m\u001b[43m)\u001b[49m\u001b[43m)\u001b[49m\n\u001b[1;32m    238\u001b[0m \u001b[38;5;28;01mif\u001b[39;00m \u001b[38;5;28mself\u001b[39m\u001b[38;5;241m.\u001b[39mposition_embedding_type \u001b[38;5;241m==\u001b[39m \u001b[38;5;124m\"\u001b[39m\u001b[38;5;124mrelative_key\u001b[39m\u001b[38;5;124m\"\u001b[39m \u001b[38;5;129;01mor\u001b[39;00m \u001b[38;5;28mself\u001b[39m\u001b[38;5;241m.\u001b[39mposition_embedding_type \u001b[38;5;241m==\u001b[39m \u001b[38;5;124m\"\u001b[39m\u001b[38;5;124mrelative_key_query\u001b[39m\u001b[38;5;124m\"\u001b[39m:\n\u001b[1;32m    239\u001b[0m     query_length, key_length \u001b[38;5;241m=\u001b[39m query_layer\u001b[38;5;241m.\u001b[39mshape[\u001b[38;5;241m2\u001b[39m], key_layer\u001b[38;5;241m.\u001b[39mshape[\u001b[38;5;241m2\u001b[39m]\n",
      "\u001b[0;31mKeyboardInterrupt\u001b[0m: "
     ]
    }
   ],
   "source": [
    "model.fit(train_objectives=[(train_dataloader, train_loss)],\n",
    "            epochs=10,\n",
    "            warmup_steps=1000,\n",
    "            optimizer_params={'lr': 1e-5},\n",
    "            save_best_model=True,\n",
    "            evaluator=tensorboard_evaluator,\n",
    "            evaluation_steps=50,\n",
    "            output_path='output/',\n",
    "            use_amp=True,\n",
    "            show_progress_bar=True)"
   ]
  },
  {
   "cell_type": "code",
   "execution_count": 20,
   "metadata": {
    "id": "c8LFGxHgc_kN"
   },
   "outputs": [
    {
     "name": "stdout",
     "output_type": "stream",
     "text": [
      "2023-11-17 13:00:01 - Binary Accuracy Evaluation of the model on  dataset:\n",
      "2023-11-17 13:01:48 - Accuracy with Cosine-Similarity:           86.51\t(Threshold: 0.9898)\n",
      "2023-11-17 13:01:48 - F1 with Cosine-Similarity:                 70.44\t(Threshold: 0.9871)\n",
      "2023-11-17 13:01:48 - Precision with Cosine-Similarity:          75.04\n",
      "2023-11-17 13:01:48 - Recall with Cosine-Similarity:             66.37\n",
      "2023-11-17 13:01:48 - Average Precision with Cosine-Similarity:  78.21\n",
      "\n",
      "2023-11-17 13:01:48 - Accuracy with Manhattan-Distance:           86.34\t(Threshold: 14.7568)\n",
      "2023-11-17 13:01:48 - F1 with Manhattan-Distance:                 70.11\t(Threshold: 16.7393)\n",
      "2023-11-17 13:01:48 - Precision with Manhattan-Distance:          73.89\n",
      "2023-11-17 13:01:48 - Recall with Manhattan-Distance:             66.69\n",
      "2023-11-17 13:01:48 - Average Precision with Manhattan-Distance:  77.30\n",
      "\n",
      "2023-11-17 13:01:48 - Accuracy with Euclidean-Distance:           86.36\t(Threshold: 0.5772)\n",
      "2023-11-17 13:01:48 - F1 with Euclidean-Distance:                 70.12\t(Threshold: 0.6454)\n",
      "2023-11-17 13:01:48 - Precision with Euclidean-Distance:          75.21\n",
      "2023-11-17 13:01:48 - Recall with Euclidean-Distance:             65.68\n",
      "2023-11-17 13:01:48 - Average Precision with Euclidean-Distance:  77.30\n",
      "\n",
      "2023-11-17 13:01:48 - Accuracy with Dot-Product:           76.23\t(Threshold: 18.5653)\n",
      "2023-11-17 13:01:48 - F1 with Dot-Product:                 54.50\t(Threshold: 15.4415)\n",
      "2023-11-17 13:01:48 - Precision with Dot-Product:          44.62\n",
      "2023-11-17 13:01:48 - Recall with Dot-Product:             70.01\n",
      "2023-11-17 13:01:48 - Average Precision with Dot-Product:  51.33\n",
      "\n"
     ]
    },
    {
     "data": {
      "text/plain": [
       "0.7821118080662481"
      ]
     },
     "execution_count": 20,
     "metadata": {},
     "output_type": "execute_result"
    }
   ],
   "source": [
    "model.evaluate(evaluator)"
   ]
  },
  {
   "cell_type": "markdown",
   "metadata": {},
   "source": [
    "# Benchmark"
   ]
  },
  {
   "cell_type": "code",
   "execution_count": 2,
   "metadata": {},
   "outputs": [],
   "source": [
    "import pandas as pd\n",
    "import numpy as np\n",
    "from sentence_transformers import SentenceTransformer, models, InputExample, losses, LoggingHandler\n",
    "from torch.utils.data import DataLoader\n",
    "import pickle\n",
    "from sentence_transformers import evaluation\n",
    "import logging\n",
    "from tqdm import tqdm\n",
    "\n",
    "import re\n",
    "def process(text):\n",
    "    text = str(text)\n",
    "    text = re.sub('((www\\.[^\\s]+)|(https?://[^\\s]+))', 'URL', text)\n",
    "    text = re.sub('@[^\\s]+', 'AT_ABC', text)\n",
    "    text = re.sub(r'\\n', ' ', text)\n",
    "    text = re.sub(r'([\\w]+\\) )', '.', text)\n",
    "    text = re.sub(r'([\\d]+\\. )', '', text)\n",
    "    text = re.sub(r'[^aAàÀảẢãÃáÁạẠăĂằẰẳẲẵẴắẮặẶâÂầẦẩẨẫẪấẤậẬbBcCdDđĐeEèÈẻẺẽẼéÉẹẸêÊềỀểỂễỄếẾệỆfFgGhHiIìÌỉỈĩĨíÍịỊjJkKlLmMnNoOòÒỏỎõÕóÓọỌôÔồỒổỔỗỖốỐộỘơƠờỜởỞỡỠớỚợỢpPqQrRsStTuUùÙủỦũŨúÚụỤưƯừỪửỬữỮứỨựỰvVwWxXyYỳỲỷỶỹỸýÝỵỴzZ0-9., ]', '', text)\n",
    "    text = text.replace('.', '. ')\n",
    "    text = text.replace(' .', '. ')\n",
    "    text = re.sub(r'[\\s]+', ' ', text)\n",
    "    text = text.strip('.')\n",
    "    text = text.strip('\\'\"')\n",
    "    text = text.strip()\n",
    "    text = text.lower()\n",
    "    return text\n",
    "\n",
    "df_test = pd.read_csv(\"test.csv\")\n",
    "df_test['label'] = df_test['label'].astype(np.int16)"
   ]
  },
  {
   "cell_type": "code",
   "execution_count": 3,
   "metadata": {},
   "outputs": [],
   "source": [
    "evaluator = evaluation.BinaryClassificationEvaluator(df_test['question'].apply(process).values.tolist(),\n",
    "                                                     df_test['combine'].values.tolist(),\n",
    "                                                     df_test['label'].values.tolist())"
   ]
  },
  {
   "cell_type": "code",
   "execution_count": 6,
   "metadata": {},
   "outputs": [
    {
     "data": {
      "text/plain": [
       "0.4696954546016417"
      ]
     },
     "execution_count": 6,
     "metadata": {},
     "output_type": "execute_result"
    }
   ],
   "source": [
    "# phobert-large\n",
    "\n",
    "word_embedding_model = models.Transformer(\"vinai/phobert-large\", max_seq_length=256)\n",
    "pooling_model = models.Pooling(word_embedding_model.get_word_embedding_dimension())\n",
    "model = SentenceTransformer(modules=[word_embedding_model, pooling_model])\n",
    "model.evaluate(evaluator)"
   ]
  },
  {
   "cell_type": "code",
   "execution_count": 7,
   "metadata": {},
   "outputs": [
    {
     "data": {
      "text/plain": [
       "0.35896102084691295"
      ]
     },
     "execution_count": 7,
     "metadata": {},
     "output_type": "execute_result"
    }
   ],
   "source": [
    "# phobert-large finetuned\n",
    "\n",
    "# word_embedding_model = models.Transformer(\"output2/\", max_seq_length=256)\n",
    "# pooling_model = models.Pooling(word_embedding_model.get_word_embedding_dimension())\n",
    "model = SentenceTransformer(\"output/\")\n",
    "model.evaluate(evaluator)"
   ]
  },
  {
   "cell_type": "markdown",
   "metadata": {},
   "source": [
    "# Hard negative mining"
   ]
  },
  {
   "cell_type": "code",
   "execution_count": 13,
   "metadata": {},
   "outputs": [],
   "source": [
    "model = SentenceTransformer(\"output2/\")\n",
    "model.max_seq_length = 256\n",
    "# model.evaluate(evaluator)"
   ]
  },
  {
   "cell_type": "code",
   "execution_count": 14,
   "metadata": {},
   "outputs": [
    {
     "name": "stdout",
     "output_type": "stream",
     "text": [
      "/opt/conda/lib/python3.10/site-packages/gdown/cli.py:126: FutureWarning: Option `--id` was deprecated in version 4.3.1 and will be removed in 5.0. You don't need to pass it anymore to use a file ID.\n",
      "  warnings.warn(\n",
      "Downloading...\n",
      "From (uriginal): https://drive.google.com/uc?id=1lhU83Lvhcf_qKAAQeuqRVrJTPIeCdGos\n",
      "From (redirected): https://drive.google.com/uc?id=1lhU83Lvhcf_qKAAQeuqRVrJTPIeCdGos&confirm=t&uuid=feedab1d-45a3-46d0-96a5-466b7fbd8949\n",
      "To: /workspace/final_data_minimize.csv\n",
      "100%|████████████████████████████████████████| 785M/785M [00:18<00:00, 43.0MB/s]\n"
     ]
    }
   ],
   "source": [
    "#download corpus\n",
    "!gdown --id 1lhU83Lvhcf_qKAAQeuqRVrJTPIeCdGos"
   ]
  },
  {
   "cell_type": "code",
   "execution_count": 14,
   "metadata": {},
   "outputs": [
    {
     "data": {
      "text/html": [
       "<div>\n",
       "<style scoped>\n",
       "    .dataframe tbody tr th:only-of-type {\n",
       "        vertical-align: middle;\n",
       "    }\n",
       "\n",
       "    .dataframe tbody tr th {\n",
       "        vertical-align: top;\n",
       "    }\n",
       "\n",
       "    .dataframe thead th {\n",
       "        text-align: right;\n",
       "    }\n",
       "</style>\n",
       "<table border=\"1\" class=\"dataframe\">\n",
       "  <thead>\n",
       "    <tr style=\"text-align: right;\">\n",
       "      <th></th>\n",
       "      <th>law_id</th>\n",
       "      <th>article_id</th>\n",
       "      <th>combine</th>\n",
       "    </tr>\n",
       "  </thead>\n",
       "  <tbody>\n",
       "    <tr>\n",
       "      <th>0</th>\n",
       "      <td>hpks0</td>\n",
       "      <td>0.0</td>\n",
       "      <td>nước cộng hòa xã hội chủ nghĩa việt nam là một...</td>\n",
       "    </tr>\n",
       "    <tr>\n",
       "      <th>1</th>\n",
       "      <td>hpks0</td>\n",
       "      <td>1.0</td>\n",
       "      <td>1. nhà nước cộng hòa xã hội chủ nghĩa việt nam...</td>\n",
       "    </tr>\n",
       "    <tr>\n",
       "      <th>2</th>\n",
       "      <td>hpks0</td>\n",
       "      <td>2.0</td>\n",
       "      <td>nhà nước bảo đảm và phát huy quyền làm chủ của...</td>\n",
       "    </tr>\n",
       "    <tr>\n",
       "      <th>3</th>\n",
       "      <td>hpks0</td>\n",
       "      <td>3.0</td>\n",
       "      <td>1. đảng cộng sản việt nam - đội tiên phong của...</td>\n",
       "    </tr>\n",
       "    <tr>\n",
       "      <th>4</th>\n",
       "      <td>hpks0</td>\n",
       "      <td>4.0</td>\n",
       "      <td>1. nước cộng hòa xã hội chủ nghĩa việt nam là ...</td>\n",
       "    </tr>\n",
       "  </tbody>\n",
       "</table>\n",
       "</div>"
      ],
      "text/plain": [
       "  law_id  article_id                                            combine\n",
       "0  hpks0         0.0  nước cộng hòa xã hội chủ nghĩa việt nam là một...\n",
       "1  hpks0         1.0  1. nhà nước cộng hòa xã hội chủ nghĩa việt nam...\n",
       "2  hpks0         2.0  nhà nước bảo đảm và phát huy quyền làm chủ của...\n",
       "3  hpks0         3.0  1. đảng cộng sản việt nam - đội tiên phong của...\n",
       "4  hpks0         4.0  1. nước cộng hòa xã hội chủ nghĩa việt nam là ..."
      ]
     },
     "execution_count": 14,
     "metadata": {},
     "output_type": "execute_result"
    }
   ],
   "source": [
    "df_corpus = pd.read_csv(\"final_data_minimize.csv\",index_col=0)\n",
    "df_corpus.head()"
   ]
  },
  {
   "cell_type": "code",
   "execution_count": 22,
   "metadata": {},
   "outputs": [
    {
     "data": {
      "text/html": [
       "<div>\n",
       "<style scoped>\n",
       "    .dataframe tbody tr th:only-of-type {\n",
       "        vertical-align: middle;\n",
       "    }\n",
       "\n",
       "    .dataframe tbody tr th {\n",
       "        vertical-align: top;\n",
       "    }\n",
       "\n",
       "    .dataframe thead th {\n",
       "        text-align: right;\n",
       "    }\n",
       "</style>\n",
       "<table border=\"1\" class=\"dataframe\">\n",
       "  <thead>\n",
       "    <tr style=\"text-align: right;\">\n",
       "      <th></th>\n",
       "      <th>question_id</th>\n",
       "      <th>question</th>\n",
       "      <th>law_id</th>\n",
       "      <th>article_id</th>\n",
       "      <th>title</th>\n",
       "      <th>text</th>\n",
       "      <th>label</th>\n",
       "      <th>answer</th>\n",
       "      <th>error</th>\n",
       "    </tr>\n",
       "  </thead>\n",
       "  <tbody>\n",
       "    <tr>\n",
       "      <th>0</th>\n",
       "      <td>bb82be461b978c0189ee05a9091a360d</td>\n",
       "      <td>Mức phạt khi điều khiển xe ô tô gây tai nạn gi...</td>\n",
       "      <td>100/2019/nđ-cp</td>\n",
       "      <td>5</td>\n",
       "      <td>Điều 5. Xử phạt người điều khiển xe ô tô và cá...</td>\n",
       "      <td>1. Phạt tiền từ 200.000 đồng đến 400.000 đồng ...</td>\n",
       "      <td>1</td>\n",
       "      <td>điều 5 xử phạt người điều khiển xe ô tô và các...</td>\n",
       "      <td>False</td>\n",
       "    </tr>\n",
       "    <tr>\n",
       "      <th>1</th>\n",
       "      <td>56c5e4878ccc8d5983b6113c3d8c46e6</td>\n",
       "      <td>Có được giữ người trong trường hợp khẩn cấp kh...</td>\n",
       "      <td>101/2015/qh13</td>\n",
       "      <td>110</td>\n",
       "      <td>Điều 110. Giữ người trong trường hợp khẩn cấp</td>\n",
       "      <td>1. Khi thuộc một trong các trường hợp khẩn cấp...</td>\n",
       "      <td>1</td>\n",
       "      <td>điều 110 giữ người trong trường hợp khẩn cấp 1...</td>\n",
       "      <td>False</td>\n",
       "    </tr>\n",
       "    <tr>\n",
       "      <th>2</th>\n",
       "      <td>5884b3dd468ad6d31dbd21feb4a34b26</td>\n",
       "      <td>Điều chỉnh nội dung của bản công bố sử dụng dấ...</td>\n",
       "      <td>21/2014/tt-bkhcn</td>\n",
       "      <td>14</td>\n",
       "      <td>Điều 14. Điều chỉnh nội dung của bản công bố</td>\n",
       "      <td>1. Khi có bất kỳ sự thay đổi nào về nội dung c...</td>\n",
       "      <td>1</td>\n",
       "      <td>điều 14 điều chỉnh nội dung của bản công bố 1 ...</td>\n",
       "      <td>False</td>\n",
       "    </tr>\n",
       "    <tr>\n",
       "      <th>3</th>\n",
       "      <td>5e734e6b03c656aa79b4b01868accff2</td>\n",
       "      <td>Công trình đường ngang gồm các hạng mục công t...</td>\n",
       "      <td>06/2019/tt-bgtvt</td>\n",
       "      <td>3</td>\n",
       "      <td>Điều 3. Giải thích từ ngữ</td>\n",
       "      <td>Trong Thông tư này, các từ ngữ dưới đây được h...</td>\n",
       "      <td>1</td>\n",
       "      <td>điều 3 giải thích từ ngữ trong thông tư này cá...</td>\n",
       "      <td>False</td>\n",
       "    </tr>\n",
       "    <tr>\n",
       "      <th>4</th>\n",
       "      <td>e770446cac430f486f286e20d565b226</td>\n",
       "      <td>Mức phạt khi điều khiển xe ô tô đẩy xe khác là...</td>\n",
       "      <td>100/2019/nđ-cp</td>\n",
       "      <td>5</td>\n",
       "      <td>Điều 5. Xử phạt người điều khiển xe ô tô và cá...</td>\n",
       "      <td>1. Phạt tiền từ 200.000 đồng đến 400.000 đồng ...</td>\n",
       "      <td>1</td>\n",
       "      <td>điều 5 xử phạt người điều khiển xe ô tô và các...</td>\n",
       "      <td>False</td>\n",
       "    </tr>\n",
       "    <tr>\n",
       "      <th>...</th>\n",
       "      <td>...</td>\n",
       "      <td>...</td>\n",
       "      <td>...</td>\n",
       "      <td>...</td>\n",
       "      <td>...</td>\n",
       "      <td>...</td>\n",
       "      <td>...</td>\n",
       "      <td>...</td>\n",
       "      <td>...</td>\n",
       "    </tr>\n",
       "    <tr>\n",
       "      <th>2956</th>\n",
       "      <td>cae7fbfa74f57e66bd03fa8a0b801776</td>\n",
       "      <td>Cơ quan quản lý nhà nước về khuyến nông có trá...</td>\n",
       "      <td>83/2018/nđ-cp</td>\n",
       "      <td>31</td>\n",
       "      <td>Điều 31. Xã hội hóa khuyến nông, chuyển giao c...</td>\n",
       "      <td>1. Các tổ chức, cá nhân tham gia xã hội hóa ho...</td>\n",
       "      <td>1</td>\n",
       "      <td>điều 31 xã hội hóa khuyến nông chuyển giao côn...</td>\n",
       "      <td>False</td>\n",
       "    </tr>\n",
       "    <tr>\n",
       "      <th>2957</th>\n",
       "      <td>1d90be38e175b86802cc690ad15f9784</td>\n",
       "      <td>Mức phạt đối với hành vi điều khiển xe ô tô ki...</td>\n",
       "      <td>100/2019/nđ-cp</td>\n",
       "      <td>16</td>\n",
       "      <td>Điều 16. Xử phạt người điều khiển xe ô tô (bao...</td>\n",
       "      <td>1. Phạt tiền từ 100.000 đồng đến 200.000 đồng ...</td>\n",
       "      <td>1</td>\n",
       "      <td>điều 16 xử phạt người điều khiển xe ô tô bao g...</td>\n",
       "      <td>False</td>\n",
       "    </tr>\n",
       "    <tr>\n",
       "      <th>2958</th>\n",
       "      <td>817afb853f193ffe938887d569675cf0</td>\n",
       "      <td>Kiểm tra nhà nước về chất lượng sản phẩm, hàng...</td>\n",
       "      <td>26/2018/tt-blđtbxh</td>\n",
       "      <td>3</td>\n",
       "      <td>Điều 3. Kiểm tra nhà nước về chất lượng sản ph...</td>\n",
       "      <td>1. Hoạt động kiểm tra nhà nước về chất lượng s...</td>\n",
       "      <td>1</td>\n",
       "      <td>điều 3 kiểm tra nhà nước về chất lượng sản phẩ...</td>\n",
       "      <td>False</td>\n",
       "    </tr>\n",
       "    <tr>\n",
       "      <th>2959</th>\n",
       "      <td>a6f164cc19e193abe5f0323c807081be</td>\n",
       "      <td>Ứng dụng công nghệ thông tin trong việc cung c...</td>\n",
       "      <td>13/2018/nđ-cp</td>\n",
       "      <td>10</td>\n",
       "      <td>Điều 10. Ứng dụng công nghệ thông tin trong vi...</td>\n",
       "      <td>1. Người đứng đầu cơ quan cung cấp thông tin b...</td>\n",
       "      <td>1</td>\n",
       "      <td>điều 10 ứng dụng công nghệ thông tin trong việ...</td>\n",
       "      <td>False</td>\n",
       "    </tr>\n",
       "    <tr>\n",
       "      <th>2960</th>\n",
       "      <td>7e9a91a8b157ead81059304ae538cc04</td>\n",
       "      <td>Thời gian xét tha tù trước thời hạn áp dụng từ...</td>\n",
       "      <td>41/2019/qh14</td>\n",
       "      <td>57</td>\n",
       "      <td>Điều 57. Thời điểm xét tha tù trước thời hạn c...</td>\n",
       "      <td>Việc xét tha tù trước thời hạn có điều kiện đư...</td>\n",
       "      <td>1</td>\n",
       "      <td>điều 57 thời điểm xét tha tù trước thời hạn có...</td>\n",
       "      <td>False</td>\n",
       "    </tr>\n",
       "  </tbody>\n",
       "</table>\n",
       "<p>2961 rows × 9 columns</p>\n",
       "</div>"
      ],
      "text/plain": [
       "                           question_id  \\\n",
       "0     bb82be461b978c0189ee05a9091a360d   \n",
       "1     56c5e4878ccc8d5983b6113c3d8c46e6   \n",
       "2     5884b3dd468ad6d31dbd21feb4a34b26   \n",
       "3     5e734e6b03c656aa79b4b01868accff2   \n",
       "4     e770446cac430f486f286e20d565b226   \n",
       "...                                ...   \n",
       "2956  cae7fbfa74f57e66bd03fa8a0b801776   \n",
       "2957  1d90be38e175b86802cc690ad15f9784   \n",
       "2958  817afb853f193ffe938887d569675cf0   \n",
       "2959  a6f164cc19e193abe5f0323c807081be   \n",
       "2960  7e9a91a8b157ead81059304ae538cc04   \n",
       "\n",
       "                                               question              law_id  \\\n",
       "0     Mức phạt khi điều khiển xe ô tô gây tai nạn gi...      100/2019/nđ-cp   \n",
       "1     Có được giữ người trong trường hợp khẩn cấp kh...       101/2015/qh13   \n",
       "2     Điều chỉnh nội dung của bản công bố sử dụng dấ...    21/2014/tt-bkhcn   \n",
       "3     Công trình đường ngang gồm các hạng mục công t...    06/2019/tt-bgtvt   \n",
       "4     Mức phạt khi điều khiển xe ô tô đẩy xe khác là...      100/2019/nđ-cp   \n",
       "...                                                 ...                 ...   \n",
       "2956  Cơ quan quản lý nhà nước về khuyến nông có trá...       83/2018/nđ-cp   \n",
       "2957  Mức phạt đối với hành vi điều khiển xe ô tô ki...      100/2019/nđ-cp   \n",
       "2958  Kiểm tra nhà nước về chất lượng sản phẩm, hàng...  26/2018/tt-blđtbxh   \n",
       "2959  Ứng dụng công nghệ thông tin trong việc cung c...       13/2018/nđ-cp   \n",
       "2960  Thời gian xét tha tù trước thời hạn áp dụng từ...        41/2019/qh14   \n",
       "\n",
       "      article_id                                              title  \\\n",
       "0              5  Điều 5. Xử phạt người điều khiển xe ô tô và cá...   \n",
       "1            110      Điều 110. Giữ người trong trường hợp khẩn cấp   \n",
       "2             14       Điều 14. Điều chỉnh nội dung của bản công bố   \n",
       "3              3                          Điều 3. Giải thích từ ngữ   \n",
       "4              5  Điều 5. Xử phạt người điều khiển xe ô tô và cá...   \n",
       "...          ...                                                ...   \n",
       "2956          31  Điều 31. Xã hội hóa khuyến nông, chuyển giao c...   \n",
       "2957          16  Điều 16. Xử phạt người điều khiển xe ô tô (bao...   \n",
       "2958           3  Điều 3. Kiểm tra nhà nước về chất lượng sản ph...   \n",
       "2959          10  Điều 10. Ứng dụng công nghệ thông tin trong vi...   \n",
       "2960          57  Điều 57. Thời điểm xét tha tù trước thời hạn c...   \n",
       "\n",
       "                                                   text  label  \\\n",
       "0     1. Phạt tiền từ 200.000 đồng đến 400.000 đồng ...      1   \n",
       "1     1. Khi thuộc một trong các trường hợp khẩn cấp...      1   \n",
       "2     1. Khi có bất kỳ sự thay đổi nào về nội dung c...      1   \n",
       "3     Trong Thông tư này, các từ ngữ dưới đây được h...      1   \n",
       "4     1. Phạt tiền từ 200.000 đồng đến 400.000 đồng ...      1   \n",
       "...                                                 ...    ...   \n",
       "2956  1. Các tổ chức, cá nhân tham gia xã hội hóa ho...      1   \n",
       "2957  1. Phạt tiền từ 100.000 đồng đến 200.000 đồng ...      1   \n",
       "2958  1. Hoạt động kiểm tra nhà nước về chất lượng s...      1   \n",
       "2959  1. Người đứng đầu cơ quan cung cấp thông tin b...      1   \n",
       "2960  Việc xét tha tù trước thời hạn có điều kiện đư...      1   \n",
       "\n",
       "                                                 answer  error  \n",
       "0     điều 5 xử phạt người điều khiển xe ô tô và các...  False  \n",
       "1     điều 110 giữ người trong trường hợp khẩn cấp 1...  False  \n",
       "2     điều 14 điều chỉnh nội dung của bản công bố 1 ...  False  \n",
       "3     điều 3 giải thích từ ngữ trong thông tư này cá...  False  \n",
       "4     điều 5 xử phạt người điều khiển xe ô tô và các...  False  \n",
       "...                                                 ...    ...  \n",
       "2956  điều 31 xã hội hóa khuyến nông chuyển giao côn...  False  \n",
       "2957  điều 16 xử phạt người điều khiển xe ô tô bao g...  False  \n",
       "2958  điều 3 kiểm tra nhà nước về chất lượng sản phẩ...  False  \n",
       "2959  điều 10 ứng dụng công nghệ thông tin trong việ...  False  \n",
       "2960  điều 57 thời điểm xét tha tù trước thời hạn có...  False  \n",
       "\n",
       "[2961 rows x 9 columns]"
      ]
     },
     "execution_count": 22,
     "metadata": {},
     "output_type": "execute_result"
    }
   ],
   "source": [
    "df_train = df_train[df_train['label'] == True]\n",
    "df_train = df_train.reset_index(drop=True)\n",
    "df_train"
   ]
  },
  {
   "cell_type": "code",
   "execution_count": 23,
   "metadata": {},
   "outputs": [],
   "source": [
    "pred_list = []\n",
    "top_k = 3\n",
    "save_pairs = []"
   ]
  },
  {
   "cell_type": "code",
   "execution_count": null,
   "metadata": {},
   "outputs": [
    {
     "data": {
      "application/vnd.jupyter.widget-view+json": {
       "model_id": "3727fc0d910c48e8a61d1e89cecd5bda",
       "version_major": 2,
       "version_minor": 0
      },
      "text/plain": [
       "Batches:   0%|          | 0/1826 [00:00<?, ?it/s]"
      ]
     },
     "metadata": {},
     "output_type": "display_data"
    }
   ],
   "source": [
    "# embed training data\n",
    "corpus_embed_matrix = model.encode(df_corpus['combine'], show_progress_bar=True, batch_size=256)"
   ]
  },
  {
   "cell_type": "code",
   "execution_count": null,
   "metadata": {},
   "outputs": [],
   "source": [
    "question_embed_matrix = model.encode(df_train['question'], show_progress_bar=True, batch_size=256)"
   ]
  },
  {
   "cell_type": "code",
   "execution_count": 32,
   "metadata": {},
   "outputs": [
    {
     "data": {
      "text/plain": [
       "tensor([[ 0.0682, -0.0955,  0.0554,  ...,  0.0823, -0.1375, -0.0973],\n",
       "        [ 0.0485,  0.1695,  0.0587,  ...,  0.0022,  0.0102, -0.2565],\n",
       "        [-0.0070,  0.1961,  0.1144,  ...,  0.0187,  0.0077, -0.4522],\n",
       "        ...,\n",
       "        [ 0.0496, -0.0342, -0.2484,  ..., -0.0281, -0.0891, -0.6480],\n",
       "        [ 0.1108,  0.0677, -0.2409,  ..., -0.0159,  0.1546, -0.4919],\n",
       "        [-0.1066, -0.2335,  0.1093,  ..., -0.1453, -0.2565, -0.0725]])"
      ]
     },
     "execution_count": 32,
     "metadata": {},
     "output_type": "execute_result"
    }
   ],
   "source": [
    "matrix_emb = torch.tensor(corpus_embed_matrix)\n",
    "matrix_emb"
   ]
  },
  {
   "cell_type": "code",
   "execution_count": 55,
   "metadata": {},
   "outputs": [],
   "source": [
    "# matrix_emb[0].numpy().squeeze()\n",
    "pickle.dump(matrix_emb, open(\"corpus_emb.sav\", \"wb\"))\n",
    "pickle.dump(question_embed_matrix, open(\"question_emb.sav\", \"wb\"))"
   ]
  },
  {
   "cell_type": "code",
   "execution_count": 14,
   "metadata": {},
   "outputs": [],
   "source": [
    "matrix_emb = pickle.load(open(\"corpus_emb.sav\",\"rb\"))"
   ]
  },
  {
   "cell_type": "code",
   "execution_count": 27,
   "metadata": {},
   "outputs": [],
   "source": [
    "import torch\n"
   ]
  },
  {
   "cell_type": "code",
   "execution_count": 31,
   "metadata": {},
   "outputs": [
    {
     "data": {
      "application/vnd.jupyter.widget-view+json": {
       "model_id": "f78389d49178428ba53c7491f64201bf",
       "version_major": 2,
       "version_minor": 0
      },
      "text/plain": [
       "Batches:   0%|          | 0/1 [00:00<?, ?it/s]"
      ]
     },
     "metadata": {},
     "output_type": "display_data"
    }
   ],
   "source": [
    "q_sample = model.encode(df_train.iloc[0]['question'], show_progress_bar=True)"
   ]
  },
  {
   "cell_type": "code",
   "execution_count": 35,
   "metadata": {},
   "outputs": [
    {
     "data": {
      "text/plain": [
       "array([0.8654549 , 0.41237426, 0.42421275, ..., 0.40430874, 0.4271445 ,\n",
       "       0.50812286], dtype=float32)"
      ]
     },
     "execution_count": 35,
     "metadata": {},
     "output_type": "execute_result"
    }
   ],
   "source": [
    "all_cosine = util.cos_sim(q_sample, matrix_emb).numpy().squeeze(0)\n",
    "all_cosine"
   ]
  },
  {
   "cell_type": "code",
   "execution_count": 37,
   "metadata": {},
   "outputs": [
    {
     "data": {
      "text/plain": [
       "array([359193, 194458, 426917,  18950, 206726, 255684,  30266, 154902,\n",
       "       385753,  83116])"
      ]
     },
     "execution_count": 37,
     "metadata": {},
     "output_type": "execute_result"
    }
   ],
   "source": [
    "predictions = np.argpartition(all_cosine, len(all_cosine) - 10)[-10:]\n",
    "predictions"
   ]
  },
  {
   "cell_type": "code",
   "execution_count": 52,
   "metadata": {},
   "outputs": [
    {
     "data": {
      "text/plain": [
       "array([0.97035193, 0.9706627 , 0.97112644, 0.9710062 , 0.9711537 ,\n",
       "       0.97325945, 0.9722441 , 0.9784419 , 0.9729058 , 0.9771466 ],\n",
       "      dtype=float32)"
      ]
     },
     "execution_count": 52,
     "metadata": {},
     "output_type": "execute_result"
    }
   ],
   "source": [
    "all_cosine[predictions]"
   ]
  },
  {
   "cell_type": "code",
   "execution_count": 70,
   "metadata": {},
   "outputs": [],
   "source": [
    "list_new_pair = []"
   ]
  },
  {
   "cell_type": "code",
   "execution_count": 71,
   "metadata": {},
   "outputs": [
    {
     "data": {
      "text/html": [
       "<div>\n",
       "<style scoped>\n",
       "    .dataframe tbody tr th:only-of-type {\n",
       "        vertical-align: middle;\n",
       "    }\n",
       "\n",
       "    .dataframe tbody tr th {\n",
       "        vertical-align: top;\n",
       "    }\n",
       "\n",
       "    .dataframe thead th {\n",
       "        text-align: right;\n",
       "    }\n",
       "</style>\n",
       "<table border=\"1\" class=\"dataframe\">\n",
       "  <thead>\n",
       "    <tr style=\"text-align: right;\">\n",
       "      <th></th>\n",
       "      <th>question</th>\n",
       "      <th>answer</th>\n",
       "      <th>label</th>\n",
       "      <th>error</th>\n",
       "    </tr>\n",
       "  </thead>\n",
       "  <tbody>\n",
       "    <tr>\n",
       "      <th>0</th>\n",
       "      <td>em buôn bán thuốc lá có một số hàng xuất xứ nư...</td>\n",
       "      <td>hành vi sản xuất, buôn bán, vận chuyển, tàng t...</td>\n",
       "      <td>1</td>\n",
       "      <td>False</td>\n",
       "    </tr>\n",
       "    <tr>\n",
       "      <th>1</th>\n",
       "      <td>thủ tục tách khẩu, nhập khẩu và đăng ký lại kh...</td>\n",
       "      <td>xác định nội dung đăng ký lại khai sinh trường...</td>\n",
       "      <td>1</td>\n",
       "      <td>False</td>\n",
       "    </tr>\n",
       "    <tr>\n",
       "      <th>2</th>\n",
       "      <td>xin chào hệ thống pháp luật tôi muốn hỏi, cháu...</td>\n",
       "      <td>xác định nội dung đăng ký lại khai sinh trường...</td>\n",
       "      <td>1</td>\n",
       "      <td>False</td>\n",
       "    </tr>\n",
       "    <tr>\n",
       "      <th>3</th>\n",
       "      <td>mức phạt khi vi phạm về sử dụng lao động chưa ...</td>\n",
       "      <td>vi phạm quy định về lao động chưa thành niên. ...</td>\n",
       "      <td>1</td>\n",
       "      <td>False</td>\n",
       "    </tr>\n",
       "    <tr>\n",
       "      <th>4</th>\n",
       "      <td>thủ tục hưởng trợ cấp thờ cúng liệt sỹ</td>\n",
       "      <td>trợ cấp thờ cúng liệt sĩ. liệt sĩ không còn ng...</td>\n",
       "      <td>1</td>\n",
       "      <td>False</td>\n",
       "    </tr>\n",
       "    <tr>\n",
       "      <th>...</th>\n",
       "      <td>...</td>\n",
       "      <td>...</td>\n",
       "      <td>...</td>\n",
       "      <td>...</td>\n",
       "    </tr>\n",
       "    <tr>\n",
       "      <th>53466</th>\n",
       "      <td>sổ đỏ nhà tôi được cấp năm 2004 cho hộ gia đìn...</td>\n",
       "      <td>điều 179 luật đất đai 2013 quy định hộ gia đìn...</td>\n",
       "      <td>1</td>\n",
       "      <td>False</td>\n",
       "    </tr>\n",
       "    <tr>\n",
       "      <th>53467</th>\n",
       "      <td>có được thế chấp tài sản thừa kế không ngân hà...</td>\n",
       "      <td>trong trường hợp của bạn, bố mẹ bạn đã lập di ...</td>\n",
       "      <td>1</td>\n",
       "      <td>False</td>\n",
       "    </tr>\n",
       "    <tr>\n",
       "      <th>53468</th>\n",
       "      <td>bố mẹ tôi lập di chúc chung để lại tài sản là ...</td>\n",
       "      <td>trong trường hợp của bạn, bố mẹ bạn đã lập di ...</td>\n",
       "      <td>1</td>\n",
       "      <td>False</td>\n",
       "    </tr>\n",
       "    <tr>\n",
       "      <th>53469</th>\n",
       "      <td>giao dịch vô hiệu khi bị cưỡng ép ký kết hợp đ...</td>\n",
       "      <td>hợp đồng vay tài sản là sự thoả thuận giữa các...</td>\n",
       "      <td>1</td>\n",
       "      <td>False</td>\n",
       "    </tr>\n",
       "    <tr>\n",
       "      <th>53470</th>\n",
       "      <td>bị ép kí vào giấy vay tiền, bị thưa ra tòa và ...</td>\n",
       "      <td>hợp đồng vay tài sản là sự thoả thuận giữa các...</td>\n",
       "      <td>1</td>\n",
       "      <td>False</td>\n",
       "    </tr>\n",
       "  </tbody>\n",
       "</table>\n",
       "<p>53471 rows × 4 columns</p>\n",
       "</div>"
      ],
      "text/plain": [
       "                                                question  \\\n",
       "0      em buôn bán thuốc lá có một số hàng xuất xứ nư...   \n",
       "1      thủ tục tách khẩu, nhập khẩu và đăng ký lại kh...   \n",
       "2      xin chào hệ thống pháp luật tôi muốn hỏi, cháu...   \n",
       "3      mức phạt khi vi phạm về sử dụng lao động chưa ...   \n",
       "4                 thủ tục hưởng trợ cấp thờ cúng liệt sỹ   \n",
       "...                                                  ...   \n",
       "53466  sổ đỏ nhà tôi được cấp năm 2004 cho hộ gia đìn...   \n",
       "53467  có được thế chấp tài sản thừa kế không ngân hà...   \n",
       "53468  bố mẹ tôi lập di chúc chung để lại tài sản là ...   \n",
       "53469  giao dịch vô hiệu khi bị cưỡng ép ký kết hợp đ...   \n",
       "53470  bị ép kí vào giấy vay tiền, bị thưa ra tòa và ...   \n",
       "\n",
       "                                                  answer  label  error  \n",
       "0      hành vi sản xuất, buôn bán, vận chuyển, tàng t...      1  False  \n",
       "1      xác định nội dung đăng ký lại khai sinh trường...      1  False  \n",
       "2      xác định nội dung đăng ký lại khai sinh trường...      1  False  \n",
       "3      vi phạm quy định về lao động chưa thành niên. ...      1  False  \n",
       "4      trợ cấp thờ cúng liệt sĩ. liệt sĩ không còn ng...      1  False  \n",
       "...                                                  ...    ...    ...  \n",
       "53466  điều 179 luật đất đai 2013 quy định hộ gia đìn...      1  False  \n",
       "53467  trong trường hợp của bạn, bố mẹ bạn đã lập di ...      1  False  \n",
       "53468  trong trường hợp của bạn, bố mẹ bạn đã lập di ...      1  False  \n",
       "53469  hợp đồng vay tài sản là sự thoả thuận giữa các...      1  False  \n",
       "53470  hợp đồng vay tài sản là sự thoả thuận giữa các...      1  False  \n",
       "\n",
       "[53471 rows x 4 columns]"
      ]
     },
     "execution_count": 71,
     "metadata": {},
     "output_type": "execute_result"
    }
   ],
   "source": [
    "df_train"
   ]
  },
  {
   "cell_type": "code",
   "execution_count": 18,
   "metadata": {},
   "outputs": [],
   "source": [
    "from tqdm import tqdm\n",
    "from sentence_transformers import util\n",
    "import numpy as np"
   ]
  },
  {
   "cell_type": "code",
   "execution_count": 46,
   "metadata": {},
   "outputs": [],
   "source": [
    "list_new_pair = []"
   ]
  },
  {
   "cell_type": "code",
   "execution_count": 29,
   "metadata": {},
   "outputs": [
    {
     "data": {
      "text/plain": [
       "tensor([[0.8655, 0.4124, 0.4242,  ..., 0.4043, 0.4271, 0.5081],\n",
       "        [0.8426, 0.4038, 0.4636,  ..., 0.3966, 0.4401, 0.4847],\n",
       "        [0.8471, 0.3888, 0.4354,  ..., 0.3698, 0.4201, 0.4507],\n",
       "        ...,\n",
       "        [0.8565, 0.4214, 0.4489,  ..., 0.3907, 0.4454, 0.4666],\n",
       "        [0.8453, 0.4269, 0.4624,  ..., 0.4086, 0.4555, 0.4874],\n",
       "        [0.8626, 0.4643, 0.5078,  ..., 0.4617, 0.4799, 0.5256]])"
      ]
     },
     "execution_count": 29,
     "metadata": {},
     "output_type": "execute_result"
    }
   ],
   "source": [
    "util.cos_sim(question_embed_matrix[:512], matrix_emb)"
   ]
  },
  {
   "cell_type": "code",
   "execution_count": 30,
   "metadata": {},
   "outputs": [
    {
     "data": {
      "text/plain": [
       "array([    0,   512,  1024,  1536,  2048,  2560,  3072,  3584,  4096,\n",
       "        4608,  5120,  5632,  6144,  6656,  7168,  7680,  8192,  8704,\n",
       "        9216,  9728, 10240, 10752, 11264, 11776, 12288, 12800, 13312,\n",
       "       13824, 14336, 14848, 15360, 15872, 16384, 16896, 17408, 17920,\n",
       "       18432, 18944, 19456, 19968, 20480, 20992, 21504, 22016, 22528,\n",
       "       23040, 23552, 24064, 24576, 25088, 25600, 26112, 26624, 27136,\n",
       "       27648, 28160, 28672, 29184, 29696, 30208, 30720, 31232, 31744,\n",
       "       32256, 32768, 33280, 33792, 34304, 34816, 35328, 35840, 36352,\n",
       "       36864, 37376, 37888, 38400, 38912, 39424, 39936, 40448, 40960,\n",
       "       41472, 41984, 42496, 43008, 43520, 44032, 44544, 45056, 45568,\n",
       "       46080, 46592, 47104, 47616, 48128, 48640, 49152, 49664, 50176,\n",
       "       50688, 51200, 51712, 52224, 52736, 53248])"
      ]
     },
     "execution_count": 30,
     "metadata": {},
     "output_type": "execute_result"
    }
   ],
   "source": [
    "np.arange(0, len(question_embed_matrix), step=512)"
   ]
  },
  {
   "cell_type": "code",
   "execution_count": 47,
   "metadata": {},
   "outputs": [
    {
     "name": "stderr",
     "output_type": "stream",
     "text": [
      "100%|██████████| 53/53 [05:50<00:00,  6.60s/it]\n"
     ]
    }
   ],
   "source": [
    "# create negative pair\n",
    "for i in tqdm(np.arange(0, len(question_embed_matrix), step=1024)):\n",
    "    items_all_cosine = util.cos_sim(question_embed_matrix[i:i+1024], matrix_emb).numpy()\n",
    "    for jdx, cosine_score in enumerate(items_all_cosine):\n",
    "        item_predictions = np.argpartition(cosine_score, len(cosine_score) - 3)[-3:]\n",
    "        for k in item_predictions:\n",
    "            list_new_pair.append({\"question\":df_train.iloc[jdx]['question'], \"answer\":df_corpus.iloc[k]['combine'], \"label\": False})\n",
    "    "
   ]
  },
  {
   "cell_type": "code",
   "execution_count": 48,
   "metadata": {},
   "outputs": [
    {
     "data": {
      "text/html": [
       "<div>\n",
       "<style scoped>\n",
       "    .dataframe tbody tr th:only-of-type {\n",
       "        vertical-align: middle;\n",
       "    }\n",
       "\n",
       "    .dataframe tbody tr th {\n",
       "        vertical-align: top;\n",
       "    }\n",
       "\n",
       "    .dataframe thead th {\n",
       "        text-align: right;\n",
       "    }\n",
       "</style>\n",
       "<table border=\"1\" class=\"dataframe\">\n",
       "  <thead>\n",
       "    <tr style=\"text-align: right;\">\n",
       "      <th></th>\n",
       "      <th>question</th>\n",
       "      <th>answer</th>\n",
       "      <th>label</th>\n",
       "    </tr>\n",
       "  </thead>\n",
       "  <tbody>\n",
       "    <tr>\n",
       "      <th>0</th>\n",
       "      <td>em buôn bán thuốc lá có một số hàng xuất xứ nư...</td>\n",
       "      <td>nghị quyết 63/nq- cp</td>\n",
       "      <td>False</td>\n",
       "    </tr>\n",
       "    <tr>\n",
       "      <th>1</th>\n",
       "      <td>em buôn bán thuốc lá có một số hàng xuất xứ nư...</td>\n",
       "      <td>- tất cả các loại thuốc dùng cho người đều phả...</td>\n",
       "      <td>False</td>\n",
       "    </tr>\n",
       "    <tr>\n",
       "      <th>2</th>\n",
       "      <td>em buôn bán thuốc lá có một số hàng xuất xứ nư...</td>\n",
       "      <td>nhãn thuốc thực hiện theo quy chế nhãn thuốc.</td>\n",
       "      <td>False</td>\n",
       "    </tr>\n",
       "    <tr>\n",
       "      <th>3</th>\n",
       "      <td>thủ tục tách khẩu, nhập khẩu và đăng ký lại kh...</td>\n",
       "      <td>hình thức đăng ký 1. đăng ký chính thức. 2. đă...</td>\n",
       "      <td>False</td>\n",
       "    </tr>\n",
       "    <tr>\n",
       "      <th>4</th>\n",
       "      <td>thủ tục tách khẩu, nhập khẩu và đăng ký lại kh...</td>\n",
       "      <td>4 thông báo về việc làm thủ tục xuất nhập khẩu...</td>\n",
       "      <td>False</td>\n",
       "    </tr>\n",
       "    <tr>\n",
       "      <th>...</th>\n",
       "      <td>...</td>\n",
       "      <td>...</td>\n",
       "      <td>...</td>\n",
       "    </tr>\n",
       "    <tr>\n",
       "      <th>160408</th>\n",
       "      <td>kính chào luật sư, công ty tôi bị vướng vào vi...</td>\n",
       "      <td>1. hợp đồng bảo hiểm có thể được ký kết theo m...</td>\n",
       "      <td>False</td>\n",
       "    </tr>\n",
       "    <tr>\n",
       "      <th>160409</th>\n",
       "      <td>kính chào luật sư, công ty tôi bị vướng vào vi...</td>\n",
       "      <td>thích hợp</td>\n",
       "      <td>False</td>\n",
       "    </tr>\n",
       "    <tr>\n",
       "      <th>160410</th>\n",
       "      <td>xử lý hóa đơn sử dụng trước khi thông báo phát...</td>\n",
       "      <td>quyền, nghĩa vụ, trách nhiệm của các bên khi t...</td>\n",
       "      <td>False</td>\n",
       "    </tr>\n",
       "    <tr>\n",
       "      <th>160411</th>\n",
       "      <td>xử lý hóa đơn sử dụng trước khi thông báo phát...</td>\n",
       "      <td>khi nhận được đơn của nguyên đơn thì bị đơn có...</td>\n",
       "      <td>False</td>\n",
       "    </tr>\n",
       "    <tr>\n",
       "      <th>160412</th>\n",
       "      <td>xử lý hóa đơn sử dụng trước khi thông báo phát...</td>\n",
       "      <td>quyền và nghĩa vụ của nđt khi chuyển nhượng cổ...</td>\n",
       "      <td>False</td>\n",
       "    </tr>\n",
       "  </tbody>\n",
       "</table>\n",
       "<p>160413 rows × 3 columns</p>\n",
       "</div>"
      ],
      "text/plain": [
       "                                                 question  \\\n",
       "0       em buôn bán thuốc lá có một số hàng xuất xứ nư...   \n",
       "1       em buôn bán thuốc lá có một số hàng xuất xứ nư...   \n",
       "2       em buôn bán thuốc lá có một số hàng xuất xứ nư...   \n",
       "3       thủ tục tách khẩu, nhập khẩu và đăng ký lại kh...   \n",
       "4       thủ tục tách khẩu, nhập khẩu và đăng ký lại kh...   \n",
       "...                                                   ...   \n",
       "160408  kính chào luật sư, công ty tôi bị vướng vào vi...   \n",
       "160409  kính chào luật sư, công ty tôi bị vướng vào vi...   \n",
       "160410  xử lý hóa đơn sử dụng trước khi thông báo phát...   \n",
       "160411  xử lý hóa đơn sử dụng trước khi thông báo phát...   \n",
       "160412  xử lý hóa đơn sử dụng trước khi thông báo phát...   \n",
       "\n",
       "                                                   answer  label  \n",
       "0                                    nghị quyết 63/nq- cp  False  \n",
       "1       - tất cả các loại thuốc dùng cho người đều phả...  False  \n",
       "2           nhãn thuốc thực hiện theo quy chế nhãn thuốc.  False  \n",
       "3       hình thức đăng ký 1. đăng ký chính thức. 2. đă...  False  \n",
       "4       4 thông báo về việc làm thủ tục xuất nhập khẩu...  False  \n",
       "...                                                   ...    ...  \n",
       "160408  1. hợp đồng bảo hiểm có thể được ký kết theo m...  False  \n",
       "160409                                          thích hợp  False  \n",
       "160410  quyền, nghĩa vụ, trách nhiệm của các bên khi t...  False  \n",
       "160411  khi nhận được đơn của nguyên đơn thì bị đơn có...  False  \n",
       "160412  quyền và nghĩa vụ của nđt khi chuyển nhượng cổ...  False  \n",
       "\n",
       "[160413 rows x 3 columns]"
      ]
     },
     "execution_count": 48,
     "metadata": {},
     "output_type": "execute_result"
    }
   ],
   "source": [
    "hard_negative_sample = pd.DataFrame.from_dict(list_new_pair)\n",
    "hard_negative_sample"
   ]
  },
  {
   "cell_type": "code",
   "execution_count": 51,
   "metadata": {},
   "outputs": [],
   "source": [
    "hard_negative_sample['label'] = hard_negative_sample['label'].astype(np.int16)\n",
    "train_data_final_phase2 = pd.concat([hard_negative_sample, df_train], ignore_index=True)\n",
    "train_data_final_phase2['error'] = False\n",
    "train_data_final_phase2.to_csv(\"train_data_phase2.csv\")"
   ]
  },
  {
   "cell_type": "code",
   "execution_count": null,
   "metadata": {},
   "outputs": [],
   "source": []
  },
  {
   "cell_type": "code",
   "execution_count": 10,
   "metadata": {},
   "outputs": [],
   "source": [
    "import pandas as pd\n",
    "train_zalo = pd.read_csv(\"train.csv\")\n",
    "train_zalo = train_zalo.rename(columns={'combine':'answer'})\n",
    "train_zalo.to_csv(\"train.csv\")"
   ]
  },
  {
   "cell_type": "code",
   "execution_count": null,
   "metadata": {},
   "outputs": [],
   "source": []
  }
 ],
 "metadata": {
  "accelerator": "GPU",
  "colab": {
   "gpuType": "T4",
   "provenance": []
  },
  "kernelspec": {
   "display_name": "Python 3 (ipykernel)",
   "language": "python",
   "name": "python3"
  },
  "language_info": {
   "codemirror_mode": {
    "name": "ipython",
    "version": 3
   },
   "file_extension": ".py",
   "mimetype": "text/x-python",
   "name": "python",
   "nbconvert_exporter": "python",
   "pygments_lexer": "ipython3",
   "version": "3.10.11"
  },
  "widgets": {
   "application/vnd.jupyter.widget-state+json": {
    "15ec5a4b68b44a07bb18949b49e77010": {
     "model_module": "@jupyter-widgets/base",
     "model_module_version": "1.2.0",
     "model_name": "LayoutModel",
     "state": {
      "_model_module": "@jupyter-widgets/base",
      "_model_module_version": "1.2.0",
      "_model_name": "LayoutModel",
      "_view_count": null,
      "_view_module": "@jupyter-widgets/base",
      "_view_module_version": "1.2.0",
      "_view_name": "LayoutView",
      "align_content": null,
      "align_items": null,
      "align_self": null,
      "border": null,
      "bottom": null,
      "display": null,
      "flex": null,
      "flex_flow": null,
      "grid_area": null,
      "grid_auto_columns": null,
      "grid_auto_flow": null,
      "grid_auto_rows": null,
      "grid_column": null,
      "grid_gap": null,
      "grid_row": null,
      "grid_template_areas": null,
      "grid_template_columns": null,
      "grid_template_rows": null,
      "height": null,
      "justify_content": null,
      "justify_items": null,
      "left": null,
      "margin": null,
      "max_height": null,
      "max_width": null,
      "min_height": null,
      "min_width": null,
      "object_fit": null,
      "object_position": null,
      "order": null,
      "overflow": null,
      "overflow_x": null,
      "overflow_y": null,
      "padding": null,
      "right": null,
      "top": null,
      "visibility": null,
      "width": null
     }
    },
    "1b6c06099ab44f66a25bf92f4045a12a": {
     "model_module": "@jupyter-widgets/base",
     "model_module_version": "1.2.0",
     "model_name": "LayoutModel",
     "state": {
      "_model_module": "@jupyter-widgets/base",
      "_model_module_version": "1.2.0",
      "_model_name": "LayoutModel",
      "_view_count": null,
      "_view_module": "@jupyter-widgets/base",
      "_view_module_version": "1.2.0",
      "_view_name": "LayoutView",
      "align_content": null,
      "align_items": null,
      "align_self": null,
      "border": null,
      "bottom": null,
      "display": null,
      "flex": null,
      "flex_flow": null,
      "grid_area": null,
      "grid_auto_columns": null,
      "grid_auto_flow": null,
      "grid_auto_rows": null,
      "grid_column": null,
      "grid_gap": null,
      "grid_row": null,
      "grid_template_areas": null,
      "grid_template_columns": null,
      "grid_template_rows": null,
      "height": null,
      "justify_content": null,
      "justify_items": null,
      "left": null,
      "margin": null,
      "max_height": null,
      "max_width": null,
      "min_height": null,
      "min_width": null,
      "object_fit": null,
      "object_position": null,
      "order": null,
      "overflow": null,
      "overflow_x": null,
      "overflow_y": null,
      "padding": null,
      "right": null,
      "top": null,
      "visibility": null,
      "width": null
     }
    },
    "2456d966046a453e8a2603cf661cb4cc": {
     "model_module": "@jupyter-widgets/controls",
     "model_module_version": "1.5.0",
     "model_name": "HTMLModel",
     "state": {
      "_dom_classes": [],
      "_model_module": "@jupyter-widgets/controls",
      "_model_module_version": "1.5.0",
      "_model_name": "HTMLModel",
      "_view_count": null,
      "_view_module": "@jupyter-widgets/controls",
      "_view_module_version": "1.5.0",
      "_view_name": "HTMLView",
      "description": "",
      "description_tooltip": null,
      "layout": "IPY_MODEL_e8599920bd50482aa222fd81748dcb06",
      "placeholder": "​",
      "style": "IPY_MODEL_d62fdd2e5fc84b3aad6812ffd8673c71",
      "value": " 1/8282 [00:05&lt;12:03:58,  5.25s/it]"
     }
    },
    "2b0175019126477f94635eed1566946c": {
     "model_module": "@jupyter-widgets/base",
     "model_module_version": "1.2.0",
     "model_name": "LayoutModel",
     "state": {
      "_model_module": "@jupyter-widgets/base",
      "_model_module_version": "1.2.0",
      "_model_name": "LayoutModel",
      "_view_count": null,
      "_view_module": "@jupyter-widgets/base",
      "_view_module_version": "1.2.0",
      "_view_name": "LayoutView",
      "align_content": null,
      "align_items": null,
      "align_self": null,
      "border": null,
      "bottom": null,
      "display": null,
      "flex": null,
      "flex_flow": null,
      "grid_area": null,
      "grid_auto_columns": null,
      "grid_auto_flow": null,
      "grid_auto_rows": null,
      "grid_column": null,
      "grid_gap": null,
      "grid_row": null,
      "grid_template_areas": null,
      "grid_template_columns": null,
      "grid_template_rows": null,
      "height": null,
      "justify_content": null,
      "justify_items": null,
      "left": null,
      "margin": null,
      "max_height": null,
      "max_width": null,
      "min_height": null,
      "min_width": null,
      "object_fit": null,
      "object_position": null,
      "order": null,
      "overflow": null,
      "overflow_x": null,
      "overflow_y": null,
      "padding": null,
      "right": null,
      "top": null,
      "visibility": null,
      "width": null
     }
    },
    "2ee4bc90fa3f42a59772d0994a14f587": {
     "model_module": "@jupyter-widgets/controls",
     "model_module_version": "1.5.0",
     "model_name": "DescriptionStyleModel",
     "state": {
      "_model_module": "@jupyter-widgets/controls",
      "_model_module_version": "1.5.0",
      "_model_name": "DescriptionStyleModel",
      "_view_count": null,
      "_view_module": "@jupyter-widgets/base",
      "_view_module_version": "1.2.0",
      "_view_name": "StyleView",
      "description_width": ""
     }
    },
    "366c55661bbc4da39b12ee7a31145bbd": {
     "model_module": "@jupyter-widgets/controls",
     "model_module_version": "1.5.0",
     "model_name": "FloatProgressModel",
     "state": {
      "_dom_classes": [],
      "_model_module": "@jupyter-widgets/controls",
      "_model_module_version": "1.5.0",
      "_model_name": "FloatProgressModel",
      "_view_count": null,
      "_view_module": "@jupyter-widgets/controls",
      "_view_module_version": "1.5.0",
      "_view_name": "ProgressView",
      "bar_style": "danger",
      "description": "",
      "description_tooltip": null,
      "layout": "IPY_MODEL_ee4bbb5d562440858acc034c910ea183",
      "max": 8282,
      "min": 0,
      "orientation": "horizontal",
      "style": "IPY_MODEL_cc69ac517fcd4eddb60add5ec79a2b99",
      "value": 1
     }
    },
    "4ec3c048f1724e49a88585a0dfbd2cc2": {
     "model_module": "@jupyter-widgets/controls",
     "model_module_version": "1.5.0",
     "model_name": "FloatProgressModel",
     "state": {
      "_dom_classes": [],
      "_model_module": "@jupyter-widgets/controls",
      "_model_module_version": "1.5.0",
      "_model_name": "FloatProgressModel",
      "_view_count": null,
      "_view_module": "@jupyter-widgets/controls",
      "_view_module_version": "1.5.0",
      "_view_name": "ProgressView",
      "bar_style": "danger",
      "description": "",
      "description_tooltip": null,
      "layout": "IPY_MODEL_b9e8a10fd3cd443e8720c5022d9f525d",
      "max": 1000000,
      "min": 0,
      "orientation": "horizontal",
      "style": "IPY_MODEL_89626114f89643b1805a7e6d26ae3dd9",
      "value": 0
     }
    },
    "683131e578d947b39eb0b22dd398a1b9": {
     "model_module": "@jupyter-widgets/controls",
     "model_module_version": "1.5.0",
     "model_name": "DescriptionStyleModel",
     "state": {
      "_model_module": "@jupyter-widgets/controls",
      "_model_module_version": "1.5.0",
      "_model_name": "DescriptionStyleModel",
      "_view_count": null,
      "_view_module": "@jupyter-widgets/base",
      "_view_module_version": "1.2.0",
      "_view_name": "StyleView",
      "description_width": ""
     }
    },
    "7126439ed8d94db3b8ce055b88785c6c": {
     "model_module": "@jupyter-widgets/base",
     "model_module_version": "1.2.0",
     "model_name": "LayoutModel",
     "state": {
      "_model_module": "@jupyter-widgets/base",
      "_model_module_version": "1.2.0",
      "_model_name": "LayoutModel",
      "_view_count": null,
      "_view_module": "@jupyter-widgets/base",
      "_view_module_version": "1.2.0",
      "_view_name": "LayoutView",
      "align_content": null,
      "align_items": null,
      "align_self": null,
      "border": null,
      "bottom": null,
      "display": null,
      "flex": null,
      "flex_flow": null,
      "grid_area": null,
      "grid_auto_columns": null,
      "grid_auto_flow": null,
      "grid_auto_rows": null,
      "grid_column": null,
      "grid_gap": null,
      "grid_row": null,
      "grid_template_areas": null,
      "grid_template_columns": null,
      "grid_template_rows": null,
      "height": null,
      "justify_content": null,
      "justify_items": null,
      "left": null,
      "margin": null,
      "max_height": null,
      "max_width": null,
      "min_height": null,
      "min_width": null,
      "object_fit": null,
      "object_position": null,
      "order": null,
      "overflow": null,
      "overflow_x": null,
      "overflow_y": null,
      "padding": null,
      "right": null,
      "top": null,
      "visibility": null,
      "width": null
     }
    },
    "76255c57ac544b978e80eba0fc2a4a7e": {
     "model_module": "@jupyter-widgets/controls",
     "model_module_version": "1.5.0",
     "model_name": "HBoxModel",
     "state": {
      "_dom_classes": [],
      "_model_module": "@jupyter-widgets/controls",
      "_model_module_version": "1.5.0",
      "_model_name": "HBoxModel",
      "_view_count": null,
      "_view_module": "@jupyter-widgets/controls",
      "_view_module_version": "1.5.0",
      "_view_name": "HBoxView",
      "box_style": "",
      "children": [
       "IPY_MODEL_80189655781842ecb242184f51e4609b",
       "IPY_MODEL_4ec3c048f1724e49a88585a0dfbd2cc2",
       "IPY_MODEL_a2ce08f4e70c4f539badc5cb61c5cf67"
      ],
      "layout": "IPY_MODEL_2b0175019126477f94635eed1566946c"
     }
    },
    "80189655781842ecb242184f51e4609b": {
     "model_module": "@jupyter-widgets/controls",
     "model_module_version": "1.5.0",
     "model_name": "HTMLModel",
     "state": {
      "_dom_classes": [],
      "_model_module": "@jupyter-widgets/controls",
      "_model_module_version": "1.5.0",
      "_model_name": "HTMLModel",
      "_view_count": null,
      "_view_module": "@jupyter-widgets/controls",
      "_view_module_version": "1.5.0",
      "_view_name": "HTMLView",
      "description": "",
      "description_tooltip": null,
      "layout": "IPY_MODEL_1b6c06099ab44f66a25bf92f4045a12a",
      "placeholder": "​",
      "style": "IPY_MODEL_97db5da2b1dd45868e9a0f5fe2e7b542",
      "value": "Epoch:   0%"
     }
    },
    "89626114f89643b1805a7e6d26ae3dd9": {
     "model_module": "@jupyter-widgets/controls",
     "model_module_version": "1.5.0",
     "model_name": "ProgressStyleModel",
     "state": {
      "_model_module": "@jupyter-widgets/controls",
      "_model_module_version": "1.5.0",
      "_model_name": "ProgressStyleModel",
      "_view_count": null,
      "_view_module": "@jupyter-widgets/base",
      "_view_module_version": "1.2.0",
      "_view_name": "StyleView",
      "bar_color": null,
      "description_width": ""
     }
    },
    "91daa9de58b94705a91ff221f5998c38": {
     "model_module": "@jupyter-widgets/controls",
     "model_module_version": "1.5.0",
     "model_name": "HBoxModel",
     "state": {
      "_dom_classes": [],
      "_model_module": "@jupyter-widgets/controls",
      "_model_module_version": "1.5.0",
      "_model_name": "HBoxModel",
      "_view_count": null,
      "_view_module": "@jupyter-widgets/controls",
      "_view_module_version": "1.5.0",
      "_view_name": "HBoxView",
      "box_style": "",
      "children": [
       "IPY_MODEL_f05959fe18a24c288f529375ee93260c",
       "IPY_MODEL_366c55661bbc4da39b12ee7a31145bbd",
       "IPY_MODEL_2456d966046a453e8a2603cf661cb4cc"
      ],
      "layout": "IPY_MODEL_f88341d933b54eabb5bc957d5cbe29df"
     }
    },
    "97db5da2b1dd45868e9a0f5fe2e7b542": {
     "model_module": "@jupyter-widgets/controls",
     "model_module_version": "1.5.0",
     "model_name": "DescriptionStyleModel",
     "state": {
      "_model_module": "@jupyter-widgets/controls",
      "_model_module_version": "1.5.0",
      "_model_name": "DescriptionStyleModel",
      "_view_count": null,
      "_view_module": "@jupyter-widgets/base",
      "_view_module_version": "1.2.0",
      "_view_name": "StyleView",
      "description_width": ""
     }
    },
    "a2ce08f4e70c4f539badc5cb61c5cf67": {
     "model_module": "@jupyter-widgets/controls",
     "model_module_version": "1.5.0",
     "model_name": "HTMLModel",
     "state": {
      "_dom_classes": [],
      "_model_module": "@jupyter-widgets/controls",
      "_model_module_version": "1.5.0",
      "_model_name": "HTMLModel",
      "_view_count": null,
      "_view_module": "@jupyter-widgets/controls",
      "_view_module_version": "1.5.0",
      "_view_name": "HTMLView",
      "description": "",
      "description_tooltip": null,
      "layout": "IPY_MODEL_15ec5a4b68b44a07bb18949b49e77010",
      "placeholder": "​",
      "style": "IPY_MODEL_2ee4bc90fa3f42a59772d0994a14f587",
      "value": " 0/1000000 [00:05&lt;?, ?it/s]"
     }
    },
    "b9e8a10fd3cd443e8720c5022d9f525d": {
     "model_module": "@jupyter-widgets/base",
     "model_module_version": "1.2.0",
     "model_name": "LayoutModel",
     "state": {
      "_model_module": "@jupyter-widgets/base",
      "_model_module_version": "1.2.0",
      "_model_name": "LayoutModel",
      "_view_count": null,
      "_view_module": "@jupyter-widgets/base",
      "_view_module_version": "1.2.0",
      "_view_name": "LayoutView",
      "align_content": null,
      "align_items": null,
      "align_self": null,
      "border": null,
      "bottom": null,
      "display": null,
      "flex": null,
      "flex_flow": null,
      "grid_area": null,
      "grid_auto_columns": null,
      "grid_auto_flow": null,
      "grid_auto_rows": null,
      "grid_column": null,
      "grid_gap": null,
      "grid_row": null,
      "grid_template_areas": null,
      "grid_template_columns": null,
      "grid_template_rows": null,
      "height": null,
      "justify_content": null,
      "justify_items": null,
      "left": null,
      "margin": null,
      "max_height": null,
      "max_width": null,
      "min_height": null,
      "min_width": null,
      "object_fit": null,
      "object_position": null,
      "order": null,
      "overflow": null,
      "overflow_x": null,
      "overflow_y": null,
      "padding": null,
      "right": null,
      "top": null,
      "visibility": null,
      "width": null
     }
    },
    "cc69ac517fcd4eddb60add5ec79a2b99": {
     "model_module": "@jupyter-widgets/controls",
     "model_module_version": "1.5.0",
     "model_name": "ProgressStyleModel",
     "state": {
      "_model_module": "@jupyter-widgets/controls",
      "_model_module_version": "1.5.0",
      "_model_name": "ProgressStyleModel",
      "_view_count": null,
      "_view_module": "@jupyter-widgets/base",
      "_view_module_version": "1.2.0",
      "_view_name": "StyleView",
      "bar_color": null,
      "description_width": ""
     }
    },
    "d62fdd2e5fc84b3aad6812ffd8673c71": {
     "model_module": "@jupyter-widgets/controls",
     "model_module_version": "1.5.0",
     "model_name": "DescriptionStyleModel",
     "state": {
      "_model_module": "@jupyter-widgets/controls",
      "_model_module_version": "1.5.0",
      "_model_name": "DescriptionStyleModel",
      "_view_count": null,
      "_view_module": "@jupyter-widgets/base",
      "_view_module_version": "1.2.0",
      "_view_name": "StyleView",
      "description_width": ""
     }
    },
    "e8599920bd50482aa222fd81748dcb06": {
     "model_module": "@jupyter-widgets/base",
     "model_module_version": "1.2.0",
     "model_name": "LayoutModel",
     "state": {
      "_model_module": "@jupyter-widgets/base",
      "_model_module_version": "1.2.0",
      "_model_name": "LayoutModel",
      "_view_count": null,
      "_view_module": "@jupyter-widgets/base",
      "_view_module_version": "1.2.0",
      "_view_name": "LayoutView",
      "align_content": null,
      "align_items": null,
      "align_self": null,
      "border": null,
      "bottom": null,
      "display": null,
      "flex": null,
      "flex_flow": null,
      "grid_area": null,
      "grid_auto_columns": null,
      "grid_auto_flow": null,
      "grid_auto_rows": null,
      "grid_column": null,
      "grid_gap": null,
      "grid_row": null,
      "grid_template_areas": null,
      "grid_template_columns": null,
      "grid_template_rows": null,
      "height": null,
      "justify_content": null,
      "justify_items": null,
      "left": null,
      "margin": null,
      "max_height": null,
      "max_width": null,
      "min_height": null,
      "min_width": null,
      "object_fit": null,
      "object_position": null,
      "order": null,
      "overflow": null,
      "overflow_x": null,
      "overflow_y": null,
      "padding": null,
      "right": null,
      "top": null,
      "visibility": null,
      "width": null
     }
    },
    "ee4bbb5d562440858acc034c910ea183": {
     "model_module": "@jupyter-widgets/base",
     "model_module_version": "1.2.0",
     "model_name": "LayoutModel",
     "state": {
      "_model_module": "@jupyter-widgets/base",
      "_model_module_version": "1.2.0",
      "_model_name": "LayoutModel",
      "_view_count": null,
      "_view_module": "@jupyter-widgets/base",
      "_view_module_version": "1.2.0",
      "_view_name": "LayoutView",
      "align_content": null,
      "align_items": null,
      "align_self": null,
      "border": null,
      "bottom": null,
      "display": null,
      "flex": null,
      "flex_flow": null,
      "grid_area": null,
      "grid_auto_columns": null,
      "grid_auto_flow": null,
      "grid_auto_rows": null,
      "grid_column": null,
      "grid_gap": null,
      "grid_row": null,
      "grid_template_areas": null,
      "grid_template_columns": null,
      "grid_template_rows": null,
      "height": null,
      "justify_content": null,
      "justify_items": null,
      "left": null,
      "margin": null,
      "max_height": null,
      "max_width": null,
      "min_height": null,
      "min_width": null,
      "object_fit": null,
      "object_position": null,
      "order": null,
      "overflow": null,
      "overflow_x": null,
      "overflow_y": null,
      "padding": null,
      "right": null,
      "top": null,
      "visibility": null,
      "width": null
     }
    },
    "f05959fe18a24c288f529375ee93260c": {
     "model_module": "@jupyter-widgets/controls",
     "model_module_version": "1.5.0",
     "model_name": "HTMLModel",
     "state": {
      "_dom_classes": [],
      "_model_module": "@jupyter-widgets/controls",
      "_model_module_version": "1.5.0",
      "_model_name": "HTMLModel",
      "_view_count": null,
      "_view_module": "@jupyter-widgets/controls",
      "_view_module_version": "1.5.0",
      "_view_name": "HTMLView",
      "description": "",
      "description_tooltip": null,
      "layout": "IPY_MODEL_7126439ed8d94db3b8ce055b88785c6c",
      "placeholder": "​",
      "style": "IPY_MODEL_683131e578d947b39eb0b22dd398a1b9",
      "value": "Iteration:   0%"
     }
    },
    "f88341d933b54eabb5bc957d5cbe29df": {
     "model_module": "@jupyter-widgets/base",
     "model_module_version": "1.2.0",
     "model_name": "LayoutModel",
     "state": {
      "_model_module": "@jupyter-widgets/base",
      "_model_module_version": "1.2.0",
      "_model_name": "LayoutModel",
      "_view_count": null,
      "_view_module": "@jupyter-widgets/base",
      "_view_module_version": "1.2.0",
      "_view_name": "LayoutView",
      "align_content": null,
      "align_items": null,
      "align_self": null,
      "border": null,
      "bottom": null,
      "display": null,
      "flex": null,
      "flex_flow": null,
      "grid_area": null,
      "grid_auto_columns": null,
      "grid_auto_flow": null,
      "grid_auto_rows": null,
      "grid_column": null,
      "grid_gap": null,
      "grid_row": null,
      "grid_template_areas": null,
      "grid_template_columns": null,
      "grid_template_rows": null,
      "height": null,
      "justify_content": null,
      "justify_items": null,
      "left": null,
      "margin": null,
      "max_height": null,
      "max_width": null,
      "min_height": null,
      "min_width": null,
      "object_fit": null,
      "object_position": null,
      "order": null,
      "overflow": null,
      "overflow_x": null,
      "overflow_y": null,
      "padding": null,
      "right": null,
      "top": null,
      "visibility": null,
      "width": null
     }
    }
   }
  }
 },
 "nbformat": 4,
 "nbformat_minor": 4
}
