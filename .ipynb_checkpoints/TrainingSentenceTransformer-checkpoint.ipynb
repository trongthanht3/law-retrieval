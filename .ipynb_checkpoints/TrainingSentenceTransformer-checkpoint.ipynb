{
 "cells": [
  {
   "cell_type": "markdown",
   "metadata": {
    "id": "DZjt1jrXGM_f"
   },
   "source": [
    "# Install library"
   ]
  },
  {
   "cell_type": "code",
   "execution_count": 23,
   "metadata": {
    "colab": {
     "base_uri": "https://localhost:8080/"
    },
    "id": "3WCZ6iw7F97Y",
    "outputId": "3a31489a-abee-4b01-93c2-cf58e04085bd"
   },
   "outputs": [
    {
     "name": "stdout",
     "output_type": "stream",
     "text": [
      "Collecting seaborn\n",
      "  Downloading seaborn-0.13.0-py3-none-any.whl (294 kB)\n",
      "\u001b[2K     \u001b[90m━━━━━━━━━━━━━━━━━━━━━━━━━━━━━━━━━━━━━━━\u001b[0m \u001b[32m294.6/294.6 kB\u001b[0m \u001b[31m1.7 MB/s\u001b[0m eta \u001b[36m0:00:00\u001b[0ma \u001b[36m0:00:01\u001b[0m\n",
      "\u001b[?25hRequirement already satisfied: pandas>=1.2 in /opt/conda/lib/python3.10/site-packages (from seaborn) (2.1.3)\n",
      "Collecting matplotlib!=3.6.1,>=3.3\n",
      "  Downloading matplotlib-3.8.1-cp310-cp310-manylinux_2_17_x86_64.manylinux2014_x86_64.whl (11.6 MB)\n",
      "\u001b[2K     \u001b[90m━━━━━━━━━━━━━━━━━━━━━━━━━━━━━━━━━━━━━━━━\u001b[0m \u001b[32m11.6/11.6 MB\u001b[0m \u001b[31m33.8 MB/s\u001b[0m eta \u001b[36m0:00:00\u001b[0m00:01\u001b[0m00:01\u001b[0m\n",
      "\u001b[?25hRequirement already satisfied: numpy!=1.24.0,>=1.20 in /opt/conda/lib/python3.10/site-packages (from seaborn) (1.24.3)\n",
      "Requirement already satisfied: python-dateutil>=2.7 in /opt/conda/lib/python3.10/site-packages (from matplotlib!=3.6.1,>=3.3->seaborn) (2.8.2)\n",
      "Collecting kiwisolver>=1.3.1\n",
      "  Downloading kiwisolver-1.4.5-cp310-cp310-manylinux_2_12_x86_64.manylinux2010_x86_64.whl (1.6 MB)\n",
      "\u001b[2K     \u001b[90m━━━━━━━━━━━━━━━━━━━━━━━━━━━━━━━━━━━━━━━━\u001b[0m \u001b[32m1.6/1.6 MB\u001b[0m \u001b[31m7.1 MB/s\u001b[0m eta \u001b[36m0:00:00\u001b[0m00:01\u001b[0m00:01\u001b[0m0m\n",
      "\u001b[?25hCollecting cycler>=0.10\n",
      "  Downloading cycler-0.12.1-py3-none-any.whl (8.3 kB)\n",
      "Requirement already satisfied: pillow>=8 in /opt/conda/lib/python3.10/site-packages (from matplotlib!=3.6.1,>=3.3->seaborn) (9.4.0)\n",
      "Collecting pyparsing>=2.3.1\n",
      "  Downloading pyparsing-3.1.1-py3-none-any.whl (103 kB)\n",
      "\u001b[2K     \u001b[90m━━━━━━━━━━━━━━━━━━━━━━━━━━━━━━━━━━━━━━━\u001b[0m \u001b[32m103.1/103.1 kB\u001b[0m \u001b[31m2.9 MB/s\u001b[0m eta \u001b[36m0:00:00\u001b[0m\n",
      "\u001b[?25hCollecting fonttools>=4.22.0\n",
      "  Downloading fonttools-4.44.3-cp310-cp310-manylinux_2_17_x86_64.manylinux2014_x86_64.whl (4.5 MB)\n",
      "\u001b[2K     \u001b[90m━━━━━━━━━━━━━━━━━━━━━━━━━━━━━━━━━━━━━━━━\u001b[0m \u001b[32m4.5/4.5 MB\u001b[0m \u001b[31m38.5 MB/s\u001b[0m eta \u001b[36m0:00:00\u001b[0m00:01\u001b[0m00:01\u001b[0mm\n",
      "\u001b[?25hRequirement already satisfied: packaging>=20.0 in /opt/conda/lib/python3.10/site-packages (from matplotlib!=3.6.1,>=3.3->seaborn) (23.0)\n",
      "Collecting contourpy>=1.0.1\n",
      "  Downloading contourpy-1.2.0-cp310-cp310-manylinux_2_17_x86_64.manylinux2014_x86_64.whl (310 kB)\n",
      "\u001b[2K     \u001b[90m━━━━━━━━━━━━━━━━━━━━━━━━━━━━━━━━━━━━━━━\u001b[0m \u001b[32m310.7/310.7 kB\u001b[0m \u001b[31m7.8 MB/s\u001b[0m eta \u001b[36m0:00:00\u001b[0m00:01\u001b[0m\n",
      "\u001b[?25hRequirement already satisfied: pytz>=2020.1 in /opt/conda/lib/python3.10/site-packages (from pandas>=1.2->seaborn) (2022.7)\n",
      "Requirement already satisfied: tzdata>=2022.1 in /opt/conda/lib/python3.10/site-packages (from pandas>=1.2->seaborn) (2023.3)\n",
      "Requirement already satisfied: six>=1.5 in /opt/conda/lib/python3.10/site-packages (from python-dateutil>=2.7->matplotlib!=3.6.1,>=3.3->seaborn) (1.16.0)\n",
      "Installing collected packages: pyparsing, kiwisolver, fonttools, cycler, contourpy, matplotlib, seaborn\n",
      "Successfully installed contourpy-1.2.0 cycler-0.12.1 fonttools-4.44.3 kiwisolver-1.4.5 matplotlib-3.8.1 pyparsing-3.1.1 seaborn-0.13.0\n",
      "\u001b[33mWARNING: Running pip as the 'root' user can result in broken permissions and conflicting behaviour with the system package manager. It is recommended to use a virtual environment instead: https://pip.pypa.io/warnings/venv\u001b[0m\u001b[33m\n",
      "\u001b[0m"
     ]
    }
   ],
   "source": [
    "# !pip install -U sentence-transformers\n",
    "# !pip install transformers\n",
    "# !pip install gdown\n",
    "# !pip install pandas\n",
    "# !pip install tqdm\n",
    "# !pip install numpy\n",
    "# !pip install seaborn"
   ]
  },
  {
   "cell_type": "code",
   "execution_count": 5,
   "metadata": {
    "colab": {
     "base_uri": "https://localhost:8080/"
    },
    "id": "go1xIMP4GVYA",
    "outputId": "967f4547-f72d-4267-ba04-cd57c610ac90"
   },
   "outputs": [
    {
     "name": "stdout",
     "output_type": "stream",
     "text": [
      "mkdir: cannot create directory ‘data’: File exists\n",
      "/opt/conda/lib/python3.10/site-packages/gdown/cli.py:126: FutureWarning: Option `--id` was deprecated in version 4.3.1 and will be removed in 5.0. You don't need to pass it anymore to use a file ID.\n",
      "  warnings.warn(\n",
      "Downloading...\n",
      "From (uriginal): https://drive.google.com/uc?id=1-6djK3NYWpSH0CGUOvAMrFhv9yyzUYmc\n",
      "From (redirected): https://drive.google.com/uc?id=1-6djK3NYWpSH0CGUOvAMrFhv9yyzUYmc&confirm=t&uuid=64a1c063-8f56-4adc-a1ad-a99b33e26eba\n",
      "To: /home/training_data_final.csv\n",
      "100%|██████████████████████████████████████| 1.08G/1.08G [00:10<00:00, 99.0MB/s]\n"
     ]
    }
   ],
   "source": [
    "!mkdir data\n",
    "!gdown --id 1-6djK3NYWpSH0CGUOvAMrFhv9yyzUYmc"
   ]
  },
  {
   "cell_type": "code",
   "execution_count": 6,
   "metadata": {},
   "outputs": [],
   "source": [
    "!mv /home/training_data_final.csv /home/data"
   ]
  },
  {
   "cell_type": "markdown",
   "metadata": {
    "id": "Vak8z15GGRBg"
   },
   "source": [
    "# Import lib"
   ]
  },
  {
   "cell_type": "code",
   "execution_count": 1,
   "metadata": {
    "id": "Z8sJMZFOGLZg"
   },
   "outputs": [],
   "source": [
    "from sentence_transformers import SentenceTransformer, models, InputExample, losses, LoggingHandler\n",
    "from torch.utils.data import DataLoader\n",
    "import pickle\n",
    "from sentence_transformers import evaluation\n",
    "import logging\n",
    "from tqdm import tqdm"
   ]
  },
  {
   "cell_type": "code",
   "execution_count": 2,
   "metadata": {
    "id": "eqhtVfWLGsXp"
   },
   "outputs": [],
   "source": [
    "logging.basicConfig(format='%(asctime)s - %(message)s',\n",
    "                        datefmt='%Y-%m-%d %H:%M:%S',\n",
    "                        level=logging.INFO,\n",
    "                        handlers=[LoggingHandler()])"
   ]
  },
  {
   "cell_type": "code",
   "execution_count": 3,
   "metadata": {
    "id": "ucRrfOkRGtI3"
   },
   "outputs": [
    {
     "name": "stdout",
     "output_type": "stream",
     "text": [
      "2023-11-17 01:54:54 - Use pytorch device: cuda\n"
     ]
    }
   ],
   "source": [
    "word_embedding_model = models.Transformer(\"output/\", max_seq_length=256)\n",
    "pooling_model = models.Pooling(word_embedding_model.get_word_embedding_dimension())\n",
    "model = SentenceTransformer(modules=[word_embedding_model, pooling_model])"
   ]
  },
  {
   "cell_type": "code",
   "execution_count": 4,
   "metadata": {},
   "outputs": [
    {
     "name": "stdout",
     "output_type": "stream",
     "text": [
      "Fri Nov 17 01:54:54 2023       \n",
      "+-----------------------------------------------------------------------------+\n",
      "| NVIDIA-SMI 525.105.17   Driver Version: 525.105.17   CUDA Version: 12.0     |\n",
      "|-------------------------------+----------------------+----------------------+\n",
      "| GPU  Name        Persistence-M| Bus-Id        Disp.A | Volatile Uncorr. ECC |\n",
      "| Fan  Temp  Perf  Pwr:Usage/Cap|         Memory-Usage | GPU-Util  Compute M. |\n",
      "|                               |                      |               MIG M. |\n",
      "|===============================+======================+======================|\n",
      "|   0  NVIDIA GeForce ...  On   | 00000000:C1:00.0 Off |                  Off |\n",
      "|  0%   32C    P8    18W / 450W |      3MiB / 24564MiB |      0%      Default |\n",
      "|                               |                      |                  N/A |\n",
      "+-------------------------------+----------------------+----------------------+\n",
      "                                                                               \n",
      "+-----------------------------------------------------------------------------+\n",
      "| Processes:                                                                  |\n",
      "|  GPU   GI   CI        PID   Type   Process name                  GPU Memory |\n",
      "|        ID   ID                                                   Usage      |\n",
      "|=============================================================================|\n",
      "|  No running processes found                                                 |\n",
      "+-----------------------------------------------------------------------------+\n"
     ]
    }
   ],
   "source": [
    "!nvidia-smi"
   ]
  },
  {
   "cell_type": "markdown",
   "metadata": {
    "id": "3zDzU9IGRknF"
   },
   "source": [
    "# Load data"
   ]
  },
  {
   "cell_type": "code",
   "execution_count": 5,
   "metadata": {
    "id": "LXjjrlxXRjIJ"
   },
   "outputs": [],
   "source": [
    "import pandas as pd\n",
    "df_train = pd.read_csv(\"data/training_data_final.csv\", index_col=0)"
   ]
  },
  {
   "cell_type": "code",
   "execution_count": 6,
   "metadata": {
    "colab": {
     "base_uri": "https://localhost:8080/",
     "height": 424
    },
    "id": "PYiCReIZRxBd",
    "outputId": "3804ff40-6969-4379-9f05-a45110180044"
   },
   "outputs": [
    {
     "data": {
      "text/html": [
       "<div>\n",
       "<style scoped>\n",
       "    .dataframe tbody tr th:only-of-type {\n",
       "        vertical-align: middle;\n",
       "    }\n",
       "\n",
       "    .dataframe tbody tr th {\n",
       "        vertical-align: top;\n",
       "    }\n",
       "\n",
       "    .dataframe thead th {\n",
       "        text-align: right;\n",
       "    }\n",
       "</style>\n",
       "<table border=\"1\" class=\"dataframe\">\n",
       "  <thead>\n",
       "    <tr style=\"text-align: right;\">\n",
       "      <th></th>\n",
       "      <th>question</th>\n",
       "      <th>answer</th>\n",
       "      <th>label</th>\n",
       "      <th>error</th>\n",
       "    </tr>\n",
       "  </thead>\n",
       "  <tbody>\n",
       "    <tr>\n",
       "      <th>0</th>\n",
       "      <td>sử dụng thông tin của người khác để vay tiền</td>\n",
       "      <td>người có chức vụ, quyền hạn không được làm nhữ...</td>\n",
       "      <td>0</td>\n",
       "      <td>False</td>\n",
       "    </tr>\n",
       "    <tr>\n",
       "      <th>1</th>\n",
       "      <td>cấp lại chứng minh thư nhân dân căn cước công....</td>\n",
       "      <td>giấy tờ của chủ xe. chủ xe là người việt nam x...</td>\n",
       "      <td>0</td>\n",
       "      <td>False</td>\n",
       "    </tr>\n",
       "    <tr>\n",
       "      <th>2</th>\n",
       "      <td>xin chào ạ em xin được hỏi và mong được giải đ...</td>\n",
       "      <td>quyết định này có hiệu lực thi hành sau 15 ngà...</td>\n",
       "      <td>0</td>\n",
       "      <td>False</td>\n",
       "    </tr>\n",
       "    <tr>\n",
       "      <th>3</th>\n",
       "      <td>sử dụng thông tin của người khác để vay tiền</td>\n",
       "      <td>thu thập thông tin tín dụng thông tin tín dụng...</td>\n",
       "      <td>0</td>\n",
       "      <td>False</td>\n",
       "    </tr>\n",
       "    <tr>\n",
       "      <th>4</th>\n",
       "      <td>thưa luật sư, em tên thị nhân là dân tộc khmer...</td>\n",
       "      <td>khi đến nơi tiếp công dân, công dân có nghĩa v...</td>\n",
       "      <td>0</td>\n",
       "      <td>False</td>\n",
       "    </tr>\n",
       "    <tr>\n",
       "      <th>...</th>\n",
       "      <td>...</td>\n",
       "      <td>...</td>\n",
       "      <td>...</td>\n",
       "      <td>...</td>\n",
       "    </tr>\n",
       "    <tr>\n",
       "      <th>166154</th>\n",
       "      <td>sổ đỏ nhà tôi được cấp năm 2004 cho hộ gia đìn...</td>\n",
       "      <td>điều 179 luật đất đai 2013 quy định hộ gia đìn...</td>\n",
       "      <td>1</td>\n",
       "      <td>False</td>\n",
       "    </tr>\n",
       "    <tr>\n",
       "      <th>166155</th>\n",
       "      <td>có được thế chấp tài sản thừa kế không ngân hà...</td>\n",
       "      <td>trong trường hợp của bạn, bố mẹ bạn đã lập di ...</td>\n",
       "      <td>1</td>\n",
       "      <td>False</td>\n",
       "    </tr>\n",
       "    <tr>\n",
       "      <th>166156</th>\n",
       "      <td>bố mẹ tôi lập di chúc chung để lại tài sản là ...</td>\n",
       "      <td>trong trường hợp của bạn, bố mẹ bạn đã lập di ...</td>\n",
       "      <td>1</td>\n",
       "      <td>False</td>\n",
       "    </tr>\n",
       "    <tr>\n",
       "      <th>166157</th>\n",
       "      <td>giao dịch vô hiệu khi bị cưỡng ép ký kết hợp đ...</td>\n",
       "      <td>hợp đồng vay tài sản là sự thoả thuận giữa các...</td>\n",
       "      <td>1</td>\n",
       "      <td>False</td>\n",
       "    </tr>\n",
       "    <tr>\n",
       "      <th>166158</th>\n",
       "      <td>bị ép kí vào giấy vay tiền, bị thưa ra tòa và ...</td>\n",
       "      <td>hợp đồng vay tài sản là sự thoả thuận giữa các...</td>\n",
       "      <td>1</td>\n",
       "      <td>False</td>\n",
       "    </tr>\n",
       "  </tbody>\n",
       "</table>\n",
       "<p>165855 rows × 4 columns</p>\n",
       "</div>"
      ],
      "text/plain": [
       "                                                 question  \\\n",
       "0            sử dụng thông tin của người khác để vay tiền   \n",
       "1       cấp lại chứng minh thư nhân dân căn cước công....   \n",
       "2       xin chào ạ em xin được hỏi và mong được giải đ...   \n",
       "3            sử dụng thông tin của người khác để vay tiền   \n",
       "4       thưa luật sư, em tên thị nhân là dân tộc khmer...   \n",
       "...                                                   ...   \n",
       "166154  sổ đỏ nhà tôi được cấp năm 2004 cho hộ gia đìn...   \n",
       "166155  có được thế chấp tài sản thừa kế không ngân hà...   \n",
       "166156  bố mẹ tôi lập di chúc chung để lại tài sản là ...   \n",
       "166157  giao dịch vô hiệu khi bị cưỡng ép ký kết hợp đ...   \n",
       "166158  bị ép kí vào giấy vay tiền, bị thưa ra tòa và ...   \n",
       "\n",
       "                                                   answer  label  error  \n",
       "0       người có chức vụ, quyền hạn không được làm nhữ...      0  False  \n",
       "1       giấy tờ của chủ xe. chủ xe là người việt nam x...      0  False  \n",
       "2       quyết định này có hiệu lực thi hành sau 15 ngà...      0  False  \n",
       "3       thu thập thông tin tín dụng thông tin tín dụng...      0  False  \n",
       "4       khi đến nơi tiếp công dân, công dân có nghĩa v...      0  False  \n",
       "...                                                   ...    ...    ...  \n",
       "166154  điều 179 luật đất đai 2013 quy định hộ gia đìn...      1  False  \n",
       "166155  trong trường hợp của bạn, bố mẹ bạn đã lập di ...      1  False  \n",
       "166156  trong trường hợp của bạn, bố mẹ bạn đã lập di ...      1  False  \n",
       "166157  hợp đồng vay tài sản là sự thoả thuận giữa các...      1  False  \n",
       "166158  hợp đồng vay tài sản là sự thoả thuận giữa các...      1  False  \n",
       "\n",
       "[165855 rows x 4 columns]"
      ]
     },
     "execution_count": 6,
     "metadata": {},
     "output_type": "execute_result"
    }
   ],
   "source": [
    "import numpy as np\n",
    "df_train['label'] = df_train['label'].astype(np.int16)\n",
    "df_train"
   ]
  },
  {
   "cell_type": "code",
   "execution_count": 7,
   "metadata": {
    "colab": {
     "base_uri": "https://localhost:8080/"
    },
    "id": "0eIb-58oTM8p",
    "outputId": "43869877-0656-4e4c-b030-25401ce89f5b"
   },
   "outputs": [
    {
     "name": "stderr",
     "output_type": "stream",
     "text": [
      "/tmp/ipykernel_745/1383614074.py:1: TqdmDeprecationWarning: This function will be removed in tqdm==5.0.0\n",
      "Please use `tqdm.notebook.*` instead of `tqdm._tqdm_notebook.*`\n",
      "  from tqdm._tqdm_notebook import tqdm_notebook\n"
     ]
    }
   ],
   "source": [
    "from tqdm._tqdm_notebook import tqdm_notebook\n",
    "tqdm_notebook.pandas()"
   ]
  },
  {
   "cell_type": "code",
   "execution_count": 10,
   "metadata": {
    "id": "kyVLpU7rS1m7"
   },
   "outputs": [],
   "source": [
    "# import re\n",
    "# def process(text):\n",
    "#     text = str(text)\n",
    "#     text = re.sub('((www\\.[^\\s]+)|(https?://[^\\s]+))', 'URL', text)\n",
    "#     text = re.sub('@[^\\s]+', 'AT_ABC', text)\n",
    "#     text = re.sub(r'\\n', ' ', text)\n",
    "#     text = re.sub(r'([\\w]+\\) )', '.', text)\n",
    "#     text = re.sub(r'([\\d]+\\. )', '', text)\n",
    "#     text = re.sub(r'[^aAàÀảẢãÃáÁạẠăĂằẰẳẲẵẴắẮặẶâÂầẦẩẨẫẪấẤậẬbBcCdDđĐeEèÈẻẺẽẼéÉẹẸêÊềỀểỂễỄếẾệỆfFgGhHiIìÌỉỈĩĨíÍịỊjJkKlLmMnNoOòÒỏỎõÕóÓọỌôÔồỒổỔỗỖốỐộỘơƠờỜởỞỡỠớỚợỢpPqQrRsStTuUùÙủỦũŨúÚụỤưƯừỪửỬữỮứỨựỰvVwWxXyYỳỲỷỶỹỸýÝỵỴzZ0-9., ]', '', text)\n",
    "#     text = text.replace('.', '. ')\n",
    "#     text = text.replace(' .', '. ')\n",
    "#     text = re.sub(r'[\\s]+', ' ', text)\n",
    "#     text = text.strip('.')\n",
    "#     text = text.strip('\\'\"')\n",
    "#     text = text.strip()\n",
    "#     text = text.lower()\n",
    "#     return text\n",
    "\n",
    "# df_train['question'] = df_train['question'].progress_apply(process)\n",
    "# df_train['answer'] = df_train['answer'].progress_apply(process)"
   ]
  },
  {
   "cell_type": "code",
   "execution_count": 8,
   "metadata": {
    "id": "YjJPzGB7Zkt9"
   },
   "outputs": [],
   "source": [
    "def check_err(text):\n",
    "  if len(str(text).split(' ')) < 5:\n",
    "    return True\n",
    "  return False"
   ]
  },
  {
   "cell_type": "code",
   "execution_count": 9,
   "metadata": {
    "id": "uvItLJY6aEzy"
   },
   "outputs": [
    {
     "data": {
      "application/vnd.jupyter.widget-view+json": {
       "model_id": "80bde07ae7be4e00964ee801ca66070b",
       "version_major": 2,
       "version_minor": 0
      },
      "text/plain": [
       "  0%|          | 0/165855 [00:00<?, ?it/s]"
      ]
     },
     "metadata": {},
     "output_type": "display_data"
    },
    {
     "data": {
      "application/vnd.jupyter.widget-view+json": {
       "model_id": "6bcdf43972c84c4fb5479edfc99701a9",
       "version_major": 2,
       "version_minor": 0
      },
      "text/plain": [
       "  0%|          | 0/165635 [00:00<?, ?it/s]"
      ]
     },
     "metadata": {},
     "output_type": "display_data"
    },
    {
     "name": "stderr",
     "output_type": "stream",
     "text": [
      "/tmp/ipykernel_745/561383352.py:3: SettingWithCopyWarning: \n",
      "A value is trying to be set on a copy of a slice from a DataFrame.\n",
      "Try using .loc[row_indexer,col_indexer] = value instead\n",
      "\n",
      "See the caveats in the documentation: https://pandas.pydata.org/pandas-docs/stable/user_guide/indexing.html#returning-a-view-versus-a-copy\n",
      "  df_train['error'] = df_train['answer'].progress_apply(check_err)\n"
     ]
    }
   ],
   "source": [
    "df_train['error'] = df_train['question'].progress_apply(check_err)\n",
    "df_train = df_train[df_train['error']==False]\n",
    "df_train['error'] = df_train['answer'].progress_apply(check_err)\n",
    "df_train = df_train[df_train['error']==False]"
   ]
  },
  {
   "cell_type": "code",
   "execution_count": 10,
   "metadata": {
    "id": "RXSPo1RzXdNL"
   },
   "outputs": [],
   "source": [
    "from sklearn.model_selection import train_test_split\n",
    "X_train, X_val, y_train, y_val = train_test_split(\n",
    "    df_train[['question', 'answer']], df_train['label'],\n",
    "    test_size=0.2, random_state=42\n",
    ")\n"
   ]
  },
  {
   "cell_type": "code",
   "execution_count": 11,
   "metadata": {
    "colab": {
     "base_uri": "https://localhost:8080/",
     "height": 206
    },
    "id": "Fxeu6hYlX5Vv",
    "outputId": "4be1f8fd-7963-4999-8a6b-34d9078ea2b0"
   },
   "outputs": [
    {
     "data": {
      "text/html": [
       "<div>\n",
       "<style scoped>\n",
       "    .dataframe tbody tr th:only-of-type {\n",
       "        vertical-align: middle;\n",
       "    }\n",
       "\n",
       "    .dataframe tbody tr th {\n",
       "        vertical-align: top;\n",
       "    }\n",
       "\n",
       "    .dataframe thead th {\n",
       "        text-align: right;\n",
       "    }\n",
       "</style>\n",
       "<table border=\"1\" class=\"dataframe\">\n",
       "  <thead>\n",
       "    <tr style=\"text-align: right;\">\n",
       "      <th></th>\n",
       "      <th>question</th>\n",
       "      <th>answer</th>\n",
       "      <th>label</th>\n",
       "    </tr>\n",
       "  </thead>\n",
       "  <tbody>\n",
       "    <tr>\n",
       "      <th>124752</th>\n",
       "      <td>em xin chào luật sư. em muốn hỏi một vấn đề. e...</td>\n",
       "      <td>căn cứ pháp lý thông tư liên tịch 012006ttltbg...</td>\n",
       "      <td>1</td>\n",
       "    </tr>\n",
       "    <tr>\n",
       "      <th>150540</th>\n",
       "      <td>trên giây chưng nhân đăng ki kinh doanh hiên n...</td>\n",
       "      <td>căn cứ pháp lý luật doanh nghiệp 2014 nôi dung...</td>\n",
       "      <td>1</td>\n",
       "    </tr>\n",
       "    <tr>\n",
       "      <th>141912</th>\n",
       "      <td>bố mẹ tôi có đất canh tác ở xã phụng công hiện...</td>\n",
       "      <td>căn cứ pháp lý luật đất đai 2013 bộ luật dân s...</td>\n",
       "      <td>1</td>\n",
       "    </tr>\n",
       "    <tr>\n",
       "      <th>67772</th>\n",
       "      <td>giải quyết tranh chấp đất đai khi đất được gia...</td>\n",
       "      <td>các trường hợp sau đây được xét cấp giấy chứng...</td>\n",
       "      <td>0</td>\n",
       "    </tr>\n",
       "    <tr>\n",
       "      <th>158520</th>\n",
       "      <td>để đảm bảo nghĩa vụ thực hiện hợp đồng thi côn...</td>\n",
       "      <td>iều 343 bộ luật dân sự quy định về hình thức t...</td>\n",
       "      <td>1</td>\n",
       "    </tr>\n",
       "  </tbody>\n",
       "</table>\n",
       "</div>"
      ],
      "text/plain": [
       "                                                 question  \\\n",
       "124752  em xin chào luật sư. em muốn hỏi một vấn đề. e...   \n",
       "150540  trên giây chưng nhân đăng ki kinh doanh hiên n...   \n",
       "141912  bố mẹ tôi có đất canh tác ở xã phụng công hiện...   \n",
       "67772   giải quyết tranh chấp đất đai khi đất được gia...   \n",
       "158520  để đảm bảo nghĩa vụ thực hiện hợp đồng thi côn...   \n",
       "\n",
       "                                                   answer  label  \n",
       "124752  căn cứ pháp lý thông tư liên tịch 012006ttltbg...      1  \n",
       "150540  căn cứ pháp lý luật doanh nghiệp 2014 nôi dung...      1  \n",
       "141912  căn cứ pháp lý luật đất đai 2013 bộ luật dân s...      1  \n",
       "67772   các trường hợp sau đây được xét cấp giấy chứng...      0  \n",
       "158520  iều 343 bộ luật dân sự quy định về hình thức t...      1  "
      ]
     },
     "execution_count": 11,
     "metadata": {},
     "output_type": "execute_result"
    }
   ],
   "source": [
    "# recheck data\n",
    "X_train['label'] = y_train\n",
    "X_val['label'] = y_val\n",
    "X_train.head()"
   ]
  },
  {
   "cell_type": "code",
   "execution_count": 12,
   "metadata": {
    "colab": {
     "base_uri": "https://localhost:8080/",
     "height": 494
    },
    "id": "Lnxq5l1SYJ1w",
    "outputId": "b0acd299-eb70-47e0-8833-224b0b4a8ddc"
   },
   "outputs": [
    {
     "name": "stdout",
     "output_type": "stream",
     "text": [
      "label\n",
      "0    22309\n",
      "1    10818\n",
      "Name: count, dtype: int64\n"
     ]
    },
    {
     "data": {
      "text/plain": [
       "<Axes: xlabel='label'>"
      ]
     },
     "execution_count": 12,
     "metadata": {},
     "output_type": "execute_result"
    },
    {
     "data": {
      "image/png": "[encoded data removed]",
      "text/plain": [
       "<Figure size 640x480 with 1 Axes>"
      ]
     },
     "metadata": {},
     "output_type": "display_data"
    }
   ],
   "source": [
    "import seaborn as sns\n",
    "\n",
    "type_counts = X_val['label'].value_counts()\n",
    "print(type_counts)\n",
    "type_counts.plot(kind='bar')"
   ]
  },
  {
   "cell_type": "code",
   "execution_count": 13,
   "metadata": {
    "id": "K_cRXqytRMgv"
   },
   "outputs": [],
   "source": [
    "train_examples = []\n",
    "sent1 = []\n",
    "sent2 = []\n",
    "scores = []"
   ]
  },
  {
   "cell_type": "code",
   "execution_count": 14,
   "metadata": {
    "colab": {
     "base_uri": "https://localhost:8080/"
    },
    "id": "v4Frq-HNSCp-",
    "outputId": "7981c5f0-6c41-486b-ff1c-6cc1dbe5490b"
   },
   "outputs": [
    {
     "name": "stderr",
     "output_type": "stream",
     "text": [
      "132508it [00:01, 128276.41it/s]\n"
     ]
    }
   ],
   "source": [
    "for row in tqdm(X_train.itertuples()):\n",
    "  # print(row.question)\n",
    "  # print(\"------------\")\n",
    "  relevant = float(row.label)\n",
    "  question = row.question\n",
    "  answer = row.answer\n",
    "  example = InputExample(texts=[question, answer], label=relevant)\n",
    "  train_examples.append(example)\n",
    "\n"
   ]
  },
  {
   "cell_type": "code",
   "execution_count": 18,
   "metadata": {
    "id": "6YEdqtNfSGmI"
   },
   "outputs": [],
   "source": [
    "train_dataloader = DataLoader(train_examples, shuffle=True, batch_size=16)\n",
    "train_loss = losses.ContrastiveLoss(model)\n"
   ]
  },
  {
   "cell_type": "code",
   "execution_count": 19,
   "metadata": {
    "colab": {
     "base_uri": "https://localhost:8080/",
     "height": 424
    },
    "id": "7wi6dMwYcLN9",
    "outputId": "78142f65-ac36-4488-a6f3-25b16e9be252"
   },
   "outputs": [
    {
     "data": {
      "text/html": [
       "<div>\n",
       "<style scoped>\n",
       "    .dataframe tbody tr th:only-of-type {\n",
       "        vertical-align: middle;\n",
       "    }\n",
       "\n",
       "    .dataframe tbody tr th {\n",
       "        vertical-align: top;\n",
       "    }\n",
       "\n",
       "    .dataframe thead th {\n",
       "        text-align: right;\n",
       "    }\n",
       "</style>\n",
       "<table border=\"1\" class=\"dataframe\">\n",
       "  <thead>\n",
       "    <tr style=\"text-align: right;\">\n",
       "      <th></th>\n",
       "      <th>question</th>\n",
       "      <th>answer</th>\n",
       "      <th>label</th>\n",
       "    </tr>\n",
       "  </thead>\n",
       "  <tbody>\n",
       "    <tr>\n",
       "      <th>50704</th>\n",
       "      <td>căn cứ chứng minh tài sản chung của hộ gia đình</td>\n",
       "      <td>tài sản chung của hộ gia đình tài sản chung củ...</td>\n",
       "      <td>0</td>\n",
       "    </tr>\n",
       "    <tr>\n",
       "      <th>162996</th>\n",
       "      <td>xin hỏi luât sư. bạn em có đi lên vỉa hè tâm 1...</td>\n",
       "      <td>căn cứ pháp lý nghị định 462016nđcp luật xử lý...</td>\n",
       "      <td>1</td>\n",
       "    </tr>\n",
       "    <tr>\n",
       "      <th>20528</th>\n",
       "      <td>quy định về tiêu chuẩn làm công chức văn thư c...</td>\n",
       "      <td>phạm vi điều chỉnh và đối tượng áp dụng thông ...</td>\n",
       "      <td>0</td>\n",
       "    </tr>\n",
       "    <tr>\n",
       "      <th>94200</th>\n",
       "      <td>lấy lại xe bị thu giữ đối với tài sản cầm cố k...</td>\n",
       "      <td>thanh toán số tiền có được từ việc xử lý tài s...</td>\n",
       "      <td>0</td>\n",
       "    </tr>\n",
       "    <tr>\n",
       "      <th>72484</th>\n",
       "      <td>giám đốc công ty cổ phần có được kiêm chủ tịch...</td>\n",
       "      <td>chủ tịch hội đồng quản trị hội đồng quản trị b...</td>\n",
       "      <td>0</td>\n",
       "    </tr>\n",
       "    <tr>\n",
       "      <th>...</th>\n",
       "      <td>...</td>\n",
       "      <td>...</td>\n",
       "      <td>...</td>\n",
       "    </tr>\n",
       "    <tr>\n",
       "      <th>106248</th>\n",
       "      <td>chia di sản thừa kế khi anh trai chết không để...</td>\n",
       "      <td>hiệu lực của di chúc. di chúc có hiệu lực từ t...</td>\n",
       "      <td>0</td>\n",
       "    </tr>\n",
       "    <tr>\n",
       "      <th>109783</th>\n",
       "      <td>theo quy định pháp luật, bộ phận của động vật,...</td>\n",
       "      <td>điều 3 giải thích từ ngữ trong nghị định này c...</td>\n",
       "      <td>1</td>\n",
       "    </tr>\n",
       "    <tr>\n",
       "      <th>163198</th>\n",
       "      <td>xin chào hệ thống pháp luật ạ, tôi có một câu ...</td>\n",
       "      <td>căn cư phap ly thông tư 122017ttbgtvt quy định...</td>\n",
       "      <td>1</td>\n",
       "    </tr>\n",
       "    <tr>\n",
       "      <th>140554</th>\n",
       "      <td>chào luật sư tôi có một vấn đề cần tư vấn như ...</td>\n",
       "      <td>căn cứ khoản 3 điều 10 nghị định 1402016nđcp đ...</td>\n",
       "      <td>1</td>\n",
       "    </tr>\n",
       "    <tr>\n",
       "      <th>18940</th>\n",
       "      <td>có được cộng nối thời gian phục vụ trong quân ...</td>\n",
       "      <td>thời gian công tác để tính hưởng bảo hiểm xã h...</td>\n",
       "      <td>0</td>\n",
       "    </tr>\n",
       "  </tbody>\n",
       "</table>\n",
       "<p>33127 rows × 3 columns</p>\n",
       "</div>"
      ],
      "text/plain": [
       "                                                 question  \\\n",
       "50704     căn cứ chứng minh tài sản chung của hộ gia đình   \n",
       "162996  xin hỏi luât sư. bạn em có đi lên vỉa hè tâm 1...   \n",
       "20528   quy định về tiêu chuẩn làm công chức văn thư c...   \n",
       "94200   lấy lại xe bị thu giữ đối với tài sản cầm cố k...   \n",
       "72484   giám đốc công ty cổ phần có được kiêm chủ tịch...   \n",
       "...                                                   ...   \n",
       "106248  chia di sản thừa kế khi anh trai chết không để...   \n",
       "109783  theo quy định pháp luật, bộ phận của động vật,...   \n",
       "163198  xin chào hệ thống pháp luật ạ, tôi có một câu ...   \n",
       "140554  chào luật sư tôi có một vấn đề cần tư vấn như ...   \n",
       "18940   có được cộng nối thời gian phục vụ trong quân ...   \n",
       "\n",
       "                                                   answer  label  \n",
       "50704   tài sản chung của hộ gia đình tài sản chung củ...      0  \n",
       "162996  căn cứ pháp lý nghị định 462016nđcp luật xử lý...      1  \n",
       "20528   phạm vi điều chỉnh và đối tượng áp dụng thông ...      0  \n",
       "94200   thanh toán số tiền có được từ việc xử lý tài s...      0  \n",
       "72484   chủ tịch hội đồng quản trị hội đồng quản trị b...      0  \n",
       "...                                                   ...    ...  \n",
       "106248  hiệu lực của di chúc. di chúc có hiệu lực từ t...      0  \n",
       "109783  điều 3 giải thích từ ngữ trong nghị định này c...      1  \n",
       "163198  căn cư phap ly thông tư 122017ttbgtvt quy định...      1  \n",
       "140554  căn cứ khoản 3 điều 10 nghị định 1402016nđcp đ...      1  \n",
       "18940   thời gian công tác để tính hưởng bảo hiểm xã h...      0  \n",
       "\n",
       "[33127 rows x 3 columns]"
      ]
     },
     "execution_count": 19,
     "metadata": {},
     "output_type": "execute_result"
    }
   ],
   "source": [
    "X_val"
   ]
  },
  {
   "cell_type": "code",
   "execution_count": 16,
   "metadata": {
    "id": "q8WhqrbuZRC6"
   },
   "outputs": [],
   "source": [
    "evaluator = evaluation.BinaryClassificationEvaluator(X_val['question'].values.tolist(),\n",
    "                                                     X_val['answer'].values.tolist(),\n",
    "                                                     X_val['label'].values.tolist())"
   ]
  },
  {
   "cell_type": "code",
   "execution_count": 21,
   "metadata": {
    "colab": {
     "base_uri": "https://localhost:8080/"
    },
    "id": "Q88IFTBWc6m1",
    "outputId": "20b2397a-9298-4897-920a-8eaffa2ed215"
   },
   "outputs": [],
   "source": [
    "# !mkdir output"
   ]
  },
  {
   "cell_type": "code",
   "execution_count": 22,
   "metadata": {},
   "outputs": [
    {
     "data": {
      "text/plain": [
       "SentenceTransformer(\n",
       "  (0): Transformer({'max_seq_length': 256, 'do_lower_case': False}) with Transformer model: RobertaModel \n",
       "  (1): Pooling({'word_embedding_dimension': 1024, 'pooling_mode_cls_token': False, 'pooling_mode_mean_tokens': True, 'pooling_mode_max_tokens': False, 'pooling_mode_mean_sqrt_len_tokens': False})\n",
       ")"
      ]
     },
     "execution_count": 22,
     "metadata": {},
     "output_type": "execute_result"
    }
   ],
   "source": [
    "model"
   ]
  },
  {
   "cell_type": "code",
   "execution_count": null,
   "metadata": {
    "colab": {
     "base_uri": "https://localhost:8080/",
     "height": 489,
     "referenced_widgets": [
      "76255c57ac544b978e80eba0fc2a4a7e",
      "80189655781842ecb242184f51e4609b",
      "4ec3c048f1724e49a88585a0dfbd2cc2",
      "a2ce08f4e70c4f539badc5cb61c5cf67",
      "2b0175019126477f94635eed1566946c",
      "1b6c06099ab44f66a25bf92f4045a12a",
      "97db5da2b1dd45868e9a0f5fe2e7b542",
      "b9e8a10fd3cd443e8720c5022d9f525d",
      "89626114f89643b1805a7e6d26ae3dd9",
      "15ec5a4b68b44a07bb18949b49e77010",
      "2ee4bc90fa3f42a59772d0994a14f587",
      "91daa9de58b94705a91ff221f5998c38",
      "f05959fe18a24c288f529375ee93260c",
      "366c55661bbc4da39b12ee7a31145bbd",
      "2456d966046a453e8a2603cf661cb4cc",
      "f88341d933b54eabb5bc957d5cbe29df",
      "7126439ed8d94db3b8ce055b88785c6c",
      "683131e578d947b39eb0b22dd398a1b9",
      "ee4bbb5d562440858acc034c910ea183",
      "cc69ac517fcd4eddb60add5ec79a2b99",
      "e8599920bd50482aa222fd81748dcb06",
      "d62fdd2e5fc84b3aad6812ffd8673c71"
     ]
    },
    "id": "6A82klwWZPGn",
    "outputId": "3cc90c34-2994-44b3-8703-050b6a8080da"
   },
   "outputs": [
    {
     "data": {
      "application/vnd.jupyter.widget-view+json": {
       "model_id": "fce0869ee41f4459bb7bd30cf8f03437",
       "version_major": 2,
       "version_minor": 0
      },
      "text/plain": [
       "Epoch:   0%|          | 0/9 [00:00<?, ?it/s]"
      ]
     },
     "metadata": {},
     "output_type": "display_data"
    },
    {
     "data": {
      "application/vnd.jupyter.widget-view+json": {
       "model_id": "6bc565f03dce459599d6d29249bfc25d",
       "version_major": 2,
       "version_minor": 0
      },
      "text/plain": [
       "Iteration:   0%|          | 0/8282 [00:00<?, ?it/s]"
      ]
     },
     "metadata": {},
     "output_type": "display_data"
    }
   ],
   "source": [
    "model.fit(train_objectives=[(train_dataloader, train_loss)],\n",
    "            epochs=9,\n",
    "            warmup_steps=1000,\n",
    "            optimizer_params={'lr': 1e-5},\n",
    "            save_best_model=True,\n",
    "            evaluator=evaluator,\n",
    "            evaluation_steps=2500,\n",
    "            output_path='output/',\n",
    "            use_amp=True,\n",
    "            show_progress_bar=True)"
   ]
  },
  {
   "cell_type": "code",
   "execution_count": 17,
   "metadata": {
    "id": "c8LFGxHgc_kN"
   },
   "outputs": [
    {
     "name": "stdout",
     "output_type": "stream",
     "text": [
      "2023-11-17 01:57:04 - Binary Accuracy Evaluation of the model on  dataset:\n",
      "2023-11-17 02:00:40 - Accuracy with Cosine-Similarity:           97.59\t(Threshold: 0.7235)\n",
      "2023-11-17 02:00:40 - F1 with Cosine-Similarity:                 96.23\t(Threshold: 0.7231)\n",
      "2023-11-17 02:00:40 - Precision with Cosine-Similarity:          98.06\n",
      "2023-11-17 02:00:40 - Recall with Cosine-Similarity:             94.47\n",
      "2023-11-17 02:00:40 - Average Precision with Cosine-Similarity:  99.05\n",
      "\n",
      "2023-11-17 02:00:40 - Accuracy with Manhattan-Distance:           97.38\t(Threshold: 98.8716)\n",
      "2023-11-17 02:00:40 - F1 with Manhattan-Distance:                 95.91\t(Threshold: 102.2518)\n",
      "2023-11-17 02:00:40 - Precision with Manhattan-Distance:          97.80\n",
      "2023-11-17 02:00:40 - Recall with Manhattan-Distance:             94.09\n",
      "2023-11-17 02:00:40 - Average Precision with Manhattan-Distance:  98.58\n",
      "\n",
      "2023-11-17 02:00:41 - Accuracy with Euclidean-Distance:           97.39\t(Threshold: 3.8970)\n",
      "2023-11-17 02:00:41 - F1 with Euclidean-Distance:                 95.92\t(Threshold: 3.8970)\n",
      "2023-11-17 02:00:41 - Precision with Euclidean-Distance:          98.16\n",
      "2023-11-17 02:00:41 - Recall with Euclidean-Distance:             93.77\n",
      "2023-11-17 02:00:41 - Average Precision with Euclidean-Distance:  98.57\n",
      "\n",
      "2023-11-17 02:00:41 - Accuracy with Dot-Product:           93.64\t(Threshold: 14.3295)\n",
      "2023-11-17 02:00:41 - F1 with Dot-Product:                 90.47\t(Threshold: 14.1936)\n",
      "2023-11-17 02:00:41 - Precision with Dot-Product:          88.58\n",
      "2023-11-17 02:00:41 - Recall with Dot-Product:             92.46\n",
      "2023-11-17 02:00:41 - Average Precision with Dot-Product:  84.55\n",
      "\n"
     ]
    },
    {
     "data": {
      "text/plain": [
       "0.9904805101471276"
      ]
     },
     "execution_count": 17,
     "metadata": {},
     "output_type": "execute_result"
    }
   ],
   "source": [
    "model.evaluate(evaluator)"
   ]
  },
  {
   "cell_type": "code",
   "execution_count": null,
   "metadata": {},
   "outputs": [],
   "source": []
  }
 ],
 "metadata": {
  "accelerator": "GPU",
  "colab": {
   "gpuType": "T4",
   "provenance": []
  },
  "kernelspec": {
   "display_name": "Python 3 (ipykernel)",
   "language": "python",
   "name": "python3"
  },
  "language_info": {
   "codemirror_mode": {
    "name": "ipython",
    "version": 3
   },
   "file_extension": ".py",
   "mimetype": "text/x-python",
   "name": "python",
   "nbconvert_exporter": "python",
   "pygments_lexer": "ipython3",
   "version": "3.10.11"
  },
  "widgets": {
   "application/vnd.jupyter.widget-state+json": {
    "15ec5a4b68b44a07bb18949b49e77010": {
     "model_module": "@jupyter-widgets/base",
     "model_module_version": "1.2.0",
     "model_name": "LayoutModel",
     "state": {
      "_model_module": "@jupyter-widgets/base",
      "_model_module_version": "1.2.0",
      "_model_name": "LayoutModel",
      "_view_count": null,
      "_view_module": "@jupyter-widgets/base",
      "_view_module_version": "1.2.0",
      "_view_name": "LayoutView",
      "align_content": null,
      "align_items": null,
      "align_self": null,
      "border": null,
      "bottom": null,
      "display": null,
      "flex": null,
      "flex_flow": null,
      "grid_area": null,
      "grid_auto_columns": null,
      "grid_auto_flow": null,
      "grid_auto_rows": null,
      "grid_column": null,
      "grid_gap": null,
      "grid_row": null,
      "grid_template_areas": null,
      "grid_template_columns": null,
      "grid_template_rows": null,
      "height": null,
      "justify_content": null,
      "justify_items": null,
      "left": null,
      "margin": null,
      "max_height": null,
      "max_width": null,
      "min_height": null,
      "min_width": null,
      "object_fit": null,
      "object_position": null,
      "order": null,
      "overflow": null,
      "overflow_x": null,
      "overflow_y": null,
      "padding": null,
      "right": null,
      "top": null,
      "visibility": null,
      "width": null
     }
    },
    "1b6c06099ab44f66a25bf92f4045a12a": {
     "model_module": "@jupyter-widgets/base",
     "model_module_version": "1.2.0",
     "model_name": "LayoutModel",
     "state": {
      "_model_module": "@jupyter-widgets/base",
      "_model_module_version": "1.2.0",
      "_model_name": "LayoutModel",
      "_view_count": null,
      "_view_module": "@jupyter-widgets/base",
      "_view_module_version": "1.2.0",
      "_view_name": "LayoutView",
      "align_content": null,
      "align_items": null,
      "align_self": null,
      "border": null,
      "bottom": null,
      "display": null,
      "flex": null,
      "flex_flow": null,
      "grid_area": null,
      "grid_auto_columns": null,
      "grid_auto_flow": null,
      "grid_auto_rows": null,
      "grid_column": null,
      "grid_gap": null,
      "grid_row": null,
      "grid_template_areas": null,
      "grid_template_columns": null,
      "grid_template_rows": null,
      "height": null,
      "justify_content": null,
      "justify_items": null,
      "left": null,
      "margin": null,
      "max_height": null,
      "max_width": null,
      "min_height": null,
      "min_width": null,
      "object_fit": null,
      "object_position": null,
      "order": null,
      "overflow": null,
      "overflow_x": null,
      "overflow_y": null,
      "padding": null,
      "right": null,
      "top": null,
      "visibility": null,
      "width": null
     }
    },
    "2456d966046a453e8a2603cf661cb4cc": {
     "model_module": "@jupyter-widgets/controls",
     "model_module_version": "1.5.0",
     "model_name": "HTMLModel",
     "state": {
      "_dom_classes": [],
      "_model_module": "@jupyter-widgets/controls",
      "_model_module_version": "1.5.0",
      "_model_name": "HTMLModel",
      "_view_count": null,
      "_view_module": "@jupyter-widgets/controls",
      "_view_module_version": "1.5.0",
      "_view_name": "HTMLView",
      "description": "",
      "description_tooltip": null,
      "layout": "IPY_MODEL_e8599920bd50482aa222fd81748dcb06",
      "placeholder": "​",
      "style": "IPY_MODEL_d62fdd2e5fc84b3aad6812ffd8673c71",
      "value": " 1/8282 [00:05&lt;12:03:58,  5.25s/it]"
     }
    },
    "2b0175019126477f94635eed1566946c": {
     "model_module": "@jupyter-widgets/base",
     "model_module_version": "1.2.0",
     "model_name": "LayoutModel",
     "state": {
      "_model_module": "@jupyter-widgets/base",
      "_model_module_version": "1.2.0",
      "_model_name": "LayoutModel",
      "_view_count": null,
      "_view_module": "@jupyter-widgets/base",
      "_view_module_version": "1.2.0",
      "_view_name": "LayoutView",
      "align_content": null,
      "align_items": null,
      "align_self": null,
      "border": null,
      "bottom": null,
      "display": null,
      "flex": null,
      "flex_flow": null,
      "grid_area": null,
      "grid_auto_columns": null,
      "grid_auto_flow": null,
      "grid_auto_rows": null,
      "grid_column": null,
      "grid_gap": null,
      "grid_row": null,
      "grid_template_areas": null,
      "grid_template_columns": null,
      "grid_template_rows": null,
      "height": null,
      "justify_content": null,
      "justify_items": null,
      "left": null,
      "margin": null,
      "max_height": null,
      "max_width": null,
      "min_height": null,
      "min_width": null,
      "object_fit": null,
      "object_position": null,
      "order": null,
      "overflow": null,
      "overflow_x": null,
      "overflow_y": null,
      "padding": null,
      "right": null,
      "top": null,
      "visibility": null,
      "width": null
     }
    },
    "2ee4bc90fa3f42a59772d0994a14f587": {
     "model_module": "@jupyter-widgets/controls",
     "model_module_version": "1.5.0",
     "model_name": "DescriptionStyleModel",
     "state": {
      "_model_module": "@jupyter-widgets/controls",
      "_model_module_version": "1.5.0",
      "_model_name": "DescriptionStyleModel",
      "_view_count": null,
      "_view_module": "@jupyter-widgets/base",
      "_view_module_version": "1.2.0",
      "_view_name": "StyleView",
      "description_width": ""
     }
    },
    "366c55661bbc4da39b12ee7a31145bbd": {
     "model_module": "@jupyter-widgets/controls",
     "model_module_version": "1.5.0",
     "model_name": "FloatProgressModel",
     "state": {
      "_dom_classes": [],
      "_model_module": "@jupyter-widgets/controls",
      "_model_module_version": "1.5.0",
      "_model_name": "FloatProgressModel",
      "_view_count": null,
      "_view_module": "@jupyter-widgets/controls",
      "_view_module_version": "1.5.0",
      "_view_name": "ProgressView",
      "bar_style": "danger",
      "description": "",
      "description_tooltip": null,
      "layout": "IPY_MODEL_ee4bbb5d562440858acc034c910ea183",
      "max": 8282,
      "min": 0,
      "orientation": "horizontal",
      "style": "IPY_MODEL_cc69ac517fcd4eddb60add5ec79a2b99",
      "value": 1
     }
    },
    "4ec3c048f1724e49a88585a0dfbd2cc2": {
     "model_module": "@jupyter-widgets/controls",
     "model_module_version": "1.5.0",
     "model_name": "FloatProgressModel",
     "state": {
      "_dom_classes": [],
      "_model_module": "@jupyter-widgets/controls",
      "_model_module_version": "1.5.0",
      "_model_name": "FloatProgressModel",
      "_view_count": null,
      "_view_module": "@jupyter-widgets/controls",
      "_view_module_version": "1.5.0",
      "_view_name": "ProgressView",
      "bar_style": "danger",
      "description": "",
      "description_tooltip": null,
      "layout": "IPY_MODEL_b9e8a10fd3cd443e8720c5022d9f525d",
      "max": 1000000,
      "min": 0,
      "orientation": "horizontal",
      "style": "IPY_MODEL_89626114f89643b1805a7e6d26ae3dd9",
      "value": 0
     }
    },
    "683131e578d947b39eb0b22dd398a1b9": {
     "model_module": "@jupyter-widgets/controls",
     "model_module_version": "1.5.0",
     "model_name": "DescriptionStyleModel",
     "state": {
      "_model_module": "@jupyter-widgets/controls",
      "_model_module_version": "1.5.0",
      "_model_name": "DescriptionStyleModel",
      "_view_count": null,
      "_view_module": "@jupyter-widgets/base",
      "_view_module_version": "1.2.0",
      "_view_name": "StyleView",
      "description_width": ""
     }
    },
    "7126439ed8d94db3b8ce055b88785c6c": {
     "model_module": "@jupyter-widgets/base",
     "model_module_version": "1.2.0",
     "model_name": "LayoutModel",
     "state": {
      "_model_module": "@jupyter-widgets/base",
      "_model_module_version": "1.2.0",
      "_model_name": "LayoutModel",
      "_view_count": null,
      "_view_module": "@jupyter-widgets/base",
      "_view_module_version": "1.2.0",
      "_view_name": "LayoutView",
      "align_content": null,
      "align_items": null,
      "align_self": null,
      "border": null,
      "bottom": null,
      "display": null,
      "flex": null,
      "flex_flow": null,
      "grid_area": null,
      "grid_auto_columns": null,
      "grid_auto_flow": null,
      "grid_auto_rows": null,
      "grid_column": null,
      "grid_gap": null,
      "grid_row": null,
      "grid_template_areas": null,
      "grid_template_columns": null,
      "grid_template_rows": null,
      "height": null,
      "justify_content": null,
      "justify_items": null,
      "left": null,
      "margin": null,
      "max_height": null,
      "max_width": null,
      "min_height": null,
      "min_width": null,
      "object_fit": null,
      "object_position": null,
      "order": null,
      "overflow": null,
      "overflow_x": null,
      "overflow_y": null,
      "padding": null,
      "right": null,
      "top": null,
      "visibility": null,
      "width": null
     }
    },
    "76255c57ac544b978e80eba0fc2a4a7e": {
     "model_module": "@jupyter-widgets/controls",
     "model_module_version": "1.5.0",
     "model_name": "HBoxModel",
     "state": {
      "_dom_classes": [],
      "_model_module": "@jupyter-widgets/controls",
      "_model_module_version": "1.5.0",
      "_model_name": "HBoxModel",
      "_view_count": null,
      "_view_module": "@jupyter-widgets/controls",
      "_view_module_version": "1.5.0",
      "_view_name": "HBoxView",
      "box_style": "",
      "children": [
       "IPY_MODEL_80189655781842ecb242184f51e4609b",
       "IPY_MODEL_4ec3c048f1724e49a88585a0dfbd2cc2",
       "IPY_MODEL_a2ce08f4e70c4f539badc5cb61c5cf67"
      ],
      "layout": "IPY_MODEL_2b0175019126477f94635eed1566946c"
     }
    },
    "80189655781842ecb242184f51e4609b": {
     "model_module": "@jupyter-widgets/controls",
     "model_module_version": "1.5.0",
     "model_name": "HTMLModel",
     "state": {
      "_dom_classes": [],
      "_model_module": "@jupyter-widgets/controls",
      "_model_module_version": "1.5.0",
      "_model_name": "HTMLModel",
      "_view_count": null,
      "_view_module": "@jupyter-widgets/controls",
      "_view_module_version": "1.5.0",
      "_view_name": "HTMLView",
      "description": "",
      "description_tooltip": null,
      "layout": "IPY_MODEL_1b6c06099ab44f66a25bf92f4045a12a",
      "placeholder": "​",
      "style": "IPY_MODEL_97db5da2b1dd45868e9a0f5fe2e7b542",
      "value": "Epoch:   0%"
     }
    },
    "89626114f89643b1805a7e6d26ae3dd9": {
     "model_module": "@jupyter-widgets/controls",
     "model_module_version": "1.5.0",
     "model_name": "ProgressStyleModel",
     "state": {
      "_model_module": "@jupyter-widgets/controls",
      "_model_module_version": "1.5.0",
      "_model_name": "ProgressStyleModel",
      "_view_count": null,
      "_view_module": "@jupyter-widgets/base",
      "_view_module_version": "1.2.0",
      "_view_name": "StyleView",
      "bar_color": null,
      "description_width": ""
     }
    },
    "91daa9de58b94705a91ff221f5998c38": {
     "model_module": "@jupyter-widgets/controls",
     "model_module_version": "1.5.0",
     "model_name": "HBoxModel",
     "state": {
      "_dom_classes": [],
      "_model_module": "@jupyter-widgets/controls",
      "_model_module_version": "1.5.0",
      "_model_name": "HBoxModel",
      "_view_count": null,
      "_view_module": "@jupyter-widgets/controls",
      "_view_module_version": "1.5.0",
      "_view_name": "HBoxView",
      "box_style": "",
      "children": [
       "IPY_MODEL_f05959fe18a24c288f529375ee93260c",
       "IPY_MODEL_366c55661bbc4da39b12ee7a31145bbd",
       "IPY_MODEL_2456d966046a453e8a2603cf661cb4cc"
      ],
      "layout": "IPY_MODEL_f88341d933b54eabb5bc957d5cbe29df"
     }
    },
    "97db5da2b1dd45868e9a0f5fe2e7b542": {
     "model_module": "@jupyter-widgets/controls",
     "model_module_version": "1.5.0",
     "model_name": "DescriptionStyleModel",
     "state": {
      "_model_module": "@jupyter-widgets/controls",
      "_model_module_version": "1.5.0",
      "_model_name": "DescriptionStyleModel",
      "_view_count": null,
      "_view_module": "@jupyter-widgets/base",
      "_view_module_version": "1.2.0",
      "_view_name": "StyleView",
      "description_width": ""
     }
    },
    "a2ce08f4e70c4f539badc5cb61c5cf67": {
     "model_module": "@jupyter-widgets/controls",
     "model_module_version": "1.5.0",
     "model_name": "HTMLModel",
     "state": {
      "_dom_classes": [],
      "_model_module": "@jupyter-widgets/controls",
      "_model_module_version": "1.5.0",
      "_model_name": "HTMLModel",
      "_view_count": null,
      "_view_module": "@jupyter-widgets/controls",
      "_view_module_version": "1.5.0",
      "_view_name": "HTMLView",
      "description": "",
      "description_tooltip": null,
      "layout": "IPY_MODEL_15ec5a4b68b44a07bb18949b49e77010",
      "placeholder": "​",
      "style": "IPY_MODEL_2ee4bc90fa3f42a59772d0994a14f587",
      "value": " 0/1000000 [00:05&lt;?, ?it/s]"
     }
    },
    "b9e8a10fd3cd443e8720c5022d9f525d": {
     "model_module": "@jupyter-widgets/base",
     "model_module_version": "1.2.0",
     "model_name": "LayoutModel",
     "state": {
      "_model_module": "@jupyter-widgets/base",
      "_model_module_version": "1.2.0",
      "_model_name": "LayoutModel",
      "_view_count": null,
      "_view_module": "@jupyter-widgets/base",
      "_view_module_version": "1.2.0",
      "_view_name": "LayoutView",
      "align_content": null,
      "align_items": null,
      "align_self": null,
      "border": null,
      "bottom": null,
      "display": null,
      "flex": null,
      "flex_flow": null,
      "grid_area": null,
      "grid_auto_columns": null,
      "grid_auto_flow": null,
      "grid_auto_rows": null,
      "grid_column": null,
      "grid_gap": null,
      "grid_row": null,
      "grid_template_areas": null,
      "grid_template_columns": null,
      "grid_template_rows": null,
      "height": null,
      "justify_content": null,
      "justify_items": null,
      "left": null,
      "margin": null,
      "max_height": null,
      "max_width": null,
      "min_height": null,
      "min_width": null,
      "object_fit": null,
      "object_position": null,
      "order": null,
      "overflow": null,
      "overflow_x": null,
      "overflow_y": null,
      "padding": null,
      "right": null,
      "top": null,
      "visibility": null,
      "width": null
     }
    },
    "cc69ac517fcd4eddb60add5ec79a2b99": {
     "model_module": "@jupyter-widgets/controls",
     "model_module_version": "1.5.0",
     "model_name": "ProgressStyleModel",
     "state": {
      "_model_module": "@jupyter-widgets/controls",
      "_model_module_version": "1.5.0",
      "_model_name": "ProgressStyleModel",
      "_view_count": null,
      "_view_module": "@jupyter-widgets/base",
      "_view_module_version": "1.2.0",
      "_view_name": "StyleView",
      "bar_color": null,
      "description_width": ""
     }
    },
    "d62fdd2e5fc84b3aad6812ffd8673c71": {
     "model_module": "@jupyter-widgets/controls",
     "model_module_version": "1.5.0",
     "model_name": "DescriptionStyleModel",
     "state": {
      "_model_module": "@jupyter-widgets/controls",
      "_model_module_version": "1.5.0",
      "_model_name": "DescriptionStyleModel",
      "_view_count": null,
      "_view_module": "@jupyter-widgets/base",
      "_view_module_version": "1.2.0",
      "_view_name": "StyleView",
      "description_width": ""
     }
    },
    "e8599920bd50482aa222fd81748dcb06": {
     "model_module": "@jupyter-widgets/base",
     "model_module_version": "1.2.0",
     "model_name": "LayoutModel",
     "state": {
      "_model_module": "@jupyter-widgets/base",
      "_model_module_version": "1.2.0",
      "_model_name": "LayoutModel",
      "_view_count": null,
      "_view_module": "@jupyter-widgets/base",
      "_view_module_version": "1.2.0",
      "_view_name": "LayoutView",
      "align_content": null,
      "align_items": null,
      "align_self": null,
      "border": null,
      "bottom": null,
      "display": null,
      "flex": null,
      "flex_flow": null,
      "grid_area": null,
      "grid_auto_columns": null,
      "grid_auto_flow": null,
      "grid_auto_rows": null,
      "grid_column": null,
      "grid_gap": null,
      "grid_row": null,
      "grid_template_areas": null,
      "grid_template_columns": null,
      "grid_template_rows": null,
      "height": null,
      "justify_content": null,
      "justify_items": null,
      "left": null,
      "margin": null,
      "max_height": null,
      "max_width": null,
      "min_height": null,
      "min_width": null,
      "object_fit": null,
      "object_position": null,
      "order": null,
      "overflow": null,
      "overflow_x": null,
      "overflow_y": null,
      "padding": null,
      "right": null,
      "top": null,
      "visibility": null,
      "width": null
     }
    },
    "ee4bbb5d562440858acc034c910ea183": {
     "model_module": "@jupyter-widgets/base",
     "model_module_version": "1.2.0",
     "model_name": "LayoutModel",
     "state": {
      "_model_module": "@jupyter-widgets/base",
      "_model_module_version": "1.2.0",
      "_model_name": "LayoutModel",
      "_view_count": null,
      "_view_module": "@jupyter-widgets/base",
      "_view_module_version": "1.2.0",
      "_view_name": "LayoutView",
      "align_content": null,
      "align_items": null,
      "align_self": null,
      "border": null,
      "bottom": null,
      "display": null,
      "flex": null,
      "flex_flow": null,
      "grid_area": null,
      "grid_auto_columns": null,
      "grid_auto_flow": null,
      "grid_auto_rows": null,
      "grid_column": null,
      "grid_gap": null,
      "grid_row": null,
      "grid_template_areas": null,
      "grid_template_columns": null,
      "grid_template_rows": null,
      "height": null,
      "justify_content": null,
      "justify_items": null,
      "left": null,
      "margin": null,
      "max_height": null,
      "max_width": null,
      "min_height": null,
      "min_width": null,
      "object_fit": null,
      "object_position": null,
      "order": null,
      "overflow": null,
      "overflow_x": null,
      "overflow_y": null,
      "padding": null,
      "right": null,
      "top": null,
      "visibility": null,
      "width": null
     }
    },
    "f05959fe18a24c288f529375ee93260c": {
     "model_module": "@jupyter-widgets/controls",
     "model_module_version": "1.5.0",
     "model_name": "HTMLModel",
     "state": {
      "_dom_classes": [],
      "_model_module": "@jupyter-widgets/controls",
      "_model_module_version": "1.5.0",
      "_model_name": "HTMLModel",
      "_view_count": null,
      "_view_module": "@jupyter-widgets/controls",
      "_view_module_version": "1.5.0",
      "_view_name": "HTMLView",
      "description": "",
      "description_tooltip": null,
      "layout": "IPY_MODEL_7126439ed8d94db3b8ce055b88785c6c",
      "placeholder": "​",
      "style": "IPY_MODEL_683131e578d947b39eb0b22dd398a1b9",
      "value": "Iteration:   0%"
     }
    },
    "f88341d933b54eabb5bc957d5cbe29df": {
     "model_module": "@jupyter-widgets/base",
     "model_module_version": "1.2.0",
     "model_name": "LayoutModel",
     "state": {
      "_model_module": "@jupyter-widgets/base",
      "_model_module_version": "1.2.0",
      "_model_name": "LayoutModel",
      "_view_count": null,
      "_view_module": "@jupyter-widgets/base",
      "_view_module_version": "1.2.0",
      "_view_name": "LayoutView",
      "align_content": null,
      "align_items": null,
      "align_self": null,
      "border": null,
      "bottom": null,
      "display": null,
      "flex": null,
      "flex_flow": null,
      "grid_area": null,
      "grid_auto_columns": null,
      "grid_auto_flow": null,
      "grid_auto_rows": null,
      "grid_column": null,
      "grid_gap": null,
      "grid_row": null,
      "grid_template_areas": null,
      "grid_template_columns": null,
      "grid_template_rows": null,
      "height": null,
      "justify_content": null,
      "justify_items": null,
      "left": null,
      "margin": null,
      "max_height": null,
      "max_width": null,
      "min_height": null,
      "min_width": null,
      "object_fit": null,
      "object_position": null,
      "order": null,
      "overflow": null,
      "overflow_x": null,
      "overflow_y": null,
      "padding": null,
      "right": null,
      "top": null,
      "visibility": null,
      "width": null
     }
    }
   }
  }
 },
 "nbformat": 4,
 "nbformat_minor": 4
}
